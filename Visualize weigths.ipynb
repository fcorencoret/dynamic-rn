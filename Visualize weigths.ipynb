{
 "cells": [
  {
   "cell_type": "code",
   "execution_count": 1,
   "metadata": {},
   "outputs": [],
   "source": [
    "%load_ext autoreload\n",
    "%autoreload 2"
   ]
  },
  {
   "cell_type": "code",
   "execution_count": 22,
   "metadata": {},
   "outputs": [
    {
     "name": "stdout",
     "output_type": "stream",
     "text": [
      "/bin/sh: 1: yum: not found\r\n"
     ]
    }
   ],
   "source": [
    "!yum"
   ]
  },
  {
   "cell_type": "code",
   "execution_count": 16,
   "metadata": {},
   "outputs": [
    {
     "name": "stdout",
     "output_type": "stream",
     "text": [
      "Collecting python-openstackclient\n",
      "\u001b[?25l  Downloading https://files.pythonhosted.org/packages/02/c5/06dea47310816f477afe84f45ee05ad5f4ae18940e601fa8244e39b8ddee/python_openstackclient-3.19.0-py2.py3-none-any.whl (874kB)\n",
      "\u001b[K     |████████████████████████████████| 880kB 7.8MB/s eta 0:00:01\n",
      "\u001b[?25hCollecting python-cinderclient>=3.3.0 (from python-openstackclient)\n",
      "\u001b[?25l  Downloading https://files.pythonhosted.org/packages/60/ac/f507662cf2b7ebdcd4dd352d345dc452118654d4d2217911a9b93d411961/python_cinderclient-4.2.1-py2.py3-none-any.whl (330kB)\n",
      "\u001b[K     |████████████████████████████████| 337kB 46.4MB/s eta 0:00:01\n",
      "\u001b[?25hCollecting keystoneauth1>=3.6.2 (from python-openstackclient)\n",
      "\u001b[?25l  Downloading https://files.pythonhosted.org/packages/82/5f/dfe94862bc9ecedbfcd4d64e69e6b4e27f1040a7b326d912b4c2916d1c0b/keystoneauth1-3.15.0-py2.py3-none-any.whl (304kB)\n",
      "\u001b[K     |████████████████████████████████| 307kB 55.7MB/s eta 0:00:01\n",
      "\u001b[?25hCollecting oslo.i18n>=3.15.3 (from python-openstackclient)\n",
      "\u001b[?25l  Downloading https://files.pythonhosted.org/packages/61/eb/4732a0f12850ef5ada812d4920c6801b7e394f14969864a91927ed853a2f/oslo.i18n-3.23.1-py2.py3-none-any.whl (46kB)\n",
      "\u001b[K     |████████████████████████████████| 51kB 37.2MB/s eta 0:00:01\n",
      "\u001b[?25hCollecting pbr!=2.1.0,>=2.0.0 (from python-openstackclient)\n",
      "\u001b[?25l  Downloading https://files.pythonhosted.org/packages/8b/67/bb6fe2e2c66585acb4dd2b57f50c8db65848f737f63b04cb35f0627bce5e/pbr-5.4.1-py2.py3-none-any.whl (108kB)\n",
      "\u001b[K     |████████████████████████████████| 112kB 66.7MB/s eta 0:00:01\n",
      "\u001b[?25hCollecting Babel!=2.4.0,>=2.3.4 (from python-openstackclient)\n",
      "\u001b[?25l  Downloading https://files.pythonhosted.org/packages/2c/60/f2af68eb046c5de5b1fe6dd4743bf42c074f7141fe7b2737d3061533b093/Babel-2.7.0-py2.py3-none-any.whl (8.4MB)\n",
      "\u001b[K     |████████████████████████████████| 8.4MB 60.7MB/s eta 0:00:01\n",
      "\u001b[?25hCollecting python-keystoneclient>=3.17.0 (from python-openstackclient)\n",
      "\u001b[?25l  Downloading https://files.pythonhosted.org/packages/bb/0f/e96567b5a0b604c36a34a14ea1c7871b101f808f1c34fa70b99ab841e568/python_keystoneclient-3.20.0-py2.py3-none-any.whl (394kB)\n",
      "\u001b[K     |████████████████████████████████| 399kB 42.7MB/s eta 0:00:01\n",
      "\u001b[?25hCollecting oslo.utils>=3.33.0 (from python-openstackclient)\n",
      "\u001b[?25l  Downloading https://files.pythonhosted.org/packages/9f/87/0f36497a282db6d6e58d1b80a2ab509a0709c4e1cddd44bcb31f054f4d8b/oslo.utils-3.41.0-py2.py3-none-any.whl (99kB)\n",
      "\u001b[K     |████████████████████████████████| 102kB 21.4MB/s ta 0:00:01\n",
      "\u001b[?25hCollecting cliff!=2.9.0,>=2.8.0 (from python-openstackclient)\n",
      "\u001b[?25l  Downloading https://files.pythonhosted.org/packages/17/be/3367bc6ec122a2d9c2a6d87ca16fa404c034955a3acc932b52fbd9caf928/cliff-2.15.0-py2.py3-none-any.whl (78kB)\n",
      "\u001b[K     |████████████████████████████████| 81kB 45.5MB/s eta 0:00:01\n",
      "\u001b[?25hRequirement already satisfied, skipping upgrade: six>=1.10.0 in /home/rmanterola/virtualenv/RN/lib/python3.7/site-packages (from python-openstackclient) (1.12.0)\n",
      "Collecting osc-lib>=1.10.0 (from python-openstackclient)\n",
      "\u001b[?25l  Downloading https://files.pythonhosted.org/packages/2b/95/d7d88b69287cfef2c0946fe6c454e707abfeffaf53ba53722eaf29b867a1/osc_lib-1.13.0-py2.py3-none-any.whl (87kB)\n",
      "\u001b[K     |████████████████████████████████| 92kB 37.5MB/s eta 0:00:01\n",
      "\u001b[?25hCollecting openstacksdk>=0.17.0 (from python-openstackclient)\n",
      "\u001b[?25l  Downloading https://files.pythonhosted.org/packages/1a/02/f39d0db50f2efdbe113f646588c4555abdaa21b4334456794e58e3745156/openstacksdk-0.31.2-py2.py3-none-any.whl (1.2MB)\n",
      "\u001b[K     |████████████████████████████████| 1.2MB 43.9MB/s eta 0:00:01\n",
      "\u001b[?25hCollecting python-glanceclient>=2.8.0 (from python-openstackclient)\n",
      "\u001b[?25l  Downloading https://files.pythonhosted.org/packages/95/9f/d89598e6145cd381e24082214fc8a0699bce318f1c8d22001a120c5d92ef/python_glanceclient-2.16.0-py2.py3-none-any.whl (195kB)\n",
      "\u001b[K     |████████████████████████████████| 204kB 54.7MB/s eta 0:00:01\n",
      "\u001b[?25hCollecting python-novaclient>=10.0.0 (from python-openstackclient)\n",
      "\u001b[?25l  Downloading https://files.pythonhosted.org/packages/d5/6c/8f34f3f703c83eb2e6f0b8b6e7171e955b4aca83bb314cfff20219909b79/python_novaclient-14.2.0-py2.py3-none-any.whl (327kB)\n",
      "\u001b[K     |████████████████████████████████| 327kB 56.3MB/s eta 0:00:01\n",
      "\u001b[?25hCollecting simplejson>=3.5.1 (from python-cinderclient>=3.3.0->python-openstackclient)\n",
      "\u001b[?25l  Downloading https://files.pythonhosted.org/packages/e3/24/c35fb1c1c315fc0fffe61ea00d3f88e85469004713dab488dee4f35b0aff/simplejson-3.16.0.tar.gz (81kB)\n",
      "\u001b[K     |████████████████████████████████| 81kB 46.0MB/s eta 0:00:01\n",
      "\u001b[?25hRequirement already satisfied, skipping upgrade: requests!=2.20.0,>=2.14.2 in /home/rmanterola/virtualenv/RN/lib/python3.7/site-packages (from python-cinderclient>=3.3.0->python-openstackclient) (2.22.0)\n",
      "Collecting PrettyTable<0.8,>=0.7.1 (from python-cinderclient>=3.3.0->python-openstackclient)\n",
      "  Downloading https://files.pythonhosted.org/packages/ef/30/4b0746848746ed5941f052479e7c23d2b56d174b82f4fd34a25e389831f5/prettytable-0.7.2.tar.bz2\n",
      "Collecting iso8601>=0.1.11 (from keystoneauth1>=3.6.2->python-openstackclient)\n",
      "  Downloading https://files.pythonhosted.org/packages/ef/57/7162609dab394d38bbc7077b7ba0a6f10fb09d8b7701ea56fa1edc0c4345/iso8601-0.1.12-py2.py3-none-any.whl\n",
      "Collecting stevedore>=1.20.0 (from keystoneauth1>=3.6.2->python-openstackclient)\n",
      "\u001b[?25l  Downloading https://files.pythonhosted.org/packages/c6/dc/6ee92bccfe3c0448786b30b693e6060d62ec8c4a3ec9a287bac1c1a8d8c9/stevedore-1.30.1-py2.py3-none-any.whl (42kB)\n",
      "\u001b[K     |████████████████████████████████| 51kB 36.6MB/s eta 0:00:01\n",
      "\u001b[?25hCollecting os-service-types>=1.2.0 (from keystoneauth1>=3.6.2->python-openstackclient)\n",
      "  Downloading https://files.pythonhosted.org/packages/10/2d/318b2b631f68e0fc221ba8f45d163bf810cdb795cf242fe85ad3e5d45639/os_service_types-1.7.0-py2.py3-none-any.whl\n",
      "Collecting pytz>=2015.7 (from Babel!=2.4.0,>=2.3.4->python-openstackclient)\n",
      "  Using cached https://files.pythonhosted.org/packages/3d/73/fe30c2daaaa0713420d0382b16fbb761409f532c56bdcc514bf7b6262bb6/pytz-2019.1-py2.py3-none-any.whl\n",
      "Collecting debtcollector>=1.2.0 (from python-keystoneclient>=3.17.0->python-openstackclient)\n",
      "  Downloading https://files.pythonhosted.org/packages/59/33/d2a0fb2e8b1b51cec64e121ba4bbe0e3abdc597732074d425e0bde4aadb8/debtcollector-1.21.0-py2.py3-none-any.whl\n",
      "Collecting oslo.config>=5.2.0 (from python-keystoneclient>=3.17.0->python-openstackclient)\n",
      "\u001b[?25l  Downloading https://files.pythonhosted.org/packages/6f/7c/ebba93a2d3e09fd0220e1adfdb8230142f4e21d1527e5b06aa353dc27719/oslo.config-6.11.0-py2.py3-none-any.whl (131kB)\n",
      "\u001b[K     |████████████████████████████████| 133kB 61.0MB/s eta 0:00:01\n",
      "\u001b[?25hCollecting oslo.serialization!=2.19.1,>=2.18.0 (from python-keystoneclient>=3.17.0->python-openstackclient)\n",
      "  Downloading https://files.pythonhosted.org/packages/bc/ad/7401e409d946469a9ad90aef8c98e5d39abea9c24e4db803285f9c7d726c/oslo.serialization-2.29.1-py2.py3-none-any.whl\n",
      "Collecting pyparsing>=2.1.0 (from oslo.utils>=3.33.0->python-openstackclient)\n",
      "\u001b[?25l  Downloading https://files.pythonhosted.org/packages/ff/2c/afc36631a9e0dc9f2b8bd4c19fa2d330cbe07d6679a1c0910418a200acad/pyparsing-2.4.1.1-py2.py3-none-any.whl (64kB)\n",
      "\u001b[K     |████████████████████████████████| 71kB 41.7MB/s eta 0:00:01\n",
      "\u001b[?25hCollecting netaddr>=0.7.18 (from oslo.utils>=3.33.0->python-openstackclient)\n",
      "\u001b[?25l  Downloading https://files.pythonhosted.org/packages/ba/97/ce14451a9fd7bdb5a397abf99b24a1a6bb7a1a440b019bebd2e9a0dbec74/netaddr-0.7.19-py2.py3-none-any.whl (1.6MB)\n",
      "\u001b[K     |████████████████████████████████| 1.6MB 51.6MB/s eta 0:00:01\n",
      "\u001b[?25hCollecting netifaces>=0.10.4 (from oslo.utils>=3.33.0->python-openstackclient)\n",
      "  Using cached https://files.pythonhosted.org/packages/0d/18/fd6e9c71a35b67a73160ec80a49da63d1eed2d2055054cc2995714949132/netifaces-0.10.9.tar.gz\n",
      "Collecting cmd2!=0.8.3; python_version >= \"3.0\" (from cliff!=2.9.0,>=2.8.0->python-openstackclient)\n",
      "\u001b[?25l  Downloading https://files.pythonhosted.org/packages/98/38/bd03a35eeb13e2db113cfc65e37fbbe53586f141f55cfefc3a706a1de34d/cmd2-0.9.15-py3-none-any.whl (101kB)\n",
      "\u001b[K     |████████████████████████████████| 102kB 46.8MB/s ta 0:00:01\n",
      "\u001b[?25hCollecting PyYAML>=3.12 (from cliff!=2.9.0,>=2.8.0->python-openstackclient)\n"
     ]
    },
    {
     "name": "stdout",
     "output_type": "stream",
     "text": [
      "\u001b[?25l  Downloading https://files.pythonhosted.org/packages/a3/65/837fefac7475963d1eccf4aa684c23b95aa6c1d033a2c5965ccb11e22623/PyYAML-5.1.1.tar.gz (274kB)\n",
      "\u001b[K     |████████████████████████████████| 276kB 55.0MB/s eta 0:00:01\n",
      "\u001b[?25hCollecting munch>=2.1.0 (from openstacksdk>=0.17.0->python-openstackclient)\n",
      "  Downloading https://files.pythonhosted.org/packages/68/f4/260ec98ea840757a0da09e0ed8135333d59b8dfebe9752a365b04857660a/munch-2.3.2.tar.gz\n",
      "Requirement already satisfied, skipping upgrade: decorator>=3.4.0 in /home/rmanterola/virtualenv/RN/lib/python3.7/site-packages (from openstacksdk>=0.17.0->python-openstackclient) (4.4.0)\n",
      "Collecting dogpile.cache>=0.6.2 (from openstacksdk>=0.17.0->python-openstackclient)\n",
      "\u001b[?25l  Downloading https://files.pythonhosted.org/packages/84/3e/dbf1cfc5228f1d3dca80ef714db2c5aaec5cd9efaf54d7e3daef6bc48b19/dogpile.cache-0.7.1.tar.gz (326kB)\n",
      "\u001b[K     |████████████████████████████████| 327kB 39.7MB/s eta 0:00:01\n",
      "\u001b[?25hCollecting appdirs>=1.3.0 (from openstacksdk>=0.17.0->python-openstackclient)\n",
      "  Downloading https://files.pythonhosted.org/packages/56/eb/810e700ed1349edde4cbdc1b2a21e28cdf115f9faf263f6bbf8447c1abf3/appdirs-1.4.3-py2.py3-none-any.whl\n",
      "Collecting jsonpatch!=1.20,>=1.16 (from openstacksdk>=0.17.0->python-openstackclient)\n",
      "  Downloading https://files.pythonhosted.org/packages/86/7e/035d19a73306278673039f0805b863be8798057cc1b4008b9c8c7d1d32a3/jsonpatch-1.24-py2.py3-none-any.whl\n",
      "Collecting cryptography>=2.1 (from openstacksdk>=0.17.0->python-openstackclient)\n",
      "\u001b[?25l  Downloading https://files.pythonhosted.org/packages/97/18/c6557f63a6abde34707196fb2cad1c6dc0dbff25a200d5044922496668a4/cryptography-2.7-cp34-abi3-manylinux1_x86_64.whl (2.3MB)\n",
      "\u001b[K     |████████████████████████████████| 2.3MB 51.5MB/s eta 0:00:01\n",
      "\u001b[?25hCollecting jmespath>=0.9.0 (from openstacksdk>=0.17.0->python-openstackclient)\n",
      "  Downloading https://files.pythonhosted.org/packages/83/94/7179c3832a6d45b266ddb2aac329e101367fbdb11f425f13771d27f225bb/jmespath-0.9.4-py2.py3-none-any.whl\n",
      "Collecting requestsexceptions>=1.2.0 (from openstacksdk>=0.17.0->python-openstackclient)\n",
      "  Downloading https://files.pythonhosted.org/packages/01/8c/49ca60ea8c907260da4662582c434bec98716177674e88df3fd340acf06d/requestsexceptions-1.4.0-py2.py3-none-any.whl\n",
      "Collecting warlock<2,>=1.2.0 (from python-glanceclient>=2.8.0->python-openstackclient)\n",
      "  Downloading https://files.pythonhosted.org/packages/c2/36/178b26a338cd6d30523246da4721b1114306f588deb813f3f503052825ee/warlock-1.3.3.tar.gz\n",
      "Collecting pyOpenSSL>=17.1.0 (from python-glanceclient>=2.8.0->python-openstackclient)\n",
      "\u001b[?25l  Downloading https://files.pythonhosted.org/packages/01/c8/ceb170d81bd3941cbeb9940fc6cc2ef2ca4288d0ca8929ea4db5905d904d/pyOpenSSL-19.0.0-py2.py3-none-any.whl (53kB)\n",
      "\u001b[K     |████████████████████████████████| 61kB 38.3MB/s eta 0:00:01\n",
      "\u001b[?25hCollecting wrapt>=1.7.0 (from python-glanceclient>=2.8.0->python-openstackclient)\n",
      "  Downloading https://files.pythonhosted.org/packages/23/84/323c2415280bc4fc880ac5050dddfb3c8062c2552b34c2e512eb4aa68f79/wrapt-1.11.2.tar.gz\n",
      "Requirement already satisfied, skipping upgrade: urllib3!=1.25.0,!=1.25.1,<1.26,>=1.21.1 in /home/rmanterola/virtualenv/RN/lib/python3.7/site-packages (from requests!=2.20.0,>=2.14.2->python-cinderclient>=3.3.0->python-openstackclient) (1.25.3)\n",
      "Requirement already satisfied, skipping upgrade: chardet<3.1.0,>=3.0.2 in /home/rmanterola/virtualenv/RN/lib/python3.7/site-packages (from requests!=2.20.0,>=2.14.2->python-cinderclient>=3.3.0->python-openstackclient) (3.0.4)\n",
      "Requirement already satisfied, skipping upgrade: idna<2.9,>=2.5 in /home/rmanterola/virtualenv/RN/lib/python3.7/site-packages (from requests!=2.20.0,>=2.14.2->python-cinderclient>=3.3.0->python-openstackclient) (2.8)\n",
      "Requirement already satisfied, skipping upgrade: certifi>=2017.4.17 in /home/rmanterola/virtualenv/RN/lib/python3.7/site-packages (from requests!=2.20.0,>=2.14.2->python-cinderclient>=3.3.0->python-openstackclient) (2019.6.16)\n",
      "Collecting rfc3986>=1.2.0 (from oslo.config>=5.2.0->python-keystoneclient>=3.17.0->python-openstackclient)\n",
      "  Downloading https://files.pythonhosted.org/packages/00/8d/9d56bfe43997f1864fe0891be69bc239ded98e69c9f56eb9eaa5b1789660/rfc3986-1.3.2-py2.py3-none-any.whl\n",
      "Collecting msgpack>=0.5.2 (from oslo.serialization!=2.19.1,>=2.18.0->python-keystoneclient>=3.17.0->python-openstackclient)\n",
      "\u001b[?25l  Downloading https://files.pythonhosted.org/packages/a8/7b/630049fc4af9e68a625738612edc264ce7cb586c5001a2d4d2209a4f61c1/msgpack-0.6.1-cp37-cp37m-manylinux1_x86_64.whl (245kB)\n",
      "\u001b[K     |████████████████████████████████| 245kB 44.2MB/s eta 0:00:01\n",
      "\u001b[?25hRequirement already satisfied, skipping upgrade: attrs>=16.3.0 in /home/rmanterola/virtualenv/RN/lib/python3.7/site-packages (from cmd2!=0.8.3; python_version >= \"3.0\"->cliff!=2.9.0,>=2.8.0->python-openstackclient) (19.1.0)\n",
      "Collecting pyperclip>=1.6 (from cmd2!=0.8.3; python_version >= \"3.0\"->cliff!=2.9.0,>=2.8.0->python-openstackclient)\n",
      "  Downloading https://files.pythonhosted.org/packages/2d/0f/4eda562dffd085945d57c2d9a5da745cfb5228c02bc90f2c74bbac746243/pyperclip-1.7.0.tar.gz\n",
      "Collecting colorama>=0.3.7 (from cmd2!=0.8.3; python_version >= \"3.0\"->cliff!=2.9.0,>=2.8.0->python-openstackclient)\n",
      "  Downloading https://files.pythonhosted.org/packages/4f/a6/728666f39bfff1719fc94c481890b2106837da9318031f71a8424b662e12/colorama-0.4.1-py2.py3-none-any.whl\n",
      "Requirement already satisfied, skipping upgrade: wcwidth>=0.1.7 in /home/rmanterola/virtualenv/RN/lib/python3.7/site-packages (from cmd2!=0.8.3; python_version >= \"3.0\"->cliff!=2.9.0,>=2.8.0->python-openstackclient) (0.1.7)\n",
      "Collecting jsonpointer>=1.9 (from jsonpatch!=1.20,>=1.16->openstacksdk>=0.17.0->python-openstackclient)\n",
      "  Downloading https://files.pythonhosted.org/packages/18/b0/a80d29577c08eea401659254dfaed87f1af45272899e1812d7e01b679bc5/jsonpointer-2.0-py2.py3-none-any.whl\n",
      "Collecting cffi!=1.11.3,>=1.8 (from cryptography>=2.1->openstacksdk>=0.17.0->python-openstackclient)\n",
      "\u001b[?25l  Downloading https://files.pythonhosted.org/packages/a0/ea/37fe21475c884f88a2ae496cab10e8f84f0cc11137be860af9eb37a3edb9/cffi-1.12.3-cp37-cp37m-manylinux1_x86_64.whl (430kB)\n",
      "\u001b[K     |████████████████████████████████| 440kB 47.5MB/s eta 0:00:01\n",
      "\u001b[?25hCollecting asn1crypto>=0.21.0 (from cryptography>=2.1->openstacksdk>=0.17.0->python-openstackclient)\n",
      "\u001b[?25l  Downloading https://files.pythonhosted.org/packages/ea/cd/35485615f45f30a510576f1a56d1e0a7ad7bd8ab5ed7cdc600ef7cd06222/asn1crypto-0.24.0-py2.py3-none-any.whl (101kB)\n",
      "\u001b[K     |████████████████████████████████| 102kB 39.1MB/s ta 0:00:01\n",
      "\u001b[?25hRequirement already satisfied, skipping upgrade: jsonschema<4,>=0.7 in /home/rmanterola/virtualenv/RN/lib/python3.7/site-packages (from warlock<2,>=1.2.0->python-glanceclient>=2.8.0->python-openstackclient) (3.0.1)\n",
      "Collecting pycparser (from cffi!=1.11.3,>=1.8->cryptography>=2.1->openstacksdk>=0.17.0->python-openstackclient)\n",
      "\u001b[?25l  Downloading https://files.pythonhosted.org/packages/68/9e/49196946aee219aead1290e00d1e7fdeab8567783e83e1b9ab5585e6206a/pycparser-2.19.tar.gz (158kB)\n",
      "\u001b[K     |████████████████████████████████| 163kB 55.1MB/s eta 0:00:01\n",
      "\u001b[?25hRequirement already satisfied, skipping upgrade: pyrsistent>=0.14.0 in /home/rmanterola/virtualenv/RN/lib/python3.7/site-packages (from jsonschema<4,>=0.7->warlock<2,>=1.2.0->python-glanceclient>=2.8.0->python-openstackclient) (0.15.4)\n",
      "Requirement already satisfied, skipping upgrade: setuptools in /home/rmanterola/virtualenv/RN/lib/python3.7/site-packages (from jsonschema<4,>=0.7->warlock<2,>=1.2.0->python-glanceclient>=2.8.0->python-openstackclient) (41.0.1)\n",
      "Building wheels for collected packages: simplejson, PrettyTable, netifaces, PyYAML, munch, dogpile.cache, warlock, wrapt, pyperclip, pycparser\n",
      "  Building wheel for simplejson (setup.py) ... \u001b[?25ldone\n",
      "\u001b[?25h  Created wheel for simplejson: filename=simplejson-3.16.0-cp37-none-any.whl size=55273 sha256=13ba337246535c722401177ca808c052c0434ccb403c33e394d22378497a00c2\n",
      "  Stored in directory: /home/rmanterola/.cache/pip/wheels/5d/1a/1e/0350bb3df3e74215cd91325344cc86c2c691f5306eb4d22c77\n",
      "  Building wheel for PrettyTable (setup.py) ... \u001b[?25ldone\n",
      "\u001b[?25h  Created wheel for PrettyTable: filename=prettytable-0.7.2-cp37-none-any.whl size=13702 sha256=ba8f36c665139515b2cb3360e4d367b0a1b5cfbb69fd07e2cf985fa59a5449ea\n",
      "  Stored in directory: /home/rmanterola/.cache/pip/wheels/80/34/1c/3967380d9676d162cb59513bd9dc862d0584e045a162095606\n"
     ]
    },
    {
     "name": "stdout",
     "output_type": "stream",
     "text": [
      "  Building wheel for netifaces (setup.py) ... \u001b[?25lerror\n",
      "\u001b[31m  ERROR: Command errored out with exit status 1:\n",
      "   command: /home/rmanterola/virtualenv/RN/bin/python3.7 -u -c 'import sys, setuptools, tokenize; sys.argv[0] = '\"'\"'/tmp/pip-install-8sv_bby2/netifaces/setup.py'\"'\"'; __file__='\"'\"'/tmp/pip-install-8sv_bby2/netifaces/setup.py'\"'\"';f=getattr(tokenize, '\"'\"'open'\"'\"', open)(__file__);code=f.read().replace('\"'\"'\\r\\n'\"'\"', '\"'\"'\\n'\"'\"');f.close();exec(compile(code, __file__, '\"'\"'exec'\"'\"'))' bdist_wheel -d /tmp/pip-wheel-bq6gtlvh --python-tag cp37\n",
      "       cwd: /tmp/pip-install-8sv_bby2/netifaces/\n",
      "  Complete output (20 lines):\n",
      "  running bdist_wheel\n",
      "  running build\n",
      "  running build_ext\n",
      "  checking for getifaddrs...found.\n",
      "  checking for getnameinfo...found.\n",
      "  checking for IPv6 socket IOCTLs...not found.\n",
      "  checking for optional header files...netash/ash.h netatalk/at.h netax25/ax25.h neteconet/ec.h netipx/ipx.h netpacket/packet.h netrose/rose.h linux/irda.h linux/atm.h linux/llc.h linux/tipc.h linux/dn.h.\n",
      "  checking whether struct sockaddr has a length field...no.\n",
      "  checking which sockaddr_xxx structs are defined...at ax25 in in6 ipx un rose ash ec ll atmpvc atmsvc dn irda llc.\n",
      "  checking for routing socket support...no.\n",
      "  checking for sysctl(CTL_NET...) support...no.\n",
      "  checking for netlink support...yes.\n",
      "  will use netlink to read routing table\n",
      "  building 'netifaces' extension\n",
      "  x86_64-linux-gnu-gcc -pthread -DNDEBUG -g -fwrapv -O2 -Wall -g -fstack-protector-strong -Wformat -Werror=format-security -Wdate-time -D_FORTIFY_SOURCE=2 -fPIC -DNETIFACES_VERSION=0.10.9 -DHAVE_GETIFADDRS=1 -DHAVE_GETNAMEINFO=1 -DHAVE_NETASH_ASH_H=1 -DHAVE_NETATALK_AT_H=1 -DHAVE_NETAX25_AX25_H=1 -DHAVE_NETECONET_EC_H=1 -DHAVE_NETIPX_IPX_H=1 -DHAVE_NETPACKET_PACKET_H=1 -DHAVE_NETROSE_ROSE_H=1 -DHAVE_LINUX_IRDA_H=1 -DHAVE_LINUX_ATM_H=1 -DHAVE_LINUX_LLC_H=1 -DHAVE_LINUX_TIPC_H=1 -DHAVE_LINUX_DN_H=1 -DHAVE_SOCKADDR_AT=1 -DHAVE_SOCKADDR_AX25=1 -DHAVE_SOCKADDR_IN=1 -DHAVE_SOCKADDR_IN6=1 -DHAVE_SOCKADDR_IPX=1 -DHAVE_SOCKADDR_UN=1 -DHAVE_SOCKADDR_ROSE=1 -DHAVE_SOCKADDR_ASH=1 -DHAVE_SOCKADDR_EC=1 -DHAVE_SOCKADDR_LL=1 -DHAVE_SOCKADDR_ATMPVC=1 -DHAVE_SOCKADDR_ATMSVC=1 -DHAVE_SOCKADDR_DN=1 -DHAVE_SOCKADDR_IRDA=1 -DHAVE_SOCKADDR_LLC=1 -DHAVE_PF_NETLINK=1 -I/usr/include/python3.7m -I/home/rmanterola/virtualenv/RN/include/python3.7m -c netifaces.c -o build/temp.linux-x86_64-3.7/netifaces.o\n",
      "  netifaces.c:1:10: fatal error: Python.h: No such file or directory\n",
      "   #include <Python.h>\n",
      "            ^~~~~~~~~~\n",
      "  compilation terminated.\n",
      "  error: command 'x86_64-linux-gnu-gcc' failed with exit status 1\n",
      "  ----------------------------------------\u001b[0m\n",
      "\u001b[31m  ERROR: Failed building wheel for netifaces\u001b[0m\n",
      "\u001b[?25h  Running setup.py clean for netifaces\n",
      "  Building wheel for PyYAML (setup.py) ... \u001b[?25ldone\n",
      "\u001b[?25h  Created wheel for PyYAML: filename=PyYAML-5.1.1-cp37-cp37m-linux_x86_64.whl size=44100 sha256=cde040b35519606d93c748ebbf3a27c3cdcf35c9dbd34a3765872b377c15baee\n",
      "  Stored in directory: /home/rmanterola/.cache/pip/wheels/16/27/a1/775c62ddea7bfa62324fd1f65847ed31c55dadb6051481ba3f\n",
      "  Building wheel for munch (setup.py) ... \u001b[?25ldone\n",
      "\u001b[?25h  Created wheel for munch: filename=munch-2.3.2-py2.py3-none-any.whl size=6613 sha256=858681f1eed34f85904dea6ef215a1fea8bac1118567df7deff95924f404fc0a\n",
      "  Stored in directory: /home/rmanterola/.cache/pip/wheels/db/bf/bc/06a3e1bfe0ab27d2e720ceb3cff3159398d92644c0cec2c125\n",
      "  Building wheel for dogpile.cache (setup.py) ... \u001b[?25ldone\n",
      "\u001b[?25h  Created wheel for dogpile.cache: filename=dogpile.cache-0.7.1-py2.py3-none-any.whl size=43822 sha256=8bf73c5b82c594a0ed90e16f4a4b6d3ae187c5cde8fb492561aa2b10936e464f\n",
      "  Stored in directory: /home/rmanterola/.cache/pip/wheels/6b/80/a0/87d93729f5cac879a2561ef73cf8036940787bd5734a0f2b82\n",
      "  Building wheel for warlock (setup.py) ... \u001b[?25ldone\n",
      "\u001b[?25h  Created wheel for warlock: filename=warlock-1.3.3-py2.py3-none-any.whl size=9819 sha256=d7c83df315afbfa6ffe8d04d6ba058fa6c5e93910259880db756e39b084a5c54\n",
      "  Stored in directory: /home/rmanterola/.cache/pip/wheels/07/5b/7f/aa3d5f762792f7e8f1d1fa6f03585da96b78f2cb9fe23f514a\n",
      "  Building wheel for wrapt (setup.py) ... \u001b[?25ldone\n",
      "\u001b[?25h  Created wheel for wrapt: filename=wrapt-1.11.2-cp37-none-any.whl size=19590 sha256=beaf01c619940d734d5252238bafa5433e800fa085334915abf20b099b8b8f3f\n",
      "  Stored in directory: /home/rmanterola/.cache/pip/wheels/d7/de/2e/efa132238792efb6459a96e85916ef8597fcb3d2ae51590dfd\n",
      "  Building wheel for pyperclip (setup.py) ... \u001b[?25ldone\n",
      "\u001b[?25h  Created wheel for pyperclip: filename=pyperclip-1.7.0-cp37-none-any.whl size=8360 sha256=0aaf1f5e856b1eed56ef945b52878c51c47c058b3cfbbe0ce1d33b5af101d3f9\n",
      "  Stored in directory: /home/rmanterola/.cache/pip/wheels/92/f0/ac/2ba2972034e98971c3654ece337ac61e546bdeb34ca960dc8c\n",
      "  Building wheel for pycparser (setup.py) ... \u001b[?25ldone\n",
      "\u001b[?25h  Created wheel for pycparser: filename=pycparser-2.19-py2.py3-none-any.whl size=111031 sha256=fc74d735664e7d056b70d2b60de2416407b276f86f68a45e66dca8259934520c\n",
      "  Stored in directory: /home/rmanterola/.cache/pip/wheels/f2/9a/90/de94f8556265ddc9d9c8b271b0f63e57b26fb1d67a45564511\n",
      "Successfully built simplejson PrettyTable PyYAML munch dogpile.cache warlock wrapt pyperclip pycparser\n",
      "Failed to build netifaces\n",
      "Installing collected packages: iso8601, pbr, stevedore, os-service-types, keystoneauth1, simplejson, pytz, Babel, oslo.i18n, wrapt, debtcollector, pyparsing, netaddr, netifaces, oslo.utils, PrettyTable, python-cinderclient, PyYAML, rfc3986, oslo.config, msgpack, oslo.serialization, python-keystoneclient, pyperclip, colorama, cmd2, cliff, munch, dogpile.cache, appdirs, jsonpointer, jsonpatch, pycparser, cffi, asn1crypto, cryptography, jmespath, requestsexceptions, openstacksdk, osc-lib, warlock, pyOpenSSL, python-glanceclient, python-novaclient, python-openstackclient\n",
      "  Running setup.py install for netifaces ... \u001b[?25lerror\n",
      "\u001b[31m    ERROR: Command errored out with exit status 1:\n",
      "     command: /home/rmanterola/virtualenv/RN/bin/python3.7 -u -c 'import sys, setuptools, tokenize; sys.argv[0] = '\"'\"'/tmp/pip-install-8sv_bby2/netifaces/setup.py'\"'\"'; __file__='\"'\"'/tmp/pip-install-8sv_bby2/netifaces/setup.py'\"'\"';f=getattr(tokenize, '\"'\"'open'\"'\"', open)(__file__);code=f.read().replace('\"'\"'\\r\\n'\"'\"', '\"'\"'\\n'\"'\"');f.close();exec(compile(code, __file__, '\"'\"'exec'\"'\"'))' install --record /tmp/pip-record-bkhyb3ti/install-record.txt --single-version-externally-managed --compile --install-headers /home/rmanterola/virtualenv/RN/include/site/python3.7/netifaces\n",
      "         cwd: /tmp/pip-install-8sv_bby2/netifaces/\n",
      "    Complete output (20 lines):\n",
      "    running install\n",
      "    running build\n",
      "    running build_ext\n",
      "    checking for getifaddrs...found.\n",
      "    checking for getnameinfo...found.\n",
      "    checking for IPv6 socket IOCTLs...not found.\n",
      "    checking for optional header files...netash/ash.h netatalk/at.h netax25/ax25.h neteconet/ec.h netipx/ipx.h netpacket/packet.h netrose/rose.h linux/irda.h linux/atm.h linux/llc.h linux/tipc.h linux/dn.h.\n",
      "    checking whether struct sockaddr has a length field...no.\n",
      "    checking which sockaddr_xxx structs are defined...at ax25 in in6 ipx un rose ash ec ll atmpvc atmsvc dn irda llc.\n",
      "    checking for routing socket support...no.\n",
      "    checking for sysctl(CTL_NET...) support...no.\n",
      "    checking for netlink support...yes.\n",
      "    will use netlink to read routing table\n",
      "    building 'netifaces' extension\n",
      "    x86_64-linux-gnu-gcc -pthread -DNDEBUG -g -fwrapv -O2 -Wall -g -fstack-protector-strong -Wformat -Werror=format-security -Wdate-time -D_FORTIFY_SOURCE=2 -fPIC -DNETIFACES_VERSION=0.10.9 -DHAVE_GETIFADDRS=1 -DHAVE_GETNAMEINFO=1 -DHAVE_NETASH_ASH_H=1 -DHAVE_NETATALK_AT_H=1 -DHAVE_NETAX25_AX25_H=1 -DHAVE_NETECONET_EC_H=1 -DHAVE_NETIPX_IPX_H=1 -DHAVE_NETPACKET_PACKET_H=1 -DHAVE_NETROSE_ROSE_H=1 -DHAVE_LINUX_IRDA_H=1 -DHAVE_LINUX_ATM_H=1 -DHAVE_LINUX_LLC_H=1 -DHAVE_LINUX_TIPC_H=1 -DHAVE_LINUX_DN_H=1 -DHAVE_SOCKADDR_AT=1 -DHAVE_SOCKADDR_AX25=1 -DHAVE_SOCKADDR_IN=1 -DHAVE_SOCKADDR_IN6=1 -DHAVE_SOCKADDR_IPX=1 -DHAVE_SOCKADDR_UN=1 -DHAVE_SOCKADDR_ROSE=1 -DHAVE_SOCKADDR_ASH=1 -DHAVE_SOCKADDR_EC=1 -DHAVE_SOCKADDR_LL=1 -DHAVE_SOCKADDR_ATMPVC=1 -DHAVE_SOCKADDR_ATMSVC=1 -DHAVE_SOCKADDR_DN=1 -DHAVE_SOCKADDR_IRDA=1 -DHAVE_SOCKADDR_LLC=1 -DHAVE_PF_NETLINK=1 -I/usr/include/python3.7m -I/home/rmanterola/virtualenv/RN/include/python3.7m -c netifaces.c -o build/temp.linux-x86_64-3.7/netifaces.o\n",
      "    netifaces.c:1:10: fatal error: Python.h: No such file or directory\n",
      "     #include <Python.h>\n",
      "              ^~~~~~~~~~\n",
      "    compilation terminated.\n",
      "    error: command 'x86_64-linux-gnu-gcc' failed with exit status 1\n",
      "    ----------------------------------------\u001b[0m\n"
     ]
    },
    {
     "name": "stdout",
     "output_type": "stream",
     "text": [
      "\u001b[31mERROR: Command errored out with exit status 1: /home/rmanterola/virtualenv/RN/bin/python3.7 -u -c 'import sys, setuptools, tokenize; sys.argv[0] = '\"'\"'/tmp/pip-install-8sv_bby2/netifaces/setup.py'\"'\"'; __file__='\"'\"'/tmp/pip-install-8sv_bby2/netifaces/setup.py'\"'\"';f=getattr(tokenize, '\"'\"'open'\"'\"', open)(__file__);code=f.read().replace('\"'\"'\\r\\n'\"'\"', '\"'\"'\\n'\"'\"');f.close();exec(compile(code, __file__, '\"'\"'exec'\"'\"'))' install --record /tmp/pip-record-bkhyb3ti/install-record.txt --single-version-externally-managed --compile --install-headers /home/rmanterola/virtualenv/RN/include/site/python3.7/netifaces Check the logs for full command output.\u001b[0m\r\n",
      "\u001b[?25h"
     ]
    }
   ],
   "source": [
    "!pip install --upgrade python-openstackclient"
   ]
  },
  {
   "cell_type": "code",
   "execution_count": 3,
   "metadata": {
    "scrolled": true
   },
   "outputs": [
    {
     "name": "stdout",
     "output_type": "stream",
     "text": [
      "Collecting attrdict\n",
      "  Using cached https://files.pythonhosted.org/packages/ef/97/28fe7e68bc7adfce67d4339756e85e9fcf3c6fd7f0c0781695352b70472c/attrdict-2.0.1-py2.py3-none-any.whl\n",
      "Requirement already satisfied: six in /home/fcorencoret/envs/mac/lib/python3.6/site-packages (from attrdict) (1.12.0)\n",
      "Installing collected packages: attrdict\n",
      "\u001b[31mERROR: Could not install packages due to an EnvironmentError: [Errno 13] Permission denied: '/home/fcorencoret/envs/mac/lib/python3.6/site-packages/attrdict-2.0.1.dist-info'\n",
      "Consider using the `--user` option or check the permissions.\n",
      "\u001b[0m\n",
      "\u001b[33mWARNING: You are using pip version 19.1.1, however version 19.2.1 is available.\n",
      "You should consider upgrading via the 'pip install --upgrade pip' command.\u001b[0m\n"
     ]
    }
   ],
   "source": [
    "!pip install attrdict"
   ]
  },
  {
   "cell_type": "code",
   "execution_count": 4,
   "metadata": {},
   "outputs": [],
   "source": [
    "import torch\n",
    "\n",
    "import json\n",
    "import pickle\n",
    "\n",
    "from utils import collate_samples_from_pixels\n",
    "\n",
    "from attrdict import AttrDict"
   ]
  },
  {
   "cell_type": "code",
   "execution_count": 5,
   "metadata": {},
   "outputs": [],
   "source": [
    "from train import initialize_dataset\n",
    "from model import RN"
   ]
  },
  {
   "cell_type": "code",
   "execution_count": 6,
   "metadata": {},
   "outputs": [],
   "source": [
    "with open('config.json', 'r') as f:\n",
    "    hyp = json.load(f)['hyperparams']['original-fp']"
   ]
  },
  {
   "cell_type": "code",
   "execution_count": 5,
   "metadata": {},
   "outputs": [
    {
     "name": "stdout",
     "output_type": "stream",
     "text": [
      "Dockerfile               c_job.out                   \u001b[0m\u001b[01;34mfull+bias\u001b[0m/\r\n",
      "IRFEATURES.md            clevr_dataset_connector.py  model.py\r\n",
      "LICENSE                  cnn_train.py                plot.py\r\n",
      "MultiheadAttention.py    config.json                 \u001b[01;34mpretrained_models\u001b[0m/\r\n",
      "README.md                confusionplot.py            \u001b[01;34mpruebas\u001b[0m/\r\n",
      "Visualize weigths.ipynb  docker_build.sh             \u001b[01;34mquestions\u001b[0m/\r\n",
      "\u001b[01;34m__pycache__\u001b[0m/             docker_run.sh               requirements.txt\r\n",
      "c_job.err                extract.py                  train.py\r\n",
      "c_job.err.save           \u001b[01;32mextract_features.sh\u001b[0m*        utils.py\r\n"
     ]
    }
   ],
   "source": [
    "ls"
   ]
  },
  {
   "cell_type": "code",
   "execution_count": 7,
   "metadata": {},
   "outputs": [],
   "source": [
    "with open('questions/CLEVR_built_dictionaries.pkl', 'rb') as f:\n",
    "    dictionaries = pickle.load(f)"
   ]
  },
  {
   "cell_type": "code",
   "execution_count": 8,
   "metadata": {},
   "outputs": [
    {
     "data": {
      "text/plain": [
       "(82, 28)"
      ]
     },
     "execution_count": 8,
     "metadata": {},
     "output_type": "execute_result"
    }
   ],
   "source": [
    "len(dictionaries[0]), len(dictionaries[1])"
   ]
  },
  {
   "cell_type": "code",
   "execution_count": 9,
   "metadata": {},
   "outputs": [],
   "source": [
    "args = AttrDict()\n",
    "args.qdict_size = len(dictionaries[0])\n",
    "args.adict_size = len(dictionaries[1])"
   ]
  },
  {
   "cell_type": "code",
   "execution_count": 10,
   "metadata": {},
   "outputs": [
    {
     "name": "stdout",
     "output_type": "stream",
     "text": [
      "Supposing original DeepMind model\n"
     ]
    }
   ],
   "source": [
    "rn = RN(args=args, hyp=hyp)"
   ]
  },
  {
   "cell_type": "code",
   "execution_count": 11,
   "metadata": {},
   "outputs": [
    {
     "name": "stdout",
     "output_type": "stream",
     "text": [
      "==> using cached questions: questions/CLEVR_train_questions.pkl\n",
      "==> using cached questions: questions/CLEVR_val_questions.pkl\n"
     ]
    }
   ],
   "source": [
    "train, test = initialize_dataset(clevr_dir='/mnt/nas2/GrimaRepo/datasets/CLEVR_v1.0', \n",
    "                                 dictionaries=dictionaries, state_description=False)"
   ]
  },
  {
   "cell_type": "code",
   "execution_count": 12,
   "metadata": {},
   "outputs": [
    {
     "name": "stdout",
     "output_type": "stream",
     "text": [
      "ir_fp_epoch_312.pth  original_fp_epoch_493.pth  weights.pth\r\n"
     ]
    }
   ],
   "source": [
    "ls pretrained_models/"
   ]
  },
  {
   "cell_type": "code",
   "execution_count": 19,
   "metadata": {},
   "outputs": [
    {
     "data": {
      "text/plain": [
       "IncompatibleKeys(missing_keys=[], unexpected_keys=[])"
      ]
     },
     "execution_count": 19,
     "metadata": {},
     "output_type": "execute_result"
    }
   ],
   "source": [
    "model = torch.nn.DataParallel(rn)\n",
    "model.load_state_dict(torch.load('pretrained_models/weights.pth', map_location='cpu'))"
   ]
  },
  {
   "cell_type": "code",
   "execution_count": 20,
   "metadata": {},
   "outputs": [
    {
     "data": {
      "text/plain": [
       "{'image': tensor([[[0.0000, 0.0000, 0.0000,  ..., 0.0000, 0.0000, 0.0000],\n",
       "          [0.4118, 0.4157, 0.4157,  ..., 0.0000, 0.0000, 0.0000],\n",
       "          [0.4118, 0.4118, 0.4157,  ..., 0.0000, 0.0000, 0.0000],\n",
       "          ...,\n",
       "          [0.0000, 0.0000, 0.0000,  ..., 0.0000, 0.0000, 0.0000],\n",
       "          [0.0000, 0.0000, 0.0000,  ..., 0.0000, 0.0000, 0.0000],\n",
       "          [0.0000, 0.0000, 0.0000,  ..., 0.0000, 0.0000, 0.0000]],\n",
       " \n",
       "         [[0.0000, 0.0000, 0.0000,  ..., 0.0000, 0.0000, 0.0000],\n",
       "          [0.4118, 0.4118, 0.4118,  ..., 0.0000, 0.0000, 0.0000],\n",
       "          [0.4118, 0.4118, 0.4118,  ..., 0.0000, 0.0000, 0.0000],\n",
       "          ...,\n",
       "          [0.0000, 0.0000, 0.0000,  ..., 0.0000, 0.0000, 0.0000],\n",
       "          [0.0000, 0.0000, 0.0000,  ..., 0.0000, 0.0000, 0.0000],\n",
       "          [0.0000, 0.0000, 0.0000,  ..., 0.0000, 0.0000, 0.0000]],\n",
       " \n",
       "         [[0.0000, 0.0000, 0.0000,  ..., 0.0000, 0.0000, 0.0000],\n",
       "          [0.4118, 0.4118, 0.4118,  ..., 0.0000, 0.0000, 0.0000],\n",
       "          [0.4118, 0.4118, 0.4118,  ..., 0.0000, 0.0000, 0.0000],\n",
       "          ...,\n",
       "          [0.0000, 0.0000, 0.0000,  ..., 0.0000, 0.0000, 0.0000],\n",
       "          [0.0000, 0.0000, 0.0000,  ..., 0.0000, 0.0000, 0.0000],\n",
       "          [0.0000, 0.0000, 0.0000,  ..., 0.0000, 0.0000, 0.0000]]]),\n",
       " 'question': tensor([17, 22, 64, 24, 73, 29, 46, 12]),\n",
       " 'answer': tensor([16])}"
      ]
     },
     "execution_count": 20,
     "metadata": {},
     "output_type": "execute_result"
    }
   ],
   "source": [
    "train[0]"
   ]
  },
  {
   "cell_type": "code",
   "execution_count": 21,
   "metadata": {},
   "outputs": [
    {
     "data": {
      "text/plain": [
       "{'image': tensor([[[[0.0000, 0.0000, 0.4118,  ..., 0.0000, 0.0000, 0.0000],\n",
       "           [0.0000, 0.0000, 0.4157,  ..., 0.4039, 0.0000, 0.0000],\n",
       "           [0.0000, 0.4157, 0.4118,  ..., 0.4039, 0.4039, 0.0000],\n",
       "           ...,\n",
       "           [0.4784, 0.4824, 0.4824,  ..., 0.0000, 0.0000, 0.0000],\n",
       "           [0.0000, 0.0000, 0.4824,  ..., 0.0000, 0.0000, 0.0000],\n",
       "           [0.0000, 0.0000, 0.0000,  ..., 0.0000, 0.0000, 0.0000]],\n",
       " \n",
       "          [[0.0000, 0.0000, 0.4118,  ..., 0.0000, 0.0000, 0.0000],\n",
       "           [0.0000, 0.0000, 0.4118,  ..., 0.4000, 0.0000, 0.0000],\n",
       "           [0.0000, 0.4157, 0.4118,  ..., 0.4039, 0.4000, 0.0000],\n",
       "           ...,\n",
       "           [0.4745, 0.4745, 0.4784,  ..., 0.0000, 0.0000, 0.0000],\n",
       "           [0.0000, 0.0000, 0.4784,  ..., 0.0000, 0.0000, 0.0000],\n",
       "           [0.0000, 0.0000, 0.0000,  ..., 0.0000, 0.0000, 0.0000]],\n",
       " \n",
       "          [[0.0000, 0.0000, 0.4118,  ..., 0.0000, 0.0000, 0.0000],\n",
       "           [0.0000, 0.0000, 0.4118,  ..., 0.4000, 0.0000, 0.0000],\n",
       "           [0.0000, 0.4157, 0.4118,  ..., 0.4039, 0.4000, 0.0000],\n",
       "           ...,\n",
       "           [0.4667, 0.4706, 0.4706,  ..., 0.0000, 0.0000, 0.0000],\n",
       "           [0.0000, 0.0000, 0.4706,  ..., 0.0000, 0.0000, 0.0000],\n",
       "           [0.0000, 0.0000, 0.0000,  ..., 0.0000, 0.0000, 0.0000]]]]),\n",
       " 'answer': tensor([[1]]),\n",
       " 'question': tensor([[25, 17, 19, 16, 17,  8, 24, 31, 25, 32, 16, 17,  4, 33, 34, 17, 18, 20,\n",
       "          17,  4, 10, 43, 36, 16, 17, 50, 45, 24, 12]])}"
      ]
     },
     "execution_count": 21,
     "metadata": {},
     "output_type": "execute_result"
    }
   ],
   "source": [
    "collate_samples_from_pixels((train[17],))"
   ]
  },
  {
   "cell_type": "code",
   "execution_count": 27,
   "metadata": {},
   "outputs": [],
   "source": [
    "import numpy as np"
   ]
  },
  {
   "cell_type": "code",
   "execution_count": 30,
   "metadata": {},
   "outputs": [
    {
     "data": {
      "text/plain": [
       "(tensor([[ -1.5848, -12.0523,  -0.2299, -10.7942, -11.1621,  -9.9902, -10.7600,\n",
       "          -11.2976,  -9.8505, -10.4742, -11.9671, -10.1851, -11.0067, -12.3352,\n",
       "          -11.8418, -11.3874, -10.9160, -10.9143, -13.5173, -13.1468, -11.4894,\n",
       "          -12.3107, -11.5334, -12.3390, -11.8032, -12.0148, -11.8759, -11.2963]],\n",
       "        grad_fn=<LogSoftmaxBackward>), tensor(4.1443, grad_fn=<AddBackward0>))"
      ]
     },
     "execution_count": 30,
     "metadata": {},
     "output_type": "execute_result"
    }
   ],
   "source": [
    "dat = collate_samples_from_pixels([train[17]])\n",
    "model.eval()\n",
    "model(dat['image'], reversed(dat['question']))"
   ]
  },
  {
   "cell_type": "code",
   "execution_count": 31,
   "metadata": {},
   "outputs": [
    {
     "ename": "RuntimeError",
     "evalue": "size mismatch, m1: [256 x 308], m2: [256 x 512] at /pytorch/aten/src/TH/generic/THTensorMath.cpp:961",
     "output_type": "error",
     "traceback": [
      "\u001b[0;31m---------------------------------------------------------------------------\u001b[0m",
      "\u001b[0;31mRuntimeError\u001b[0m                              Traceback (most recent call last)",
      "\u001b[0;32m<ipython-input-31-ee41d9db9e0a>\u001b[0m in \u001b[0;36m<module>\u001b[0;34m\u001b[0m\n\u001b[1;32m      2\u001b[0m \u001b[0mq\u001b[0m \u001b[0;34m=\u001b[0m \u001b[0mmodel\u001b[0m\u001b[0;34m.\u001b[0m\u001b[0mmodule\u001b[0m\u001b[0;34m.\u001b[0m\u001b[0mtext\u001b[0m\u001b[0;34m(\u001b[0m\u001b[0mdat\u001b[0m\u001b[0;34m[\u001b[0m\u001b[0;34m'question'\u001b[0m\u001b[0;34m]\u001b[0m\u001b[0;34m)\u001b[0m\u001b[0;34m\u001b[0m\u001b[0;34m\u001b[0m\u001b[0m\n\u001b[1;32m      3\u001b[0m \u001b[0mweights\u001b[0m \u001b[0;34m=\u001b[0m \u001b[0mmodel\u001b[0m\u001b[0;34m.\u001b[0m\u001b[0mmodule\u001b[0m\u001b[0;34m.\u001b[0m\u001b[0mrl\u001b[0m\u001b[0;34m.\u001b[0m\u001b[0mg_layers\u001b[0m\u001b[0;34m[\u001b[0m\u001b[0;36m0\u001b[0m\u001b[0;34m]\u001b[0m\u001b[0;34m\u001b[0m\u001b[0;34m\u001b[0m\u001b[0m\n\u001b[0;32m----> 4\u001b[0;31m \u001b[0mmodel\u001b[0m\u001b[0;34m.\u001b[0m\u001b[0mmodule\u001b[0m\u001b[0;34m.\u001b[0m\u001b[0mrl\u001b[0m\u001b[0;34m.\u001b[0m\u001b[0mmha_layers\u001b[0m\u001b[0;34m[\u001b[0m\u001b[0;36m1\u001b[0m\u001b[0;34m]\u001b[0m\u001b[0;34m(\u001b[0m\u001b[0mq\u001b[0m\u001b[0;34m.\u001b[0m\u001b[0munsqueeze\u001b[0m\u001b[0;34m(\u001b[0m\u001b[0;36m1\u001b[0m\u001b[0;34m)\u001b[0m\u001b[0;34m,\u001b[0m \u001b[0mweights\u001b[0m\u001b[0;34m.\u001b[0m\u001b[0mweight\u001b[0m\u001b[0;34m,\u001b[0m \u001b[0mweights\u001b[0m\u001b[0;34m.\u001b[0m\u001b[0mweight\u001b[0m\u001b[0;34m)\u001b[0m\u001b[0;34m\u001b[0m\u001b[0;34m\u001b[0m\u001b[0m\n\u001b[0m",
      "\u001b[0;32m/home/fcorencoret/envs/mac/lib/python3.6/site-packages/torch/nn/modules/module.py\u001b[0m in \u001b[0;36m__call__\u001b[0;34m(self, *input, **kwargs)\u001b[0m\n\u001b[1;32m    491\u001b[0m             \u001b[0mresult\u001b[0m \u001b[0;34m=\u001b[0m \u001b[0mself\u001b[0m\u001b[0;34m.\u001b[0m\u001b[0m_slow_forward\u001b[0m\u001b[0;34m(\u001b[0m\u001b[0;34m*\u001b[0m\u001b[0minput\u001b[0m\u001b[0;34m,\u001b[0m \u001b[0;34m**\u001b[0m\u001b[0mkwargs\u001b[0m\u001b[0;34m)\u001b[0m\u001b[0;34m\u001b[0m\u001b[0;34m\u001b[0m\u001b[0m\n\u001b[1;32m    492\u001b[0m         \u001b[0;32melse\u001b[0m\u001b[0;34m:\u001b[0m\u001b[0;34m\u001b[0m\u001b[0;34m\u001b[0m\u001b[0m\n\u001b[0;32m--> 493\u001b[0;31m             \u001b[0mresult\u001b[0m \u001b[0;34m=\u001b[0m \u001b[0mself\u001b[0m\u001b[0;34m.\u001b[0m\u001b[0mforward\u001b[0m\u001b[0;34m(\u001b[0m\u001b[0;34m*\u001b[0m\u001b[0minput\u001b[0m\u001b[0;34m,\u001b[0m \u001b[0;34m**\u001b[0m\u001b[0mkwargs\u001b[0m\u001b[0;34m)\u001b[0m\u001b[0;34m\u001b[0m\u001b[0;34m\u001b[0m\u001b[0m\n\u001b[0m\u001b[1;32m    494\u001b[0m         \u001b[0;32mfor\u001b[0m \u001b[0mhook\u001b[0m \u001b[0;32min\u001b[0m \u001b[0mself\u001b[0m\u001b[0;34m.\u001b[0m\u001b[0m_forward_hooks\u001b[0m\u001b[0;34m.\u001b[0m\u001b[0mvalues\u001b[0m\u001b[0;34m(\u001b[0m\u001b[0;34m)\u001b[0m\u001b[0;34m:\u001b[0m\u001b[0;34m\u001b[0m\u001b[0;34m\u001b[0m\u001b[0m\n\u001b[1;32m    495\u001b[0m             \u001b[0mhook_result\u001b[0m \u001b[0;34m=\u001b[0m \u001b[0mhook\u001b[0m\u001b[0;34m(\u001b[0m\u001b[0mself\u001b[0m\u001b[0;34m,\u001b[0m \u001b[0minput\u001b[0m\u001b[0;34m,\u001b[0m \u001b[0mresult\u001b[0m\u001b[0;34m)\u001b[0m\u001b[0;34m\u001b[0m\u001b[0;34m\u001b[0m\u001b[0m\n",
      "\u001b[0;32m~/repos/dynamic-rn/MultiheadAttention.py\u001b[0m in \u001b[0;36mforward\u001b[0;34m(self, query, key, value, key_padding_mask, incremental_state, need_weights, static_kv, attn_mask)\u001b[0m\n\u001b[1;32m    113\u001b[0m                 \u001b[0mk\u001b[0m \u001b[0;34m=\u001b[0m \u001b[0mv\u001b[0m \u001b[0;34m=\u001b[0m \u001b[0;32mNone\u001b[0m\u001b[0;34m\u001b[0m\u001b[0;34m\u001b[0m\u001b[0m\n\u001b[1;32m    114\u001b[0m             \u001b[0;32melse\u001b[0m\u001b[0;34m:\u001b[0m\u001b[0;34m\u001b[0m\u001b[0;34m\u001b[0m\u001b[0m\n\u001b[0;32m--> 115\u001b[0;31m                 \u001b[0mk\u001b[0m\u001b[0;34m,\u001b[0m \u001b[0mv\u001b[0m \u001b[0;34m=\u001b[0m \u001b[0mself\u001b[0m\u001b[0;34m.\u001b[0m\u001b[0m_in_proj_kv\u001b[0m\u001b[0;34m(\u001b[0m\u001b[0mkey\u001b[0m\u001b[0;34m)\u001b[0m\u001b[0;34m\u001b[0m\u001b[0;34m\u001b[0m\u001b[0m\n\u001b[0m\u001b[1;32m    116\u001b[0m         \u001b[0;32melse\u001b[0m\u001b[0;34m:\u001b[0m\u001b[0;34m\u001b[0m\u001b[0;34m\u001b[0m\u001b[0m\n\u001b[1;32m    117\u001b[0m             \u001b[0mq\u001b[0m \u001b[0;34m=\u001b[0m \u001b[0mself\u001b[0m\u001b[0;34m.\u001b[0m\u001b[0m_in_proj_q\u001b[0m\u001b[0;34m(\u001b[0m\u001b[0mquery\u001b[0m\u001b[0;34m)\u001b[0m\u001b[0;34m\u001b[0m\u001b[0;34m\u001b[0m\u001b[0m\n",
      "\u001b[0;32m~/repos/dynamic-rn/MultiheadAttention.py\u001b[0m in \u001b[0;36m_in_proj_kv\u001b[0;34m(self, key)\u001b[0m\n\u001b[1;32m    208\u001b[0m \u001b[0;34m\u001b[0m\u001b[0m\n\u001b[1;32m    209\u001b[0m     \u001b[0;32mdef\u001b[0m \u001b[0m_in_proj_kv\u001b[0m\u001b[0;34m(\u001b[0m\u001b[0mself\u001b[0m\u001b[0;34m,\u001b[0m \u001b[0mkey\u001b[0m\u001b[0;34m)\u001b[0m\u001b[0;34m:\u001b[0m\u001b[0;34m\u001b[0m\u001b[0;34m\u001b[0m\u001b[0m\n\u001b[0;32m--> 210\u001b[0;31m         \u001b[0;32mreturn\u001b[0m \u001b[0mself\u001b[0m\u001b[0;34m.\u001b[0m\u001b[0m_in_proj\u001b[0m\u001b[0;34m(\u001b[0m\u001b[0mkey\u001b[0m\u001b[0;34m,\u001b[0m \u001b[0mstart\u001b[0m\u001b[0;34m=\u001b[0m\u001b[0mself\u001b[0m\u001b[0;34m.\u001b[0m\u001b[0membed_dim\u001b[0m\u001b[0;34m)\u001b[0m\u001b[0;34m.\u001b[0m\u001b[0mchunk\u001b[0m\u001b[0;34m(\u001b[0m\u001b[0;36m2\u001b[0m\u001b[0;34m,\u001b[0m \u001b[0mdim\u001b[0m\u001b[0;34m=\u001b[0m\u001b[0;34m-\u001b[0m\u001b[0;36m1\u001b[0m\u001b[0;34m)\u001b[0m\u001b[0;34m\u001b[0m\u001b[0;34m\u001b[0m\u001b[0m\n\u001b[0m\u001b[1;32m    211\u001b[0m \u001b[0;34m\u001b[0m\u001b[0m\n\u001b[1;32m    212\u001b[0m     \u001b[0;32mdef\u001b[0m \u001b[0m_in_proj_q\u001b[0m\u001b[0;34m(\u001b[0m\u001b[0mself\u001b[0m\u001b[0;34m,\u001b[0m \u001b[0mquery\u001b[0m\u001b[0;34m)\u001b[0m\u001b[0;34m:\u001b[0m\u001b[0;34m\u001b[0m\u001b[0;34m\u001b[0m\u001b[0m\n",
      "\u001b[0;32m~/repos/dynamic-rn/MultiheadAttention.py\u001b[0m in \u001b[0;36m_in_proj\u001b[0;34m(self, input, start, end)\u001b[0m\n\u001b[1;32m    225\u001b[0m         \u001b[0;32mif\u001b[0m \u001b[0mbias\u001b[0m \u001b[0;32mis\u001b[0m \u001b[0;32mnot\u001b[0m \u001b[0;32mNone\u001b[0m\u001b[0;34m:\u001b[0m\u001b[0;34m\u001b[0m\u001b[0;34m\u001b[0m\u001b[0m\n\u001b[1;32m    226\u001b[0m             \u001b[0mbias\u001b[0m \u001b[0;34m=\u001b[0m \u001b[0mbias\u001b[0m\u001b[0;34m[\u001b[0m\u001b[0mstart\u001b[0m\u001b[0;34m:\u001b[0m\u001b[0mend\u001b[0m\u001b[0;34m]\u001b[0m\u001b[0;34m\u001b[0m\u001b[0;34m\u001b[0m\u001b[0m\n\u001b[0;32m--> 227\u001b[0;31m         \u001b[0;32mreturn\u001b[0m \u001b[0mF\u001b[0m\u001b[0;34m.\u001b[0m\u001b[0mlinear\u001b[0m\u001b[0;34m(\u001b[0m\u001b[0minput\u001b[0m\u001b[0;34m,\u001b[0m \u001b[0mweight\u001b[0m\u001b[0;34m,\u001b[0m \u001b[0mbias\u001b[0m\u001b[0;34m)\u001b[0m\u001b[0;34m\u001b[0m\u001b[0;34m\u001b[0m\u001b[0m\n\u001b[0m",
      "\u001b[0;32m/home/fcorencoret/envs/mac/lib/python3.6/site-packages/torch/nn/functional.py\u001b[0m in \u001b[0;36mlinear\u001b[0;34m(input, weight, bias)\u001b[0m\n\u001b[1;32m   1404\u001b[0m     \u001b[0;32mif\u001b[0m \u001b[0minput\u001b[0m\u001b[0;34m.\u001b[0m\u001b[0mdim\u001b[0m\u001b[0;34m(\u001b[0m\u001b[0;34m)\u001b[0m \u001b[0;34m==\u001b[0m \u001b[0;36m2\u001b[0m \u001b[0;32mand\u001b[0m \u001b[0mbias\u001b[0m \u001b[0;32mis\u001b[0m \u001b[0;32mnot\u001b[0m \u001b[0;32mNone\u001b[0m\u001b[0;34m:\u001b[0m\u001b[0;34m\u001b[0m\u001b[0;34m\u001b[0m\u001b[0m\n\u001b[1;32m   1405\u001b[0m         \u001b[0;31m# fused op is marginally faster\u001b[0m\u001b[0;34m\u001b[0m\u001b[0;34m\u001b[0m\u001b[0;34m\u001b[0m\u001b[0m\n\u001b[0;32m-> 1406\u001b[0;31m         \u001b[0mret\u001b[0m \u001b[0;34m=\u001b[0m \u001b[0mtorch\u001b[0m\u001b[0;34m.\u001b[0m\u001b[0maddmm\u001b[0m\u001b[0;34m(\u001b[0m\u001b[0mbias\u001b[0m\u001b[0;34m,\u001b[0m \u001b[0minput\u001b[0m\u001b[0;34m,\u001b[0m \u001b[0mweight\u001b[0m\u001b[0;34m.\u001b[0m\u001b[0mt\u001b[0m\u001b[0;34m(\u001b[0m\u001b[0;34m)\u001b[0m\u001b[0;34m)\u001b[0m\u001b[0;34m\u001b[0m\u001b[0;34m\u001b[0m\u001b[0m\n\u001b[0m\u001b[1;32m   1407\u001b[0m     \u001b[0;32melse\u001b[0m\u001b[0;34m:\u001b[0m\u001b[0;34m\u001b[0m\u001b[0;34m\u001b[0m\u001b[0m\n\u001b[1;32m   1408\u001b[0m         \u001b[0moutput\u001b[0m \u001b[0;34m=\u001b[0m \u001b[0minput\u001b[0m\u001b[0;34m.\u001b[0m\u001b[0mmatmul\u001b[0m\u001b[0;34m(\u001b[0m\u001b[0mweight\u001b[0m\u001b[0;34m.\u001b[0m\u001b[0mt\u001b[0m\u001b[0;34m(\u001b[0m\u001b[0;34m)\u001b[0m\u001b[0;34m)\u001b[0m\u001b[0;34m\u001b[0m\u001b[0;34m\u001b[0m\u001b[0m\n",
      "\u001b[0;31mRuntimeError\u001b[0m: size mismatch, m1: [256 x 308], m2: [256 x 512] at /pytorch/aten/src/TH/generic/THTensorMath.cpp:961"
     ]
    }
   ],
   "source": [
    "dat = collate_samples_from_pixels([train[5]])\n",
    "q = model.module.text(dat['question'])\n",
    "weights = model.module.rl.g_layers[0]\n",
    "model.module.rl.mha_layers[1](q.unsqueeze(1), weights.weight, weights.weight)"
   ]
  },
  {
   "cell_type": "code",
   "execution_count": 12,
   "metadata": {},
   "outputs": [],
   "source": [
    "import matplotlib.pyplot as plt\n",
    "from matplotlib import cm\n",
    "import numpy as np"
   ]
  },
  {
   "cell_type": "code",
   "execution_count": 28,
   "metadata": {},
   "outputs": [],
   "source": [
    "def plot_network_activation(masks, cmap=cm.Blues):\n",
    "    \n",
    "    fig, ax = plt.subplots(figsize=(10,200))\n",
    "    im = ax.imshow(masks, interpolation='nearest', cmap=cmap)\n",
    "#     ax.figure.colorbar(im, ax=ax)"
   ]
  },
  {
   "cell_type": "code",
   "execution_count": 29,
   "metadata": {},
   "outputs": [
    {
     "data": {
      "image/png": "[encoded data removed]",
      "text/plain": [
       "<Figure size 720x14400 with 1 Axes>"
      ]
     },
     "metadata": {
      "needs_background": "light"
     },
     "output_type": "display_data"
    }
   ],
   "source": [
    "plot_network_activation(np.random.rand(256,4))"
   ]
  }
 ],
 "metadata": {
  "kernelspec": {
   "display_name": "Python 3",
   "language": "python",
   "name": "python3"
  },
  "language_info": {
   "codemirror_mode": {
    "name": "ipython",
    "version": 3
   },
   "file_extension": ".py",
   "mimetype": "text/x-python",
   "name": "python",
   "nbconvert_exporter": "python",
   "pygments_lexer": "ipython3",
   "version": "3.6.8"
  }
 },
 "nbformat": 4,
 "nbformat_minor": 2
}
