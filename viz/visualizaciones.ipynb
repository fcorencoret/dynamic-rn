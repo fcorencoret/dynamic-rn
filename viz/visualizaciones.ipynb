{
 "cells": [
  {
   "cell_type": "code",
   "execution_count": 1,
   "metadata": {},
   "outputs": [],
   "source": [
    "%load_ext autoreload\n",
    "%autoreload 2"
   ]
  },
  {
   "cell_type": "code",
   "execution_count": 2,
   "metadata": {},
   "outputs": [],
   "source": [
    "import sys\n",
    "\n",
    "sys.path.insert(0, '../')"
   ]
  },
  {
   "cell_type": "code",
   "execution_count": 3,
   "metadata": {},
   "outputs": [],
   "source": [
    "import torch\n",
    "\n",
    "import sys\n",
    "import json\n",
    "import pickle\n",
    "from collections import OrderedDict\n",
    "\n",
    "from attrdict import AttrDict\n",
    "from tqdm import tqdm_notebook as tqdm\n",
    "\n",
    "import numpy as np\n",
    "\n",
    "import matplotlib as mpl\n",
    "from matplotlib import colors\n",
    "import matplotlib.pyplot as plt\n",
    "\n",
    "from model import RN\n",
    "from utils import build_dictionaries, collate_samples_from_pixels\n",
    "from train import initialize_dataset\n",
    "from IntermediateLayerGetter import IntermediateLayerGetter"
   ]
  },
  {
   "cell_type": "code",
   "execution_count": 4,
   "metadata": {},
   "outputs": [],
   "source": [
    "with open('../config.json', 'r') as f:\n",
    "    hyp = json.load(f)['hyperparams']['original-fp']"
   ]
  },
  {
   "cell_type": "code",
   "execution_count": 5,
   "metadata": {},
   "outputs": [],
   "source": [
    "# dictionaries = build_dictionaries('/Users/sebamenabar/Documents/datasets/CLEVR/CLEVR_v1.0/')"
   ]
  },
  {
   "cell_type": "code",
   "execution_count": 6,
   "metadata": {},
   "outputs": [],
   "source": [
    "with open('CLEVR_built_dictionaries.pkl', 'rb') as f:\n",
    "    dictionaries = pickle.load(f)"
   ]
  },
  {
   "cell_type": "code",
   "execution_count": 7,
   "metadata": {},
   "outputs": [
    {
     "data": {
      "text/plain": [
       "(82, 28)"
      ]
     },
     "execution_count": 7,
     "metadata": {},
     "output_type": "execute_result"
    }
   ],
   "source": [
    "len(dictionaries[0]), len(dictionaries[1])"
   ]
  },
  {
   "cell_type": "code",
   "execution_count": 8,
   "metadata": {},
   "outputs": [],
   "source": [
    "args = AttrDict()\n",
    "args.qdict_size = len(dictionaries[0])\n",
    "args.adict_size = len(dictionaries[1])"
   ]
  },
  {
   "cell_type": "code",
   "execution_count": 9,
   "metadata": {},
   "outputs": [
    {
     "name": "stdout",
     "output_type": "stream",
     "text": [
      "==> using cached questions: questions/CLEVR_train_questions.pkl\n",
      "==> using cached questions: questions/CLEVR_val_questions.pkl\n"
     ]
    }
   ],
   "source": [
    "train, val = initialize_dataset(\n",
    "    clevr_dir='/Users/sebamenabar/Documents/datasets/CLEVR/CLEVR_v1.0/',\n",
    "    dictionaries=dictionaries,\n",
    "    state_description=False,\n",
    ")"
   ]
  },
  {
   "cell_type": "code",
   "execution_count": 10,
   "metadata": {},
   "outputs": [],
   "source": [
    "qtypes = np.unique([q['program'][-1]['function'] for q in val.questions])"
   ]
  },
  {
   "cell_type": "code",
   "execution_count": 11,
   "metadata": {},
   "outputs": [
    {
     "data": {
      "application/vnd.jupyter.widget-view+json": {
       "model_id": "41d558e2bf6f4e44b8eef024d0d08e7a",
       "version_major": 2,
       "version_minor": 0
      },
      "text/plain": [
       "HBox(children=(IntProgress(value=0, max=13), HTML(value='')))"
      ]
     },
     "metadata": {},
     "output_type": "display_data"
    },
    {
     "name": "stdout",
     "output_type": "stream",
     "text": [
      "\n"
     ]
    }
   ],
   "source": [
    "indexes_per_qtype = {\n",
    "    qtype: [index for index, q in enumerate(val.questions) if q['program'][-1]['function'] == qtype] for qtype in tqdm(qtypes)\n",
    "}"
   ]
  },
  {
   "cell_type": "code",
   "execution_count": 12,
   "metadata": {},
   "outputs": [
    {
     "data": {
      "text/plain": [
       "([35422,\n",
       "  6667,\n",
       "  3447,\n",
       "  6898,\n",
       "  6791,\n",
       "  6742,\n",
       "  20196,\n",
       "  4993,\n",
       "  5101,\n",
       "  13544,\n",
       "  13404,\n",
       "  13273,\n",
       "  13513],\n",
       " 149991)"
      ]
     },
     "execution_count": 12,
     "metadata": {},
     "output_type": "execute_result"
    }
   ],
   "source": [
    "[len(idxs) for idxs in indexes_per_qtype.values()], sum([len(idxs) for idxs in indexes_per_qtype.values()])"
   ]
  },
  {
   "cell_type": "code",
   "execution_count": 13,
   "metadata": {},
   "outputs": [],
   "source": [
    "from torch.utils.data import DataLoader, Subset"
   ]
  },
  {
   "cell_type": "code",
   "execution_count": 14,
   "metadata": {},
   "outputs": [],
   "source": [
    "datasets_per_qtype = {\n",
    "    qtype: Subset(val, idxs) for qtype, idxs in indexes_per_qtype.items()\n",
    "}"
   ]
  },
  {
   "cell_type": "code",
   "execution_count": 15,
   "metadata": {},
   "outputs": [],
   "source": [
    "N_SAMPLES = 2000\n",
    "selected_idxs_per_qtype = {\n",
    "    qtype: np.sort(\n",
    "        np.random.choice(np.arange(0, len(ds)), size=N_SAMPLES, replace=False)).tolist()\n",
    "    for qtype, ds in datasets_per_qtype.items()\n",
    "}"
   ]
  },
  {
   "cell_type": "code",
   "execution_count": 16,
   "metadata": {},
   "outputs": [],
   "source": [
    "# with open('selected_idxs_per_qtype.json', 'w') as f:\n",
    "#     json.dump(selected_idxs_per_qtype, f)"
   ]
  },
  {
   "cell_type": "code",
   "execution_count": 17,
   "metadata": {},
   "outputs": [],
   "source": [
    "with open('selected_idxs_per_qtype.json', 'r') as f:\n",
    "    selected_idxs_per_qtype = json.load(f)"
   ]
  },
  {
   "cell_type": "code",
   "execution_count": 18,
   "metadata": {},
   "outputs": [],
   "source": [
    "selected_datasets_per_qtype = {\n",
    "    qtype: Subset(ds, selected_idxs_per_qtype[qtype]) for qtype, ds in datasets_per_qtype.items()\n",
    "}"
   ]
  },
  {
   "cell_type": "code",
   "execution_count": 19,
   "metadata": {},
   "outputs": [
    {
     "data": {
      "text/plain": [
       "([2000,\n",
       "  2000,\n",
       "  2000,\n",
       "  2000,\n",
       "  2000,\n",
       "  2000,\n",
       "  2000,\n",
       "  2000,\n",
       "  2000,\n",
       "  2000,\n",
       "  2000,\n",
       "  2000,\n",
       "  2000],\n",
       " 26000)"
      ]
     },
     "execution_count": 19,
     "metadata": {},
     "output_type": "execute_result"
    }
   ],
   "source": [
    "[len(idxs) for idxs in selected_datasets_per_qtype.values()], sum([len(idxs) for idxs in selected_datasets_per_qtype.values()])"
   ]
  },
  {
   "cell_type": "code",
   "execution_count": 20,
   "metadata": {},
   "outputs": [
    {
     "name": "stdout",
     "output_type": "stream",
     "text": [
      "Supposing original DeepMind model\n"
     ]
    }
   ],
   "source": [
    "rn = RN(args=args, hyp=hyp)\n",
    "model = torch.nn.DataParallel(rn)\n",
    "model.load_state_dict(torch.load('best_weights_epoch_257.pth', map_location='cpu'))\n",
    "model = model.module\n",
    "\n",
    "# dat = collate_samples_from_pixels([train[5]])\n",
    "# q = model.module.text(dat['question'])\n",
    "# weights = model.module.rl.g_layers[1]\n",
    "# model.module.rl.mha_layers[1](q.unsqueeze(1), weights.weight, weights.weight)"
   ]
  },
  {
   "cell_type": "code",
   "execution_count": 21,
   "metadata": {},
   "outputs": [
    {
     "data": {
      "text/plain": [
       "RN(\n",
       "  (conv): ConvInputModel(\n",
       "    (conv1): Conv2d(3, 24, kernel_size=(3, 3), stride=(2, 2), padding=(1, 1))\n",
       "    (batchNorm1): BatchNorm2d(24, eps=1e-05, momentum=0.1, affine=True, track_running_stats=True)\n",
       "    (conv2): Conv2d(24, 24, kernel_size=(3, 3), stride=(2, 2), padding=(1, 1))\n",
       "    (batchNorm2): BatchNorm2d(24, eps=1e-05, momentum=0.1, affine=True, track_running_stats=True)\n",
       "    (conv3): Conv2d(24, 24, kernel_size=(3, 3), stride=(2, 2), padding=(1, 1))\n",
       "    (batchNorm3): BatchNorm2d(24, eps=1e-05, momentum=0.1, affine=True, track_running_stats=True)\n",
       "    (conv4): Conv2d(24, 24, kernel_size=(3, 3), stride=(2, 2), padding=(1, 1))\n",
       "    (batchNorm4): BatchNorm2d(24, eps=1e-05, momentum=0.1, affine=True, track_running_stats=True)\n",
       "  )\n",
       "  (text): QuestionEmbedModel(\n",
       "    (wembedding): Embedding(83, 32)\n",
       "    (lstm): LSTM(32, 256, batch_first=True)\n",
       "  )\n",
       "  (rl): RelationalLayer(\n",
       "    (f_fc1): Linear(in_features=256, out_features=256, bias=True)\n",
       "    (mha_fc1): MultiheadAttention(\n",
       "      (out_proj): Linear(in_features=256, out_features=256, bias=True)\n",
       "    )\n",
       "    (identity_fc1): Identity()\n",
       "    (f_fc2): Linear(in_features=256, out_features=256, bias=True)\n",
       "    (mha_fc2): MultiheadAttention(\n",
       "      (out_proj): Linear(in_features=256, out_features=256, bias=True)\n",
       "    )\n",
       "    (identity_fc2): Identity()\n",
       "    (f_fc3): Linear(in_features=256, out_features=28, bias=True)\n",
       "    (mha_fc3): MultiheadAttention(\n",
       "      (out_proj): Linear(in_features=256, out_features=256, bias=True)\n",
       "    )\n",
       "    (identity_fc3): Identity()\n",
       "    (dropout): Dropout(p=0.5)\n",
       "    (g_layers): ModuleList(\n",
       "      (0): Linear(in_features=308, out_features=256, bias=True)\n",
       "      (1): Linear(in_features=256, out_features=256, bias=True)\n",
       "      (2): Linear(in_features=256, out_features=256, bias=True)\n",
       "      (3): Linear(in_features=256, out_features=256, bias=True)\n",
       "    )\n",
       "    (mha_layers): ModuleList(\n",
       "      (0): MultiheadAttention(\n",
       "        (out_proj): Linear(in_features=308, out_features=308, bias=True)\n",
       "      )\n",
       "      (1): MultiheadAttention(\n",
       "        (out_proj): Linear(in_features=256, out_features=256, bias=True)\n",
       "      )\n",
       "      (2): MultiheadAttention(\n",
       "        (out_proj): Linear(in_features=256, out_features=256, bias=True)\n",
       "      )\n",
       "      (3): MultiheadAttention(\n",
       "        (out_proj): Linear(in_features=256, out_features=256, bias=True)\n",
       "      )\n",
       "    )\n",
       "    (identity_layers): ModuleList(\n",
       "      (0): Identity()\n",
       "      (1): Identity()\n",
       "      (2): Identity()\n",
       "      (3): Identity()\n",
       "    )\n",
       "  )\n",
       ")"
      ]
     },
     "execution_count": 21,
     "metadata": {},
     "output_type": "execute_result"
    }
   ],
   "source": [
    "model"
   ]
  },
  {
   "cell_type": "code",
   "execution_count": 22,
   "metadata": {},
   "outputs": [],
   "source": [
    "return_layers = {\n",
    "    'rl.mha_fc1': 'mha_fc1',\n",
    "    'rl.mha_fc2': 'mha_fc2',\n",
    "    'rl.mha_fc3': 'mha_fc3',\n",
    "    'rl.identity_fc1': 'identity_fc1',\n",
    "    'rl.identity_fc2': 'identity_fc2',\n",
    "    'rl.identity_fc3': 'identity_fc3',\n",
    "    \n",
    "    'rl.mha_layers.0': 'mha_gc0',\n",
    "    'rl.mha_layers.1': 'mha_gc1',\n",
    "    'rl.mha_layers.2': 'mha_gc2',\n",
    "    'rl.mha_layers.3': 'mha_gc3',\n",
    "    'rl.identity_layers.0': 'identity_gc0',\n",
    "    'rl.identity_layers.1': 'identity_gc1',\n",
    "    'rl.identity_layers.2': 'identity_gc2',\n",
    "    'rl.identity_layers.3': 'identity_gc3',\n",
    "}\n",
    "mid_getter = IntermediateLayerGetter(model, return_layers, keep_output=False)"
   ]
  },
  {
   "cell_type": "code",
   "execution_count": 23,
   "metadata": {},
   "outputs": [],
   "source": [
    "loader = DataLoader(selected_datasets_per_qtype['exist'], batch_size=2, shuffle=False, num_workers=0, collate_fn=collate_samples_from_pixels)"
   ]
  },
  {
   "cell_type": "code",
   "execution_count": 24,
   "metadata": {},
   "outputs": [],
   "source": [
    "b = next(iter(loader))"
   ]
  },
  {
   "cell_type": "code",
   "execution_count": 25,
   "metadata": {},
   "outputs": [],
   "source": [
    "with torch.no_grad():\n",
    "    model.eval()\n",
    "    model.coord_tensor = None\n",
    "    mid_res, _ = mid_getter(b['image'], b['question'])"
   ]
  },
  {
   "cell_type": "code",
   "execution_count": 26,
   "metadata": {},
   "outputs": [],
   "source": [
    "f_activations = torch.stack([mid_res[f'identity_fc{i}'] for i in range(1, 3)], dim=1)"
   ]
  },
  {
   "cell_type": "code",
   "execution_count": 27,
   "metadata": {},
   "outputs": [
    {
     "data": {
      "text/plain": [
       "tensor([0.0614, 0.3380])"
      ]
     },
     "execution_count": 27,
     "metadata": {},
     "output_type": "execute_result"
    }
   ],
   "source": [
    "1 / f_activations[0].max(dim=1).values"
   ]
  },
  {
   "cell_type": "code",
   "execution_count": 28,
   "metadata": {},
   "outputs": [],
   "source": [
    "norm_activations = f_activations[0].t() * ((1 / f_activations[0].max(dim=1).values))"
   ]
  },
  {
   "cell_type": "code",
   "execution_count": 29,
   "metadata": {},
   "outputs": [
    {
     "data": {
      "text/plain": [
       "<matplotlib.image.AxesImage at 0x27a62ba90>"
      ]
     },
     "execution_count": 29,
     "metadata": {},
     "output_type": "execute_result"
    },
    {
     "data": {
      "image/png": "[encoded data removed]",
      "text/plain": [
       "<Figure size 432x288 with 1 Axes>"
      ]
     },
     "metadata": {
      "needs_background": "light"
     },
     "output_type": "display_data"
    }
   ],
   "source": [
    "plt.imshow(norm_activations.detach().numpy(), aspect='auto', cmap='Greys_r')"
   ]
  },
  {
   "cell_type": "code",
   "execution_count": 30,
   "metadata": {},
   "outputs": [
    {
     "data": {
      "text/plain": [
       "<matplotlib.image.AxesImage at 0x279f2b610>"
      ]
     },
     "execution_count": 30,
     "metadata": {},
     "output_type": "execute_result"
    },
    {
     "data": {
      "image/png": "[encoded data removed]",
      "text/plain": [
       "<Figure size 432x288 with 1 Axes>"
      ]
     },
     "metadata": {
      "needs_background": "light"
     },
     "output_type": "display_data"
    }
   ],
   "source": [
    "norm_activations2 = f_activations[1].t() * ((1 / f_activations[1].max(dim=1).values))\n",
    "plt.imshow(norm_activations2.detach().numpy(), aspect='auto', cmap='Greys_r')"
   ]
  },
  {
   "cell_type": "code",
   "execution_count": 31,
   "metadata": {},
   "outputs": [],
   "source": [
    "def make_res_dict():\n",
    "    return OrderedDict(\n",
    "        identity_gc0=torch.empty(0, 64, 64, 256, dtype=torch.float32),\n",
    "\n",
    "        mha_gc1=torch.empty(0, 256, dtype=torch.float32),\n",
    "        identity_gc1=torch.empty(0, 64, 64, 256, dtype=torch.float32),\n",
    "\n",
    "        mha_gc2=torch.empty(0, 256, dtype=torch.float32),\n",
    "        identity_gc2=torch.empty(0, 64, 64, 256, dtype=torch.float32),\n",
    "\n",
    "        mha_gc3=torch.empty(0, 256, dtype=torch.float32),\n",
    "        identity_gc3=torch.empty(0, 64, 64, 256, dtype=torch.float32),\n",
    "\n",
    "        mha_fc1=torch.empty(0, 256, dtype=torch.float32),\n",
    "        identity_fc1=torch.empty(0, 256, dtype=torch.float32),\n",
    "\n",
    "        mha_fc2=torch.empty(0, 256, dtype=torch.float32),\n",
    "        identity_fc2=torch.empty(0, 256, dtype=torch.float32),\n",
    "\n",
    "        mha_fc3=torch.empty(0, 28, dtype=torch.float32),\n",
    "        identity_fc3=torch.empty(0, 28, dtype=torch.float32),\n",
    "    )"
   ]
  },
  {
   "cell_type": "code",
   "execution_count": 32,
   "metadata": {},
   "outputs": [],
   "source": [
    "g_keys = [\n",
    "    'identity_gc0',\n",
    "    'mha_gc1',\n",
    "    'identity_gc1',\n",
    "    'mha_gc2',\n",
    "    'identity_gc2',\n",
    "    'mha_gc3',\n",
    "    'identity_gc3',\n",
    "]\n",
    "f_keys = [\n",
    "    'mha_fc1',\n",
    "    'identity_fc1',\n",
    "    'mha_fc2',\n",
    "    'identity_fc2',\n",
    "    'mha_fc3',\n",
    "    'identity_fc3'\n",
    "]\n",
    "\n",
    "mha_keys = [\n",
    "    'mha_gc1',\n",
    "    'mha_gc2',\n",
    "    'mha_gc3',\n",
    "    'mha_fc1',\n",
    "    'mha_fc2',\n",
    "    'mha_fc3',\n",
    "\n",
    "]\n",
    "\n",
    "identity_keys = [\n",
    "    'identity_gc0',\n",
    "    'identity_gc1',\n",
    "    'identity_gc2',\n",
    "    'identity_gc3',\n",
    "    'identity_fc1',\n",
    "    'identity_fc2',\n",
    "    'identity_fc3',\n",
    "]"
   ]
  },
  {
   "cell_type": "code",
   "execution_count": 42,
   "metadata": {},
   "outputs": [],
   "source": [
    "loader = DataLoader(selected_datasets_per_qtype['exist'], batch_size=2, shuffle=False, num_workers=0, collate_fn=collate_samples_from_pixels)"
   ]
  },
  {
   "cell_type": "code",
   "execution_count": 43,
   "metadata": {},
   "outputs": [
    {
     "data": {
      "application/vnd.jupyter.widget-view+json": {
       "model_id": "d9fde31931d54301af4aa5f756892071",
       "version_major": 2,
       "version_minor": 0
      },
      "text/plain": [
       "HBox(children=(IntProgress(value=0, max=13), HTML(value='')))"
      ]
     },
     "metadata": {},
     "output_type": "display_data"
    },
    {
     "data": {
      "application/vnd.jupyter.widget-view+json": {
       "model_id": "3c6887b1133246778163e027caca865b",
       "version_major": 2,
       "version_minor": 0
      },
      "text/plain": [
       "HBox(children=(IntProgress(value=0, max=1000), HTML(value='')))"
      ]
     },
     "metadata": {},
     "output_type": "display_data"
    },
    {
     "data": {
      "application/vnd.jupyter.widget-view+json": {
       "model_id": "aa5ba32a69134543aa2761eb8ac68de7",
       "version_major": 2,
       "version_minor": 0
      },
      "text/plain": [
       "HBox(children=(IntProgress(value=0, max=1000), HTML(value='')))"
      ]
     },
     "metadata": {},
     "output_type": "display_data"
    },
    {
     "data": {
      "application/vnd.jupyter.widget-view+json": {
       "model_id": "c220e9a216284859b859ec53a1fe6c22",
       "version_major": 2,
       "version_minor": 0
      },
      "text/plain": [
       "HBox(children=(IntProgress(value=0, max=1000), HTML(value='')))"
      ]
     },
     "metadata": {},
     "output_type": "display_data"
    },
    {
     "data": {
      "application/vnd.jupyter.widget-view+json": {
       "model_id": "dcbf627e169348feacc45bf0fa550e4a",
       "version_major": 2,
       "version_minor": 0
      },
      "text/plain": [
       "HBox(children=(IntProgress(value=0, max=1000), HTML(value='')))"
      ]
     },
     "metadata": {},
     "output_type": "display_data"
    },
    {
     "data": {
      "application/vnd.jupyter.widget-view+json": {
       "model_id": "23d5bee68af24e148f8621c3e290a509",
       "version_major": 2,
       "version_minor": 0
      },
      "text/plain": [
       "HBox(children=(IntProgress(value=0, max=1000), HTML(value='')))"
      ]
     },
     "metadata": {},
     "output_type": "display_data"
    },
    {
     "data": {
      "application/vnd.jupyter.widget-view+json": {
       "model_id": "6ef0f5b6d4c346ceac8ab1acba6c5fa4",
       "version_major": 2,
       "version_minor": 0
      },
      "text/plain": [
       "HBox(children=(IntProgress(value=0, max=1000), HTML(value='')))"
      ]
     },
     "metadata": {},
     "output_type": "display_data"
    },
    {
     "data": {
      "application/vnd.jupyter.widget-view+json": {
       "model_id": "e619bfe2d3d049c5a6dd6040d47c52ee",
       "version_major": 2,
       "version_minor": 0
      },
      "text/plain": [
       "HBox(children=(IntProgress(value=0, max=1000), HTML(value='')))"
      ]
     },
     "metadata": {},
     "output_type": "display_data"
    },
    {
     "data": {
      "application/vnd.jupyter.widget-view+json": {
       "model_id": "5a56b12a1d814ae0a1185c7d07a8b13b",
       "version_major": 2,
       "version_minor": 0
      },
      "text/plain": [
       "HBox(children=(IntProgress(value=0, max=1000), HTML(value='')))"
      ]
     },
     "metadata": {},
     "output_type": "display_data"
    },
    {
     "data": {
      "application/vnd.jupyter.widget-view+json": {
       "model_id": "eff50cf4542248f4bb17640f5a85e657",
       "version_major": 2,
       "version_minor": 0
      },
      "text/plain": [
       "HBox(children=(IntProgress(value=0, max=1000), HTML(value='')))"
      ]
     },
     "metadata": {},
     "output_type": "display_data"
    },
    {
     "data": {
      "application/vnd.jupyter.widget-view+json": {
       "model_id": "5d178034e14a48d885550b45b73ed088",
       "version_major": 2,
       "version_minor": 0
      },
      "text/plain": [
       "HBox(children=(IntProgress(value=0, max=1000), HTML(value='')))"
      ]
     },
     "metadata": {},
     "output_type": "display_data"
    },
    {
     "data": {
      "application/vnd.jupyter.widget-view+json": {
       "model_id": "085e64b4cc1a4d6698c4127bd4f2fb65",
       "version_major": 2,
       "version_minor": 0
      },
      "text/plain": [
       "HBox(children=(IntProgress(value=0, max=1000), HTML(value='')))"
      ]
     },
     "metadata": {},
     "output_type": "display_data"
    },
    {
     "data": {
      "application/vnd.jupyter.widget-view+json": {
       "model_id": "efca0a7fa31d4405ac2923db1d7bf643",
       "version_major": 2,
       "version_minor": 0
      },
      "text/plain": [
       "HBox(children=(IntProgress(value=0, max=1000), HTML(value='')))"
      ]
     },
     "metadata": {},
     "output_type": "display_data"
    },
    {
     "data": {
      "application/vnd.jupyter.widget-view+json": {
       "model_id": "da4f1dbc0aad4c9b930a70652b464773",
       "version_major": 2,
       "version_minor": 0
      },
      "text/plain": [
       "HBox(children=(IntProgress(value=0, max=1000), HTML(value='')))"
      ]
     },
     "metadata": {},
     "output_type": "display_data"
    }
   ],
   "source": [
    "all_res = {}\n",
    "for qtype in tqdm(qtypes):\n",
    "    res = make_res_dict()\n",
    "\n",
    "    with torch.no_grad():\n",
    "        model.eval()\n",
    "        for i, b in tqdm(enumerate(loader), total=len(loader)):\n",
    "            model.coord_tensor = None\n",
    "            mid_res, _ = mid_getter(b['image'], b['question'])\n",
    "\n",
    "            for k in mha_keys:\n",
    "                res[k] = torch.cat((res[k], mid_res[k][1].squeeze(1)))\n",
    "\n",
    "            for k in identity_keys:\n",
    "                if 'gc' in k:\n",
    "                    res[k] = torch.cat((res[k], mid_res[k].view(-1, 64, 64, 256)))\n",
    "                else:\n",
    "                    res[k] = torch.cat((res[k], mid_res[k]))\n",
    "\n",
    "            if i == 2:\n",
    "                break\n",
    "\n",
    "    all_res[qtype] = res"
   ]
  },
  {
   "cell_type": "code",
   "execution_count": 111,
   "metadata": {},
   "outputs": [
    {
     "data": {
      "text/plain": [
       "[('identity_gc0', torch.Size([6, 64, 64, 256])),\n",
       " ('mha_gc1', torch.Size([6, 256])),\n",
       " ('identity_gc1', torch.Size([6, 64, 64, 256])),\n",
       " ('mha_gc2', torch.Size([6, 256])),\n",
       " ('identity_gc2', torch.Size([6, 64, 64, 256])),\n",
       " ('mha_gc3', torch.Size([6, 256])),\n",
       " ('identity_gc3', torch.Size([6, 64, 64, 256])),\n",
       " ('mha_fc1', torch.Size([6, 256])),\n",
       " ('identity_fc1', torch.Size([6, 256])),\n",
       " ('mha_fc2', torch.Size([6, 256])),\n",
       " ('identity_fc2', torch.Size([6, 256])),\n",
       " ('mha_fc3', torch.Size([6, 28])),\n",
       " ('identity_fc3', torch.Size([6, 28]))]"
      ]
     },
     "execution_count": 111,
     "metadata": {},
     "output_type": "execute_result"
    }
   ],
   "source": [
    "[(n, r.size()) for n, r in res.items()]"
   ]
  },
  {
   "cell_type": "code",
   "execution_count": 46,
   "metadata": {},
   "outputs": [],
   "source": [
    "def stretch_tensor(t, size=256):\n",
    "    if t.size(-1) == size:\n",
    "        return t\n",
    "    \n",
    "    new_t = torch.ones(t.size(0), size, dtype=t.dtype)\n",
    "    n_reps = size // t.size(-1)\n",
    "    padding = (size % t.size(-1)) // 2\n",
    "    \n",
    "    for i, val in enumerate(t.t()):\n",
    "        new_t[:, padding + i * n_reps: padding + (i + 1) * n_reps] = val.unsqueeze(-1).expand(t.size(0), n_reps)\n",
    "        \n",
    "    return new_t"
   ]
  },
  {
   "cell_type": "code",
   "execution_count": 109,
   "metadata": {},
   "outputs": [
    {
     "data": {
      "image/png": "[encoded data removed]",
      "text/plain": [
       "<Figure size 720x432 with 15 Axes>"
      ]
     },
     "metadata": {
      "needs_background": "light"
     },
     "output_type": "display_data"
    }
   ],
   "source": [
    "fig, axes = plt.subplots(ncols=7, nrows=2, figsize=(10, 6), sharey=True, constrained_layout=True)\n",
    "\n",
    "norm = colors.LogNorm()\n",
    "for i, (qtype, results) in enumerate(all_res.items()):\n",
    "    ax = axes[i // 7][i % 7]\n",
    "    img = ax.imshow(\n",
    "        np.array([stretch_tensor(results[k]).mean(dim=0).numpy() for k in mha_keys]).T,\n",
    "        aspect='auto',\n",
    "        cmap='Greys_r',\n",
    "        norm=norm,\n",
    "        # vmin=0, vmax=1,\n",
    "        # vmin=1e-5, vmax=1\n",
    "    )\n",
    "    ax.set_title(qtype)\n",
    "    ax.set_yticks([64 * i for i in range(4)])\n",
    "    ax.set_xticks(list(range(6)))\n",
    "    ax.set_xticklabels(['g_fc1', 'g_fc2', 'g_fc3', 'f_fc1', 'f_fc2', 'f_fc3'], rotation='vertical')\n",
    "    \n",
    "cax, kw = mpl.colorbar.make_axes([ax for ax in axes.flat[::-1]], aspect=75)\n",
    "cbar = plt.colorbar(img, cax=cax, aspect=1, **kw)\n",
    "\n",
    "axes[-1, -1].axis('off')\n",
    "# plt.tight_layout()\n",
    "# plt.axis('off')\n",
    "plt.show()"
   ]
  }
 ],
 "metadata": {
  "kernelspec": {
   "display_name": "Python 3",
   "language": "python",
   "name": "python3"
  },
  "language_info": {
   "codemirror_mode": {
    "name": "ipython",
    "version": 3
   },
   "file_extension": ".py",
   "mimetype": "text/x-python",
   "name": "python",
   "nbconvert_exporter": "python",
   "pygments_lexer": "ipython3",
   "version": "3.7.4"
  },
  "latex_envs": {
   "LaTeX_envs_menu_present": true,
   "autoclose": false,
   "autocomplete": true,
   "bibliofile": "biblio.bib",
   "cite_by": "apalike",
   "current_citInitial": 1,
   "eqLabelWithNumbers": true,
   "eqNumInitial": 1,
   "hotkeys": {
    "equation": "Ctrl-E",
    "itemize": "Ctrl-I"
   },
   "labels_anchors": false,
   "latex_user_defs": false,
   "report_style_numbering": false,
   "user_envs_cfg": false
  },
  "varInspector": {
   "cols": {
    "lenName": 16,
    "lenType": 16,
    "lenVar": 40
   },
   "kernels_config": {
    "python": {
     "delete_cmd_postfix": "",
     "delete_cmd_prefix": "del ",
     "library": "var_list.py",
     "varRefreshCmd": "print(var_dic_list())"
    },
    "r": {
     "delete_cmd_postfix": ") ",
     "delete_cmd_prefix": "rm(",
     "library": "var_list.r",
     "varRefreshCmd": "cat(var_dic_list()) "
    }
   },
   "types_to_exclude": [
    "module",
    "function",
    "builtin_function_or_method",
    "instance",
    "_Feature"
   ],
   "window_display": false
  }
 },
 "nbformat": 4,
 "nbformat_minor": 2
}
