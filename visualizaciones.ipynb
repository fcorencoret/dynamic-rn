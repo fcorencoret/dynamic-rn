{
 "cells": [
  {
   "cell_type": "code",
   "execution_count": 1,
   "metadata": {},
   "outputs": [],
   "source": [
    "%load_ext autddoreload\n",
    "%autoreload 2"
   ]
  },
  {
   "cell_type": "code",
   "execution_count": 2,
   "metadata": {},
   "outputs": [],
   "source": [
    "import sys\n",
    "\n",
    "sys.path.insert(0, '../')"
   ]
  },
  {
   "cell_type": "code",
   "execution_count": 2,
   "metadata": {},
   "outputs": [],
   "source": [
    "import torch\n",
    "from torch.utils.data import DataLoader, Subset\n",
    "\n",
    "import sys\n",
    "import json\n",
    "import pickle\n",
    "from collections import OrderedDict\n",
    "\n",
    "from attrdict import AttrDict\n",
    "from tqdm import tqdm_notebook as tqdm\n",
    "\n",
    "import numpy as np\n",
    "\n",
    "import matplotlib as mpl\n",
    "from matplotlib import colors\n",
    "import matplotlib.pyplot as plt\n",
    "\n",
    "from model import RN\n",
    "from utils import build_dictionaries, collate_samples_from_pixels\n",
    "from train import initialize_dataset\n",
    "from viz.IntermediateLayerGetter import IntermediateLayerGetter"
   ]
  },
  {
   "cell_type": "code",
   "execution_count": 3,
   "metadata": {},
   "outputs": [],
   "source": [
    "with open('config.json', 'r') as f:\n",
    "    hyp = json.load(f)['hyperparams']['original-fp']"
   ]
  },
  {
   "cell_type": "code",
   "execution_count": 4,
   "metadata": {},
   "outputs": [],
   "source": [
    "# dictionaries = build_dictionaries('/Users/sebamenabar/Documents/datasets/CLEVR/CLEVR_v1.0/')"
   ]
  },
  {
   "cell_type": "code",
   "execution_count": 5,
   "metadata": {},
   "outputs": [],
   "source": [
    "with open('viz/CLEVR_built_dictionaries.pkl', 'rb') as f:\n",
    "    dictionaries = pickle.load(f)"
   ]
  },
  {
   "cell_type": "code",
   "execution_count": 6,
   "metadata": {},
   "outputs": [
    {
     "data": {
      "text/plain": [
       "(82, 28)"
      ]
     },
     "execution_count": 6,
     "metadata": {},
     "output_type": "execute_result"
    }
   ],
   "source": [
    "len(dictionaries[0]), len(dictionaries[1])"
   ]
  },
  {
   "cell_type": "code",
   "execution_count": 7,
   "metadata": {},
   "outputs": [],
   "source": [
    "args = AttrDict()\n",
    "args.qdict_size = len(dictionaries[0])\n",
    "args.adict_size = len(dictionaries[1])"
   ]
  },
  {
   "cell_type": "code",
   "execution_count": 8,
   "metadata": {},
   "outputs": [
    {
     "name": "stdout",
     "output_type": "stream",
     "text": [
      "==> using cached questions: questions/CLEVR_train_questions.pkl\n",
      "==> using cached questions: questions/CLEVR_val_questions.pkl\n"
     ]
    }
   ],
   "source": [
    "train, val = initialize_dataset(\n",
    "    clevr_dir='/Users/sebamenabar/Documents/datasets/CLEVR/CLEVR_v1.0/',\n",
    "    dictionaries=dictionaries,\n",
    "    state_description=False,\n",
    "    sub_set=1,\n",
    ")"
   ]
  },
  {
   "cell_type": "code",
   "execution_count": 9,
   "metadata": {},
   "outputs": [
    {
     "data": {
      "text/plain": [
       "(699989, 149991)"
      ]
     },
     "execution_count": 9,
     "metadata": {},
     "output_type": "execute_result"
    }
   ],
   "source": [
    "len(train), len(val)"
   ]
  },
  {
   "cell_type": "code",
   "execution_count": 10,
   "metadata": {},
   "outputs": [],
   "source": [
    "qtypes = np.unique([q['program'][-1]['function'] for q in val.questions])"
   ]
  },
  {
   "cell_type": "code",
   "execution_count": 11,
   "metadata": {},
   "outputs": [
    {
     "data": {
      "application/vnd.jupyter.widget-view+json": {
       "model_id": "689de22c2e0b4467ad770453971480dc",
       "version_major": 2,
       "version_minor": 0
      },
      "text/plain": [
       "HBox(children=(IntProgress(value=0, max=13), HTML(value='')))"
      ]
     },
     "metadata": {},
     "output_type": "display_data"
    },
    {
     "name": "stdout",
     "output_type": "stream",
     "text": [
      "\n"
     ]
    }
   ],
   "source": [
    "indexes_per_qtype = {\n",
    "    qtype: [index for index, q in enumerate(val.questions) if q['program'][-1]['function'] == qtype] for qtype in tqdm(qtypes)\n",
    "}"
   ]
  },
  {
   "cell_type": "code",
   "execution_count": 12,
   "metadata": {},
   "outputs": [
    {
     "data": {
      "text/plain": [
       "([35422,\n",
       "  6667,\n",
       "  3447,\n",
       "  6898,\n",
       "  6791,\n",
       "  6742,\n",
       "  20196,\n",
       "  4993,\n",
       "  5101,\n",
       "  13544,\n",
       "  13404,\n",
       "  13273,\n",
       "  13513],\n",
       " 149991)"
      ]
     },
     "execution_count": 12,
     "metadata": {},
     "output_type": "execute_result"
    }
   ],
   "source": [
    "[len(idxs) for idxs in indexes_per_qtype.values()], sum([len(idxs) for idxs in indexes_per_qtype.values()])"
   ]
  },
  {
   "cell_type": "code",
   "execution_count": 14,
   "metadata": {},
   "outputs": [],
   "source": [
    "datasets_per_qtype = {\n",
    "    qtype: Subset(val, idxs) for qtype, idxs in indexes_per_qtype.items()\n",
    "}"
   ]
  },
  {
   "cell_type": "code",
   "execution_count": 15,
   "metadata": {},
   "outputs": [],
   "source": [
    "N_SAMPLES = 2000\n",
    "selected_idxs_per_qtype = {\n",
    "    qtype: np.sort(\n",
    "        np.random.choice(np.arange(0, len(ds)), size=N_SAMPLES, replace=False)).tolist()\n",
    "    for qtype, ds in datasets_per_qtype.items()\n",
    "}"
   ]
  },
  {
   "cell_type": "code",
   "execution_count": 16,
   "metadata": {},
   "outputs": [],
   "source": [
    "# with open('viz/selected_idxs_per_qtype.json', 'w') as f:\n",
    "#     json.dump(selected_idxs_per_qtype, f)"
   ]
  },
  {
   "cell_type": "code",
   "execution_count": 17,
   "metadata": {},
   "outputs": [],
   "source": [
    "with open('viz/selected_idxs_per_qtype.json', 'r') as f:\n",
    "    selected_idxs_per_qtype = json.load(f)"
   ]
  },
  {
   "cell_type": "code",
   "execution_count": 18,
   "metadata": {},
   "outputs": [],
   "source": [
    "selected_datasets_per_qtype = {\n",
    "    qtype: Subset(ds, selected_idxs_per_qtype[qtype]) for qtype, ds in datasets_per_qtype.items()\n",
    "}"
   ]
  },
  {
   "cell_type": "code",
   "execution_count": 19,
   "metadata": {},
   "outputs": [
    {
     "data": {
      "text/plain": [
       "([2000,\n",
       "  2000,\n",
       "  2000,\n",
       "  2000,\n",
       "  2000,\n",
       "  2000,\n",
       "  2000,\n",
       "  2000,\n",
       "  2000,\n",
       "  2000,\n",
       "  2000,\n",
       "  2000,\n",
       "  2000],\n",
       " 26000)"
      ]
     },
     "execution_count": 19,
     "metadata": {},
     "output_type": "execute_result"
    }
   ],
   "source": [
    "[len(idxs) for idxs in selected_datasets_per_qtype.values()], sum([len(idxs) for idxs in selected_datasets_per_qtype.values()])"
   ]
  },
  {
   "cell_type": "code",
   "execution_count": 20,
   "metadata": {},
   "outputs": [],
   "source": [
    "def stretch_tensor(t, size=256):\n",
    "    if t.size(-1) == size:\n",
    "        return t\n",
    "    \n",
    "    new_t = torch.ones(t.size(0), size, dtype=t.dtype)\n",
    "    n_reps = size // t.size(-1)\n",
    "    padding = (size % t.size(-1)) // 2\n",
    "    \n",
    "    for i, val in enumerate(t.t()):\n",
    "        new_t[:, padding + i * n_reps: padding + (i + 1) * n_reps] = val.unsqueeze(-1).expand(t.size(0), n_reps)\n",
    "        \n",
    "    return new_t\n",
    "\n",
    "return_layers = {\n",
    "    'rl.mha_fc1': 'mha_fc1',\n",
    "    'rl.mha_fc2': 'mha_fc2',\n",
    "    'rl.mha_fc3': 'mha_fc3',\n",
    "    'rl.identity_fc1': 'identity_fc1',\n",
    "    'rl.identity_fc2': 'identity_fc2',\n",
    "    'rl.identity_fc3': 'identity_fc3',\n",
    "    \n",
    "    'rl.mha_layers.0': 'mha_gc0',\n",
    "    'rl.mha_layers.1': 'mha_gc1',\n",
    "    'rl.mha_layers.2': 'mha_gc2',\n",
    "    'rl.mha_layers.3': 'mha_gc3',\n",
    "    'rl.identity_layers.0': 'identity_gc0',\n",
    "    'rl.identity_layers.1': 'identity_gc1',\n",
    "    'rl.identity_layers.2': 'identity_gc2',\n",
    "    'rl.identity_layers.3': 'identity_gc3',\n",
    "}\n",
    "\n",
    "def make_res_dict():\n",
    "    return OrderedDict(\n",
    "        identity_gc0=torch.empty(0, 64, 64, 256, dtype=torch.float32),\n",
    "\n",
    "        mha_gc1=torch.empty(0, 256, dtype=torch.float32),\n",
    "        identity_gc1=torch.empty(0, 64, 64, 256, dtype=torch.float32),\n",
    "\n",
    "        mha_gc2=torch.empty(0, 256, dtype=torch.float32),\n",
    "        identity_gc2=torch.empty(0, 64, 64, 256, dtype=torch.float32),\n",
    "\n",
    "        mha_gc3=torch.empty(0, 256, dtype=torch.float32),\n",
    "        identity_gc3=torch.empty(0, 64, 64, 256, dtype=torch.float32),\n",
    "\n",
    "        mha_fc1=torch.empty(0, 256, dtype=torch.float32),\n",
    "        identity_fc1=torch.empty(0, 256, dtype=torch.float32),\n",
    "\n",
    "        mha_fc2=torch.empty(0, 256, dtype=torch.float32),\n",
    "        identity_fc2=torch.empty(0, 256, dtype=torch.float32),\n",
    "\n",
    "        mha_fc3=torch.empty(0, 28, dtype=torch.float32),\n",
    "        identity_fc3=torch.empty(0, 28, dtype=torch.float32),\n",
    "    )\n",
    "\n",
    "g_keys = [\n",
    "    'identity_gc0',\n",
    "    'mha_gc1',\n",
    "    'identity_gc1',\n",
    "    'mha_gc2',\n",
    "    'identity_gc2',\n",
    "    'mha_gc3',\n",
    "    'identity_gc3',\n",
    "]\n",
    "f_keys = [\n",
    "    'mha_fc1',\n",
    "    'identity_fc1',\n",
    "    'mha_fc2',\n",
    "    'identity_fc2',\n",
    "    'mha_fc3',\n",
    "    'identity_fc3'\n",
    "]\n",
    "\n",
    "mha_keys = [\n",
    "    'mha_gc1',\n",
    "    'mha_gc2',\n",
    "    'mha_gc3',\n",
    "    'mha_fc1',\n",
    "    'mha_fc2',\n",
    "    'mha_fc3',\n",
    "]\n",
    "\n",
    "identity_keys = [\n",
    "    'identity_gc0',\n",
    "    'identity_gc1',\n",
    "    'identity_gc2',\n",
    "    'identity_gc3',\n",
    "    'identity_fc1',\n",
    "    'identity_fc2',\n",
    "    'identity_fc3',\n",
    "]\n",
    "\n",
    "def plot_masks(masks):\n",
    "    fig, axes = plt.subplots(ncols=7, nrows=2, figsize=(10, 6), sharey=True, constrained_layout=True)\n",
    "\n",
    "    norm = colors.LogNorm()\n",
    "    for i, (qtype, im) in enumerate(masks.items()):\n",
    "        ax = axes[i // 7][i % 7]\n",
    "        img = ax.imshow(\n",
    "            im.detach().numpy().T,\n",
    "            aspect='auto',\n",
    "            cmap='Greys_r',\n",
    "            norm=norm,\n",
    "            # vmin=0, vmax=1,\n",
    "            # vmin=1e-5, vmax=1\n",
    "        )\n",
    "        ax.set_title(qtype)\n",
    "        ax.set_yticks([64 * i for i in range(4)])\n",
    "        # ax.set_xticks(list(range(6)))\n",
    "        ax.set_xticks(tuple())\n",
    "        # ax.set_xticklabels(['g_fc1', 'g_fc2', 'g_fc3', 'f_fc1', 'f_fc2', 'f_fc3'], rotation='vertical')\n",
    "    \n",
    "    cax, kw = mpl.colorbar.make_axes([ax for ax in axes.flat[::-1]], aspect=75)\n",
    "    cbar = plt.colorbar(img, cax=cax, aspect=1, **kw)\n",
    "\n",
    "    axes[-1, -1].axis('off')\n",
    "    plt.show()"
   ]
  },
  {
   "cell_type": "code",
   "execution_count": 23,
   "metadata": {},
   "outputs": [
    {
     "name": "stdout",
     "output_type": "stream",
     "text": [
      "Supposing original DeepMind model\n"
     ]
    }
   ],
   "source": [
    "model = RN(args=args, hyp=hyp)\n",
    "model = torch.nn.DataParallel(model)\n",
    "model.load_state_dict(torch.load('best_weights/f0.pth', map_location='cpu'))\n",
    "model = model.module\n",
    "\n",
    "mid_getter = IntermediateLayerGetter(model, return_layers, keep_output=False)"
   ]
  },
  {
   "cell_type": "code",
   "execution_count": 109,
   "metadata": {},
   "outputs": [
    {
     "data": {
      "text/plain": [
       "{'image': tensor([[[0.4118, 0.4118, 0.4118,  ..., 0.4039, 0.4039, 0.4039],\n",
       "          [0.4118, 0.4118, 0.4118,  ..., 0.4039, 0.4039, 0.4039],\n",
       "          [0.4118, 0.4157, 0.4157,  ..., 0.4039, 0.4039, 0.4039],\n",
       "          ...,\n",
       "          [0.4745, 0.4745, 0.4745,  ..., 0.5608, 0.5608, 0.5569],\n",
       "          [0.4745, 0.4745, 0.4745,  ..., 0.5608, 0.5608, 0.5569],\n",
       "          [0.4745, 0.4745, 0.4784,  ..., 0.5608, 0.5608, 0.5608]],\n",
       " \n",
       "         [[0.4118, 0.4118, 0.4118,  ..., 0.4039, 0.4039, 0.4039],\n",
       "          [0.4118, 0.4118, 0.4118,  ..., 0.4039, 0.4039, 0.4039],\n",
       "          [0.4118, 0.4157, 0.4118,  ..., 0.4039, 0.4039, 0.4039],\n",
       "          ...,\n",
       "          [0.4706, 0.4706, 0.4706,  ..., 0.5529, 0.5490, 0.5490],\n",
       "          [0.4706, 0.4706, 0.4706,  ..., 0.5529, 0.5529, 0.5490],\n",
       "          [0.4706, 0.4706, 0.4745,  ..., 0.5529, 0.5529, 0.5490]],\n",
       " \n",
       "         [[0.4118, 0.4118, 0.4078,  ..., 0.4039, 0.4039, 0.4039],\n",
       "          [0.4118, 0.4118, 0.4078,  ..., 0.4039, 0.4039, 0.4039],\n",
       "          [0.4118, 0.4118, 0.4118,  ..., 0.4039, 0.4039, 0.4000],\n",
       "          ...,\n",
       "          [0.4627, 0.4667, 0.4667,  ..., 0.5373, 0.5333, 0.5333],\n",
       "          [0.4667, 0.4667, 0.4667,  ..., 0.5373, 0.5373, 0.5333],\n",
       "          [0.4627, 0.4667, 0.4667,  ..., 0.5373, 0.5373, 0.5333]]]),\n",
       " 'question': tensor([25,  2, 52, 37, 64, 24, 31, 73, 17, 18, 19, 20, 17, 33, 10, 24, 12]),\n",
       " 'answer': tensor([1])}"
      ]
     },
     "execution_count": 109,
     "metadata": {},
     "output_type": "execute_result"
    }
   ],
   "source": [
    "selected_datasets_per_qtype['exist'][1]"
   ]
  },
  {
   "cell_type": "code",
   "execution_count": 110,
   "metadata": {},
   "outputs": [],
   "source": [
    "loader = DataLoader(selected_datasets_per_qtype['exist'], batch_size=2, shuffle=False, num_workers=0, collate_fn=collate_samples_from_pixels)"
   ]
  },
  {
   "cell_type": "code",
   "execution_count": 111,
   "metadata": {},
   "outputs": [],
   "source": [
    "b = next(iter(loader))\n",
    "\n",
    "with torch.no_grad():\n",
    "    model.eval()\n",
    "    model.coord_tensor = None\n",
    "    mid_res, _ = mid_getter(b['image'], b['question'])"
   ]
  },
  {
   "cell_type": "code",
   "execution_count": 147,
   "metadata": {},
   "outputs": [
    {
     "data": {
      "text/plain": [
       "tensor([ 1,  2, 47, 21, 70, 31, 48, 17, 18, 26, 20, 17,  4, 41, 24, 12,  0])"
      ]
     },
     "execution_count": 147,
     "metadata": {},
     "output_type": "execute_result"
    }
   ],
   "source": [
    "b['question'][0]"
   ]
  },
  {
   "cell_type": "code",
   "execution_count": 119,
   "metadata": {},
   "outputs": [],
   "source": [
    "%matplotlib inline"
   ]
  },
  {
   "cell_type": "code",
   "execution_count": 116,
   "metadata": {},
   "outputs": [],
   "source": [
    "f_activations = torch.stack([mid_res[f'identity_fc{i}'] for i in range(1, 3)], dim=1)"
   ]
  },
  {
   "cell_type": "code",
   "execution_count": 120,
   "metadata": {},
   "outputs": [
    {
     "data": {
      "text/plain": [
       "<matplotlib.image.AxesImage at 0x31a19fbd0>"
      ]
     },
     "execution_count": 120,
     "metadata": {},
     "output_type": "execute_result"
    },
    {
     "data": {
      "image/png": "[encoded data removed]",
      "text/plain": [
       "<Figure size 432x288 with 1 Axes>"
      ]
     },
     "metadata": {
      "needs_background": "light"
     },
     "output_type": "display_data"
    }
   ],
   "source": [
    "norm_activations = f_activations[0].t() * ((1 / f_activations[0].max(dim=1).values))\n",
    "plt.imshow(norm_activations.detach().numpy(), aspect='auto', cmap='Greys_r')"
   ]
  },
  {
   "cell_type": "code",
   "execution_count": 144,
   "metadata": {},
   "outputs": [],
   "source": [
    "g_activations = torch.stack([mid_res[f'identity_gc{i}'].view(-1, 64 * 64 * 256) for i in range(0, 4)], dim=1)"
   ]
  },
  {
   "cell_type": "code",
   "execution_count": 145,
   "metadata": {},
   "outputs": [
    {
     "data": {
      "text/plain": [
       "<matplotlib.colorbar.Colorbar at 0x31b000c90>"
      ]
     },
     "execution_count": 145,
     "metadata": {},
     "output_type": "execute_result"
    },
    {
     "data": {
      "image/png": "[encoded data removed]",
      "text/plain": [
       "<Figure size 432x288 with 2 Axes>"
      ]
     },
     "metadata": {
      "needs_background": "light"
     },
     "output_type": "display_data"
    }
   ],
   "source": [
    "norm_activations_g = g_activations[0].t() * ((1 / g_activations[0].max(dim=1).values))\n",
    "plt.imshow(norm_activations_g.detach().numpy(), aspect='auto', cmap='Greys_r')\n",
    "plt.colorbar()"
   ]
  },
  {
   "cell_type": "code",
   "execution_count": 146,
   "metadata": {},
   "outputs": [
    {
     "data": {
      "text/plain": [
       "tensor([ 782359,  943729,  982908, 1036209])"
      ]
     },
     "execution_count": 146,
     "metadata": {},
     "output_type": "execute_result"
    }
   ],
   "source": [
    "(g_activations[0] == 0).sum(dim=1)"
   ]
  },
  {
   "cell_type": "code",
   "execution_count": 121,
   "metadata": {},
   "outputs": [
    {
     "data": {
      "text/plain": [
       "<matplotlib.image.AxesImage at 0x319fe31d0>"
      ]
     },
     "execution_count": 121,
     "metadata": {},
     "output_type": "execute_result"
    },
    {
     "data": {
      "image/png": "[encoded data removed]",
      "text/plain": [
       "<Figure size 432x288 with 1 Axes>"
      ]
     },
     "metadata": {
      "needs_background": "light"
     },
     "output_type": "display_data"
    }
   ],
   "source": [
    "norm_activations2 = f_activations[1].t() * ((1 / f_activations[1].max(dim=1).values))\n",
    "plt.imshow(norm_activations2.detach().numpy(), aspect='auto', cmap='Greys_r')"
   ]
  },
  {
   "cell_type": "code",
   "execution_count": 142,
   "metadata": {},
   "outputs": [
    {
     "data": {
      "text/plain": [
       "tensor([ 25.6496, 102.4687])"
      ]
     },
     "execution_count": 142,
     "metadata": {},
     "output_type": "execute_result"
    }
   ],
   "source": [
    "(f_activations[1]).sum(dim=1)"
   ]
  },
  {
   "cell_type": "code",
   "execution_count": 66,
   "metadata": {},
   "outputs": [],
   "source": [
    "loader = DataLoader(selected_datasets_per_qtype['exist'], batch_size=5, shuffle=False, num_workers=0, collate_fn=collate_samples_from_pixels)"
   ]
  },
  {
   "cell_type": "code",
   "execution_count": null,
   "metadata": {},
   "outputs": [
    {
     "name": "stdout",
     "output_type": "stream",
     "text": [
      "Supposing original DeepMind model\n"
     ]
    },
    {
     "data": {
      "application/vnd.jupyter.widget-view+json": {
       "model_id": "d74bc4384f07427eb1fb2a0a39046973",
       "version_major": 2,
       "version_minor": 0
      },
      "text/plain": [
       "HBox(children=(IntProgress(value=0, max=13), HTML(value='')))"
      ]
     },
     "metadata": {},
     "output_type": "display_data"
    },
    {
     "data": {
      "application/vnd.jupyter.widget-view+json": {
       "model_id": "0f1972400c9644ad8b4ecebf1442e74b",
       "version_major": 2,
       "version_minor": 0
      },
      "text/plain": [
       "HBox(children=(IntProgress(value=0, max=200), HTML(value='')))"
      ]
     },
     "metadata": {},
     "output_type": "display_data"
    },
    {
     "data": {
      "application/vnd.jupyter.widget-view+json": {
       "model_id": "ae95d86ca5cc4b15ba0bd46ffd83224c",
       "version_major": 2,
       "version_minor": 0
      },
      "text/plain": [
       "HBox(children=(IntProgress(value=0, max=200), HTML(value='')))"
      ]
     },
     "metadata": {},
     "output_type": "display_data"
    },
    {
     "data": {
      "application/vnd.jupyter.widget-view+json": {
       "model_id": "161fa39b61c748609dc5bf05c64be80e",
       "version_major": 2,
       "version_minor": 0
      },
      "text/plain": [
       "HBox(children=(IntProgress(value=0, max=200), HTML(value='')))"
      ]
     },
     "metadata": {},
     "output_type": "display_data"
    },
    {
     "data": {
      "application/vnd.jupyter.widget-view+json": {
       "model_id": "a8a08f7f57494734ae367b33813af124",
       "version_major": 2,
       "version_minor": 0
      },
      "text/plain": [
       "HBox(children=(IntProgress(value=0, max=200), HTML(value='')))"
      ]
     },
     "metadata": {},
     "output_type": "display_data"
    },
    {
     "data": {
      "application/vnd.jupyter.widget-view+json": {
       "model_id": "090c75314d21489f960e0f181ab81e87",
       "version_major": 2,
       "version_minor": 0
      },
      "text/plain": [
       "HBox(children=(IntProgress(value=0, max=200), HTML(value='')))"
      ]
     },
     "metadata": {},
     "output_type": "display_data"
    },
    {
     "data": {
      "application/vnd.jupyter.widget-view+json": {
       "model_id": "1af5134cbe0c4fa783d5f412670b8cd4",
       "version_major": 2,
       "version_minor": 0
      },
      "text/plain": [
       "HBox(children=(IntProgress(value=0, max=200), HTML(value='')))"
      ]
     },
     "metadata": {},
     "output_type": "display_data"
    },
    {
     "data": {
      "application/vnd.jupyter.widget-view+json": {
       "model_id": "dfd84091e44d4ecfbd35511dcb7d3435",
       "version_major": 2,
       "version_minor": 0
      },
      "text/plain": [
       "HBox(children=(IntProgress(value=0, max=200), HTML(value='')))"
      ]
     },
     "metadata": {},
     "output_type": "display_data"
    },
    {
     "data": {
      "application/vnd.jupyter.widget-view+json": {
       "model_id": "b883b422f8b742858f52c877f07f75c2",
       "version_major": 2,
       "version_minor": 0
      },
      "text/plain": [
       "HBox(children=(IntProgress(value=0, max=200), HTML(value='')))"
      ]
     },
     "metadata": {},
     "output_type": "display_data"
    }
   ],
   "source": [
    "model = RN(args=args, hyp=hyp)\n",
    "model = torch.nn.DataParallel(model)\n",
    "model.load_state_dict(torch.load('best_weights/No_reg_sb_01.pth', map_location='cpu'))\n",
    "model = model.module\n",
    "\n",
    "mid_getter = IntermediateLayerGetter(model, return_layers, keep_output=False)\n",
    "\n",
    "all_res = {}\n",
    "for qtype in tqdm(qtypes):\n",
    "    res = make_res_dict()\n",
    "\n",
    "    loader = DataLoader(selected_datasets_per_qtype[qtype], batch_size=10, shuffle=False, num_workers=0, collate_fn=collate_samples_from_pixels)\n",
    "    with torch.no_grad():\n",
    "        model.eval()\n",
    "        for i, b in tqdm(enumerate(loader), total=len(loader)):\n",
    "        # for i, b in enumerate(loader):\n",
    "            model.coord_tensor = None\n",
    "            mid_res, _ = mid_getter(b['image'], b['question'])\n",
    "\n",
    "            for k in mha_keys:\n",
    "                res[k] = torch.cat((res[k], mid_res[k][1].squeeze(1)))\n",
    "\n",
    "            for k in identity_keys:\n",
    "                if 'gc' in k:\n",
    "                    res[k] = torch.cat((res[k], mid_res[k].view(-1, 64, 64, 256)))\n",
    "                else:\n",
    "                    res[k] = torch.cat((res[k], mid_res[k]))\n",
    "\n",
    "            if i == 0:\n",
    "                break\n",
    "\n",
    "    all_res[qtype] = res"
   ]
  },
  {
   "cell_type": "code",
   "execution_count": 260,
   "metadata": {},
   "outputs": [
    {
     "data": {
      "image/png": "[encoded data removed]",
      "text/plain": [
       "<Figure size 432x720 with 10 Axes>"
      ]
     },
     "metadata": {
      "needs_background": "light"
     },
     "output_type": "display_data"
    }
   ],
   "source": [
    "# Reg 0.1 subset 0.1\n",
    "\n",
    "fig, axes = plt.subplots(ncols=1, nrows=len(mha_keys) - 1, figsize=(6, 10), sharex=True, constrained_layout=True)\n",
    "\n",
    "norm = colors.LogNorm()\n",
    "for i, k in enumerate(mha_keys[:-1]):\n",
    "    ax = axes[i]\n",
    "    img = ax.imshow(\n",
    "        np.array([all_res[qtype][k].mean(dim=0).numpy() for qtype in qtypes]),\n",
    "        aspect='auto',\n",
    "        cmap='Greys_r',\n",
    "    )\n",
    "    ax.set_title(k)\n",
    "    ax.set_yticks(list(range(len(qtypes))))\n",
    "    ax.set_yticklabels(qtypes)\n",
    "    ax.set_xticks([64 * i for i in range(4)])\n",
    "    cbar = fig.colorbar(img, ax=ax)\n",
    "    \n",
    "plt.show()\n",
    "    "
   ]
  },
  {
   "cell_type": "code",
   "execution_count": null,
   "metadata": {},
   "outputs": [],
   "source": [
    "# No reg subset 0.1\n",
    "\n",
    "fig, axes = plt.subplots(ncols=1, nrows=len(mha_keys) - 1, figsize=(6, 10), sharex=True, constrained_layout=True)\n",
    "\n",
    "norm = colors.LogNorm()\n",
    "for i, k in enumerate(mha_keys[:-1]):\n",
    "    ax = axes[i]\n",
    "    img = ax.imshow(\n",
    "        np.array([all_res[qtype][k].mean(dim=0).numpy() for qtype in qtypes]),\n",
    "        aspect='auto',\n",
    "        cmap='Greys_r',\n",
    "    )\n",
    "    ax.set_title(k)\n",
    "    ax.set_yticks(list(range(len(qtypes))))\n",
    "    ax.set_yticklabels(qtypes)\n",
    "    ax.set_xticks([64 * i for i in range(4)])\n",
    "    cbar = fig.colorbar(img, ax=ax)\n",
    "    \n",
    "plt.show()\n",
    "    "
   ]
  },
  {
   "cell_type": "code",
   "execution_count": 177,
   "metadata": {},
   "outputs": [],
   "source": [
    "from viz_utils import get_all_metrics"
   ]
  },
  {
   "cell_type": "code",
   "execution_count": 208,
   "metadata": {},
   "outputs": [
    {
     "data": {
      "text/plain": [
       "(['identity_gc0',\n",
       "  'identity_gc1',\n",
       "  'identity_gc2',\n",
       "  'identity_gc3',\n",
       "  'identity_fc1',\n",
       "  'identity_fc2',\n",
       "  'identity_fc3'],\n",
       " ['mha_gc1', 'mha_gc2', 'mha_gc3', 'mha_fc1', 'mha_fc2', 'mha_fc3'])"
      ]
     },
     "execution_count": 208,
     "metadata": {},
     "output_type": "execute_result"
    }
   ],
   "source": [
    "identity_keys, mha_keys"
   ]
  },
  {
   "cell_type": "code",
   "execution_count": 180,
   "metadata": {},
   "outputs": [],
   "source": [
    "metrics = get_all_metrics(all_res, identity_keys, mha_keys)"
   ]
  },
  {
   "cell_type": "code",
   "execution_count": 236,
   "metadata": {},
   "outputs": [
    {
     "data": {
      "text/plain": [
       "tensor([  0.0000,   0.0000,   0.0000,   0.0000,   0.0000,   0.0000,   0.0000,\n",
       "          0.0000,  67.9000, 187.0000,   1.1000])"
      ]
     },
     "execution_count": 236,
     "metadata": {},
     "output_type": "execute_result"
    }
   ],
   "source": [
    "metrics['metrics_per_qtype']['count']['mha_gc1']['histograms_mean']"
   ]
  },
  {
   "cell_type": "code",
   "execution_count": 247,
   "metadata": {},
   "outputs": [
    {
     "data": {
      "text/plain": [
       "(array([0.00000000e+00, 0.00000000e+00, 0.00000000e+00, 0.00000000e+00,\n",
       "        0.00000000e+00, 0.00000000e+00, 1.00000001e-01, 1.07699997e+02,\n",
       "        1.22300003e+02, 2.58999996e+01]),\n",
       " array([0. , 0.1, 0.2, 0.3, 0.4, 0.5, 0.6, 0.7, 0.8, 0.9, 1. ]))"
      ]
     },
     "execution_count": 247,
     "metadata": {},
     "output_type": "execute_result"
    }
   ],
   "source": [
    "n, bins"
   ]
  },
  {
   "cell_type": "code",
   "execution_count": 252,
   "metadata": {},
   "outputs": [
    {
     "data": {
      "text/plain": [
       "tensor([ 0.0000,  0.0000,  0.0000,  0.0000,  0.0000,  0.0000,  0.3162, 89.1167,\n",
       "        72.8835, 17.8997,  0.3162])"
      ]
     },
     "execution_count": 252,
     "metadata": {},
     "output_type": "execute_result"
    }
   ],
   "source": [
    "metrics['metrics_per_qtype']['exist']['mha_gc3']['histograms_std']"
   ]
  },
  {
   "cell_type": "code",
   "execution_count": 251,
   "metadata": {},
   "outputs": [
    {
     "data": {
      "text/plain": [
       "<ErrorbarContainer object of 3 artists>"
      ]
     },
     "execution_count": 251,
     "metadata": {},
     "output_type": "execute_result"
    },
    {
     "data": {
      "image/png": "[encoded data removed]",
      "text/plain": [
       "<Figure size 432x288 with 1 Axes>"
      ]
     },
     "metadata": {
      "needs_background": "light"
     },
     "output_type": "display_data"
    }
   ],
   "source": [
    "n, bins, _ = plt.hist(\n",
    "    np.linspace(0, 1, 11), \n",
    "    weights=metrics['metrics_per_qtype']['exist']['mha_gc3']['histograms_mean'],\n",
    "    # yerr=metrics['metrics_per_qtype']['exist']['mha_gc3']['histograms_std'],\n",
    ")\n",
    "mid = 0.5 * (bins[1:] + bins[:-1])\n",
    "plt.errorbar(mid, n, yerr=metrics['metrics_per_qtype']['exist']['mha_gc3']['histograms_std'][:-1], fmt='none')"
   ]
  },
  {
   "cell_type": "code",
   "execution_count": 239,
   "metadata": {},
   "outputs": [
    {
     "data": {
      "text/plain": [
       "<BarContainer object of 11 artists>"
      ]
     },
     "execution_count": 239,
     "metadata": {},
     "output_type": "execute_result"
    },
    {
     "data": {
      "image/png": "[encoded data removed]",
      "text/plain": [
       "<Figure size 432x288 with 1 Axes>"
      ]
     },
     "metadata": {
      "needs_background": "light"
     },
     "output_type": "display_data"
    }
   ],
   "source": [
    "plt.bar(np.linspace(0, 1, 11), metrics['metrics_per_qtype']['count']['mha_gc1']['histograms_mean'], width=0.01)"
   ]
  },
  {
   "cell_type": "code",
   "execution_count": 232,
   "metadata": {},
   "outputs": [
    {
     "data": {
      "text/plain": [
       "tensor([  0.0000,   0.0000,   0.0000,   0.0000,   0.0000,   0.0000,   0.0000,\n",
       "          0.0000,  67.9000, 187.0000,   1.1000])"
      ]
     },
     "execution_count": 232,
     "metadata": {},
     "output_type": "execute_result"
    }
   ],
   "source": [
    "plmetrics['metrics_per_qtype']['count']['mha_gc1']['histograms_mean']"
   ]
  },
  {
   "cell_type": "code",
   "execution_count": 31,
   "metadata": {},
   "outputs": [],
   "source": [
    "from sklearn.manifold import TSNE"
   ]
  },
  {
   "cell_type": "code",
   "execution_count": 34,
   "metadata": {},
   "outputs": [
    {
     "data": {
      "text/plain": [
       "odict_keys(['identity_gc0', 'mha_gc1', 'identity_gc1', 'mha_gc2', 'identity_gc2', 'mha_gc3', 'identity_gc3', 'mha_fc1', 'identity_fc1', 'mha_fc2', 'identity_fc2', 'mha_fc3', 'identity_fc3'])"
      ]
     },
     "execution_count": 34,
     "metadata": {},
     "output_type": "execute_result"
    }
   ],
   "source": [
    "all_res['count'].keys()"
   ]
  },
  {
   "cell_type": "code",
   "execution_count": 46,
   "metadata": {},
   "outputs": [],
   "source": [
    "X_embedded = TSNE(n_components=2).fit_transform(torch.cat([all_res[qtype]['mha_gc1'] for qtype in qtypes]))"
   ]
  },
  {
   "cell_type": "code",
   "execution_count": 36,
   "metadata": {},
   "outputs": [
    {
     "data": {
      "text/plain": [
       "array([[ 153.93373 ,  129.25932 ],\n",
       "       [ 207.70412 ,  -33.28526 ],\n",
       "       [ -17.270176,  128.3473  ],\n",
       "       [ -69.30714 ,  -34.757526],\n",
       "       [  68.95953 ,   10.983522],\n",
       "       [  69.73261 , -134.65114 ]], dtype=float32)"
      ]
     },
     "execution_count": 36,
     "metadata": {},
     "output_type": "execute_result"
    }
   ],
   "source": [
    "X_embedded"
   ]
  },
  {
   "cell_type": "code",
   "execution_count": 172,
   "metadata": {},
   "outputs": [
    {
     "data": {
      "text/plain": [
       "torch.Size([256])"
      ]
     },
     "execution_count": 172,
     "metadata": {},
     "output_type": "execute_result"
    }
   ],
   "source": [
    "torch.cat([all_res[qtype]['mha_gc1'] for qtype in qtypes]).std(dim=0)"
   ]
  },
  {
   "cell_type": "code",
   "execution_count": 176,
   "metadata": {},
   "outputs": [
    {
     "name": "stdout",
     "output_type": "stream",
     "text": [
      "tensor([0.8454, 0.8479, 0.8543, 0.8536, 0.8497, 0.8535, 0.8496, 0.8525, 0.8474,\n",
      "        0.8474, 0.8535, 0.8501, 0.8576, 0.8476, 0.8474, 0.8497, 0.8489, 0.8474,\n",
      "        0.8486, 0.8488, 0.8470, 0.8522, 0.8486, 0.8482, 0.8473, 0.8484, 0.8481,\n",
      "        0.8473, 0.8537, 0.8584, 0.8497, 0.8493, 0.8535, 0.8657, 0.8460, 0.8473,\n",
      "        0.8473, 0.8487, 0.8473, 0.8473, 0.8477, 0.8517, 0.8515, 0.8474, 0.8572,\n",
      "        0.8505, 0.8473, 0.8476, 0.8584, 0.8512, 0.8497, 0.8473, 0.8494, 0.8494,\n",
      "        0.8473, 0.8475, 0.8583, 0.8505, 0.8473, 0.8511, 0.8498, 0.8524, 0.8504,\n",
      "        0.8493, 0.8496, 0.8510, 0.8498, 0.8473, 0.8478, 0.8513, 0.8595, 0.8473,\n",
      "        0.8473, 0.8474, 0.8487, 0.8534, 0.8474, 0.8504, 0.8503, 0.8473, 0.8515,\n",
      "        0.8476, 0.8532, 0.8522, 0.8698, 0.8534, 0.8505, 0.8529, 0.8498, 0.8473,\n",
      "        0.8637, 0.8474, 0.8475, 0.8291, 0.8476, 0.8483, 0.8530, 0.8473, 0.8475,\n",
      "        0.8533, 0.8497, 0.8476, 0.8492, 0.8581, 0.8540, 0.8473, 0.8901, 0.8473,\n",
      "        0.8492, 0.8473, 0.8543, 0.8599, 0.8495, 0.8553, 0.8474, 0.8496, 0.8462,\n",
      "        0.8473, 0.8474, 0.8492, 0.8491, 0.8469, 0.8533, 0.8453, 0.8594, 0.8473,\n",
      "        0.8473, 0.8473, 0.8504, 0.8475, 0.8497, 0.8494, 0.8476, 0.8478, 0.8488,\n",
      "        0.8491, 0.8502, 0.8545, 0.8476, 0.8576, 0.8591, 0.8473, 0.8507, 0.8477,\n",
      "        0.8498, 0.8500, 0.8554, 0.8475, 0.8493, 0.8473, 0.8500, 0.8519, 0.8485,\n",
      "        0.8496, 0.8546, 0.8494, 0.8476, 0.8441, 0.8477, 0.8473, 0.8562, 0.8473,\n",
      "        0.8476, 0.8495, 0.8503, 0.8530, 0.8533, 0.8491, 0.8497, 0.8524, 0.8488,\n",
      "        0.8473, 0.8517, 0.8489, 0.8470, 0.8508, 0.8476, 0.8639, 0.8491, 0.8476,\n",
      "        0.8473, 0.8505, 0.8448, 0.8482, 0.8490, 0.8503, 0.8582, 0.8473, 0.8508,\n",
      "        0.8498, 0.8515, 0.8486, 0.8476, 0.8476, 0.8482, 0.8495, 0.8473, 0.8456,\n",
      "        0.8655, 0.8554, 0.8705, 0.8473, 0.8471, 0.8506, 0.8480, 0.8473, 0.8476,\n",
      "        0.8529, 0.8484, 0.8496, 0.8516, 0.8524, 0.8579, 0.8476, 0.8466, 0.8498,\n",
      "        0.8470, 0.8486, 0.8544, 0.8473, 0.8473, 0.8531, 0.8486, 0.8503, 0.8473,\n",
      "        0.8473, 0.8473, 0.8549, 0.8493, 0.8473, 0.8496, 0.8525, 0.8590, 0.8578,\n",
      "        0.8532, 0.8493, 0.8504, 0.8485, 0.8517, 0.8506, 0.8638, 0.8473, 0.8493,\n",
      "        0.8499, 0.8525, 0.8473, 0.8498, 0.9033, 0.8596, 0.8551, 0.8516, 0.8503,\n",
      "        0.8494, 0.8551, 0.8509, 0.8554])\n"
     ]
    },
    {
     "data": {
      "text/plain": [
       "tensor([0.8618, 0.8642, 0.8705, 0.8699, 0.8660, 0.8698, 0.8659, 0.8687, 0.8637,\n",
       "        0.8637, 0.8697, 0.8664, 0.8737, 0.8639, 0.8638, 0.8660, 0.8652, 0.8637,\n",
       "        0.8649, 0.8651, 0.8633, 0.8684, 0.8649, 0.8645, 0.8636, 0.8647, 0.8644,\n",
       "        0.8637, 0.8699, 0.8746, 0.8660, 0.8656, 0.8698, 0.8817, 0.8624, 0.8636,\n",
       "        0.8636, 0.8650, 0.8636, 0.8637, 0.8640, 0.8680, 0.8678, 0.8637, 0.8734,\n",
       "        0.8668, 0.8636, 0.8639, 0.8745, 0.8675, 0.8660, 0.8637, 0.8657, 0.8657,\n",
       "        0.8636, 0.8638, 0.8745, 0.8668, 0.8636, 0.8674, 0.8660, 0.8686, 0.8667,\n",
       "        0.8656, 0.8659, 0.8673, 0.8661, 0.8636, 0.8641, 0.8676, 0.8756, 0.8636,\n",
       "        0.8636, 0.8637, 0.8650, 0.8697, 0.8638, 0.8667, 0.8666, 0.8636, 0.8678,\n",
       "        0.8639, 0.8694, 0.8685, 0.8857, 0.8696, 0.8667, 0.8691, 0.8661, 0.8636,\n",
       "        0.8797, 0.8637, 0.8638, 0.8456, 0.8639, 0.8646, 0.8693, 0.8637, 0.8638,\n",
       "        0.8695, 0.8659, 0.8640, 0.8655, 0.8742, 0.8702, 0.8637, 0.9052, 0.8637,\n",
       "        0.8655, 0.8636, 0.8706, 0.8761, 0.8658, 0.8715, 0.8637, 0.8659, 0.8626,\n",
       "        0.8636, 0.8637, 0.8655, 0.8654, 0.8632, 0.8695, 0.8616, 0.8756, 0.8637,\n",
       "        0.8636, 0.8637, 0.8667, 0.8638, 0.8660, 0.8657, 0.8639, 0.8642, 0.8651,\n",
       "        0.8654, 0.8665, 0.8707, 0.8639, 0.8737, 0.8752, 0.8637, 0.8670, 0.8640,\n",
       "        0.8661, 0.8663, 0.8716, 0.8639, 0.8656, 0.8636, 0.8663, 0.8682, 0.8648,\n",
       "        0.8659, 0.8708, 0.8657, 0.8639, 0.8604, 0.8640, 0.8637, 0.8724, 0.8636,\n",
       "        0.8639, 0.8658, 0.8666, 0.8693, 0.8695, 0.8654, 0.8660, 0.8686, 0.8651,\n",
       "        0.8636, 0.8680, 0.8652, 0.8633, 0.8670, 0.8639, 0.8799, 0.8654, 0.8639,\n",
       "        0.8636, 0.8668, 0.8612, 0.8645, 0.8653, 0.8666, 0.8744, 0.8637, 0.8670,\n",
       "        0.8661, 0.8678, 0.8649, 0.8639, 0.8639, 0.8645, 0.8658, 0.8636, 0.8619,\n",
       "        0.8814, 0.8716, 0.8863, 0.8637, 0.8634, 0.8668, 0.8643, 0.8636, 0.8640,\n",
       "        0.8692, 0.8647, 0.8659, 0.8679, 0.8686, 0.8741, 0.8639, 0.8630, 0.8661,\n",
       "        0.8633, 0.8650, 0.8706, 0.8637, 0.8636, 0.8693, 0.8649, 0.8665, 0.8637,\n",
       "        0.8636, 0.8636, 0.8711, 0.8656, 0.8636, 0.8659, 0.8687, 0.8752, 0.8739,\n",
       "        0.8695, 0.8656, 0.8667, 0.8648, 0.8680, 0.8669, 0.8798, 0.8636, 0.8656,\n",
       "        0.8662, 0.8688, 0.8636, 0.8660, 0.9177, 0.8757, 0.8713, 0.8679, 0.8665,\n",
       "        0.8657, 0.8713, 0.8672, 0.8716])"
      ]
     },
     "execution_count": 176,
     "metadata": {},
     "output_type": "execute_result"
    }
   ],
   "source": [
    "print(all_res['count']['mha_gc1'].mean(dim=0))\n",
    "all_res['exist']['mha_gc1'].mean(dim=0)"
   ]
  },
  {
   "cell_type": "code",
   "execution_count": 171,
   "metadata": {},
   "outputs": [
    {
     "data": {
      "text/plain": [
       "tensor([0.0367, 0.0367, 0.0366, 0.0366, 0.0366, 0.0366, 0.0366, 0.0366, 0.0367,\n",
       "        0.0367, 0.0366, 0.0366, 0.0365, 0.0367, 0.0367, 0.0366, 0.0367, 0.0367,\n",
       "        0.0367, 0.0367, 0.0367, 0.0366, 0.0367, 0.0367, 0.0367, 0.0367, 0.0367,\n",
       "        0.0367, 0.0366, 0.0365, 0.0366, 0.0366, 0.0366, 0.0362, 0.0367, 0.0367,\n",
       "        0.0367, 0.0367, 0.0367, 0.0367, 0.0367, 0.0366, 0.0366, 0.0367, 0.0365,\n",
       "        0.0366, 0.0367, 0.0367, 0.0365, 0.0366, 0.0366, 0.0367, 0.0366, 0.0366,\n",
       "        0.0367, 0.0367, 0.0365, 0.0366, 0.0367, 0.0366, 0.0366, 0.0366, 0.0366,\n",
       "        0.0366, 0.0366, 0.0366, 0.0366, 0.0367, 0.0367, 0.0366, 0.0364, 0.0367,\n",
       "        0.0367, 0.0367, 0.0367, 0.0366, 0.0367, 0.0366, 0.0366, 0.0367, 0.0366,\n",
       "        0.0367, 0.0366, 0.0366, 0.0361, 0.0366, 0.0366, 0.0366, 0.0366, 0.0367,\n",
       "        0.0363, 0.0367, 0.0367, 0.0367, 0.0367, 0.0367, 0.0366, 0.0367, 0.0367,\n",
       "        0.0366, 0.0366, 0.0367, 0.0366, 0.0365, 0.0366, 0.0367, 0.0350, 0.0367,\n",
       "        0.0366, 0.0367, 0.0366, 0.0364, 0.0366, 0.0365, 0.0367, 0.0366, 0.0367,\n",
       "        0.0367, 0.0367, 0.0366, 0.0366, 0.0367, 0.0366, 0.0367, 0.0364, 0.0367,\n",
       "        0.0367, 0.0367, 0.0366, 0.0367, 0.0366, 0.0366, 0.0367, 0.0367, 0.0367,\n",
       "        0.0366, 0.0366, 0.0366, 0.0367, 0.0365, 0.0364, 0.0367, 0.0366, 0.0367,\n",
       "        0.0366, 0.0366, 0.0365, 0.0367, 0.0366, 0.0367, 0.0366, 0.0366, 0.0367,\n",
       "        0.0366, 0.0366, 0.0366, 0.0367, 0.0367, 0.0367, 0.0367, 0.0365, 0.0367,\n",
       "        0.0367, 0.0366, 0.0366, 0.0366, 0.0366, 0.0366, 0.0366, 0.0366, 0.0367,\n",
       "        0.0367, 0.0366, 0.0367, 0.0367, 0.0366, 0.0367, 0.0363, 0.0367, 0.0367,\n",
       "        0.0367, 0.0366, 0.0367, 0.0367, 0.0367, 0.0366, 0.0365, 0.0367, 0.0366,\n",
       "        0.0366, 0.0366, 0.0367, 0.0367, 0.0367, 0.0367, 0.0366, 0.0367, 0.0367,\n",
       "        0.0362, 0.0365, 0.0361, 0.0367, 0.0367, 0.0366, 0.0367, 0.0367, 0.0367,\n",
       "        0.0366, 0.0367, 0.0366, 0.0366, 0.0366, 0.0365, 0.0367, 0.0367, 0.0366,\n",
       "        0.0367, 0.0367, 0.0366, 0.0367, 0.0367, 0.0366, 0.0367, 0.0366, 0.0367,\n",
       "        0.0367, 0.0367, 0.0365, 0.0366, 0.0367, 0.0366, 0.0366, 0.0364, 0.0365,\n",
       "        0.0366, 0.0366, 0.0366, 0.0367, 0.0366, 0.0366, 0.0363, 0.0367, 0.0366,\n",
       "        0.0366, 0.0366, 0.0367, 0.0366, 0.0339, 0.0364, 0.0365, 0.0366, 0.0366,\n",
       "        0.0366, 0.0365, 0.0366, 0.0365])"
      ]
     },
     "execution_count": 171,
     "metadata": {},
     "output_type": "execute_result"
    }
   ],
   "source": [
    "torch.cat([all_res[qtype]['mha_gc1'] for qtype in qtypes]).std(dim=0)"
   ]
  },
  {
   "cell_type": "code",
   "execution_count": 43,
   "metadata": {},
   "outputs": [
    {
     "data": {
      "text/plain": [
       "tensor([[0.8999, 0.9021, 0.9078,  ..., 0.9085, 0.9048, 0.9088],\n",
       "        [0.8721, 0.8745, 0.8808,  ..., 0.8815, 0.8774, 0.8818],\n",
       "        [0.8574, 0.8598, 0.8663,  ..., 0.8671, 0.8628, 0.8674],\n",
       "        [0.8790, 0.8814, 0.8876,  ..., 0.8883, 0.8843, 0.8886],\n",
       "        [0.8622, 0.8646, 0.8710,  ..., 0.8718, 0.8676, 0.8721],\n",
       "        [0.8928, 0.8951, 0.9010,  ..., 0.9017, 0.8978, 0.9020]])"
      ]
     },
     "execution_count": 43,
     "metadata": {},
     "output_type": "execute_result"
    }
   ],
   "source": [
    "all_res['count']['mha_gc1']"
   ]
  },
  {
   "cell_type": "code",
   "execution_count": 56,
   "metadata": {},
   "outputs": [],
   "source": [
    "%matplotlib notebook"
   ]
  },
  {
   "cell_type": "code",
   "execution_count": 58,
   "metadata": {},
   "outputs": [],
   "source": [
    "from matplotlib.cm import get_cmap\n",
    "\n",
    "tab20 = get_cmap('tab20').colors"
   ]
  },
  {
   "cell_type": "code",
   "execution_count": 65,
   "metadata": {},
   "outputs": [
    {
     "data": {
      "application/javascript": [
       "/* Put everything inside the global mpl namespace */\n",
       "window.mpl = {};\n",
       "\n",
       "\n",
       "mpl.get_websocket_type = function() {\n",
       "    if (typeof(WebSocket) !== 'undefined') {\n",
       "        return WebSocket;\n",
       "    } else if (typeof(MozWebSocket) !== 'undefined') {\n",
       "        return MozWebSocket;\n",
       "    } else {\n",
       "        alert('Your browser does not have WebSocket support. ' +\n",
       "              'Please try Chrome, Safari or Firefox ≥ 6. ' +\n",
       "              'Firefox 4 and 5 are also supported but you ' +\n",
       "              'have to enable WebSockets in about:config.');\n",
       "    };\n",
       "}\n",
       "\n",
       "mpl.figure = function(figure_id, websocket, ondownload, parent_element) {\n",
       "    this.id = figure_id;\n",
       "\n",
       "    this.ws = websocket;\n",
       "\n",
       "    this.supports_binary = (this.ws.binaryType != undefined);\n",
       "\n",
       "    if (!this.supports_binary) {\n",
       "        var warnings = document.getElementById(\"mpl-warnings\");\n",
       "        if (warnings) {\n",
       "            warnings.style.display = 'block';\n",
       "            warnings.textContent = (\n",
       "                \"This browser does not support binary websocket messages. \" +\n",
       "                    \"Performance may be slow.\");\n",
       "        }\n",
       "    }\n",
       "\n",
       "    this.imageObj = new Image();\n",
       "\n",
       "    this.context = undefined;\n",
       "    this.message = undefined;\n",
       "    this.canvas = undefined;\n",
       "    this.rubberband_canvas = undefined;\n",
       "    this.rubberband_context = undefined;\n",
       "    this.format_dropdown = undefined;\n",
       "\n",
       "    this.image_mode = 'full';\n",
       "\n",
       "    this.root = $('<div/>');\n",
       "    this._root_extra_style(this.root)\n",
       "    this.root.attr('style', 'display: inline-block');\n",
       "\n",
       "    $(parent_element).append(this.root);\n",
       "\n",
       "    this._init_header(this);\n",
       "    this._init_canvas(this);\n",
       "    this._init_toolbar(this);\n",
       "\n",
       "    var fig = this;\n",
       "\n",
       "    this.waiting = false;\n",
       "\n",
       "    this.ws.onopen =  function () {\n",
       "            fig.send_message(\"supports_binary\", {value: fig.supports_binary});\n",
       "            fig.send_message(\"send_image_mode\", {});\n",
       "            if (mpl.ratio != 1) {\n",
       "                fig.send_message(\"set_dpi_ratio\", {'dpi_ratio': mpl.ratio});\n",
       "            }\n",
       "            fig.send_message(\"refresh\", {});\n",
       "        }\n",
       "\n",
       "    this.imageObj.onload = function() {\n",
       "            if (fig.image_mode == 'full') {\n",
       "                // Full images could contain transparency (where diff images\n",
       "                // almost always do), so we need to clear the canvas so that\n",
       "                // there is no ghosting.\n",
       "                fig.context.clearRect(0, 0, fig.canvas.width, fig.canvas.height);\n",
       "            }\n",
       "            fig.context.drawImage(fig.imageObj, 0, 0);\n",
       "        };\n",
       "\n",
       "    this.imageObj.onunload = function() {\n",
       "        fig.ws.close();\n",
       "    }\n",
       "\n",
       "    this.ws.onmessage = this._make_on_message_function(this);\n",
       "\n",
       "    this.ondownload = ondownload;\n",
       "}\n",
       "\n",
       "mpl.figure.prototype._init_header = function() {\n",
       "    var titlebar = $(\n",
       "        '<div class=\"ui-dialog-titlebar ui-widget-header ui-corner-all ' +\n",
       "        'ui-helper-clearfix\"/>');\n",
       "    var titletext = $(\n",
       "        '<div class=\"ui-dialog-title\" style=\"width: 100%; ' +\n",
       "        'text-align: center; padding: 3px;\"/>');\n",
       "    titlebar.append(titletext)\n",
       "    this.root.append(titlebar);\n",
       "    this.header = titletext[0];\n",
       "}\n",
       "\n",
       "\n",
       "\n",
       "mpl.figure.prototype._canvas_extra_style = function(canvas_div) {\n",
       "\n",
       "}\n",
       "\n",
       "\n",
       "mpl.figure.prototype._root_extra_style = function(canvas_div) {\n",
       "\n",
       "}\n",
       "\n",
       "mpl.figure.prototype._init_canvas = function() {\n",
       "    var fig = this;\n",
       "\n",
       "    var canvas_div = $('<div/>');\n",
       "\n",
       "    canvas_div.attr('style', 'position: relative; clear: both; outline: 0');\n",
       "\n",
       "    function canvas_keyboard_event(event) {\n",
       "        return fig.key_event(event, event['data']);\n",
       "    }\n",
       "\n",
       "    canvas_div.keydown('key_press', canvas_keyboard_event);\n",
       "    canvas_div.keyup('key_release', canvas_keyboard_event);\n",
       "    this.canvas_div = canvas_div\n",
       "    this._canvas_extra_style(canvas_div)\n",
       "    this.root.append(canvas_div);\n",
       "\n",
       "    var canvas = $('<canvas/>');\n",
       "    canvas.addClass('mpl-canvas');\n",
       "    canvas.attr('style', \"left: 0; top: 0; z-index: 0; outline: 0\")\n",
       "\n",
       "    this.canvas = canvas[0];\n",
       "    this.context = canvas[0].getContext(\"2d\");\n",
       "\n",
       "    var backingStore = this.context.backingStorePixelRatio ||\n",
       "\tthis.context.webkitBackingStorePixelRatio ||\n",
       "\tthis.context.mozBackingStorePixelRatio ||\n",
       "\tthis.context.msBackingStorePixelRatio ||\n",
       "\tthis.context.oBackingStorePixelRatio ||\n",
       "\tthis.context.backingStorePixelRatio || 1;\n",
       "\n",
       "    mpl.ratio = (window.devicePixelRatio || 1) / backingStore;\n",
       "\n",
       "    var rubberband = $('<canvas/>');\n",
       "    rubberband.attr('style', \"position: absolute; left: 0; top: 0; z-index: 1;\")\n",
       "\n",
       "    var pass_mouse_events = true;\n",
       "\n",
       "    canvas_div.resizable({\n",
       "        start: function(event, ui) {\n",
       "            pass_mouse_events = false;\n",
       "        },\n",
       "        resize: function(event, ui) {\n",
       "            fig.request_resize(ui.size.width, ui.size.height);\n",
       "        },\n",
       "        stop: function(event, ui) {\n",
       "            pass_mouse_events = true;\n",
       "            fig.request_resize(ui.size.width, ui.size.height);\n",
       "        },\n",
       "    });\n",
       "\n",
       "    function mouse_event_fn(event) {\n",
       "        if (pass_mouse_events)\n",
       "            return fig.mouse_event(event, event['data']);\n",
       "    }\n",
       "\n",
       "    rubberband.mousedown('button_press', mouse_event_fn);\n",
       "    rubberband.mouseup('button_release', mouse_event_fn);\n",
       "    // Throttle sequential mouse events to 1 every 20ms.\n",
       "    rubberband.mousemove('motion_notify', mouse_event_fn);\n",
       "\n",
       "    rubberband.mouseenter('figure_enter', mouse_event_fn);\n",
       "    rubberband.mouseleave('figure_leave', mouse_event_fn);\n",
       "\n",
       "    canvas_div.on(\"wheel\", function (event) {\n",
       "        event = event.originalEvent;\n",
       "        event['data'] = 'scroll'\n",
       "        if (event.deltaY < 0) {\n",
       "            event.step = 1;\n",
       "        } else {\n",
       "            event.step = -1;\n",
       "        }\n",
       "        mouse_event_fn(event);\n",
       "    });\n",
       "\n",
       "    canvas_div.append(canvas);\n",
       "    canvas_div.append(rubberband);\n",
       "\n",
       "    this.rubberband = rubberband;\n",
       "    this.rubberband_canvas = rubberband[0];\n",
       "    this.rubberband_context = rubberband[0].getContext(\"2d\");\n",
       "    this.rubberband_context.strokeStyle = \"#000000\";\n",
       "\n",
       "    this._resize_canvas = function(width, height) {\n",
       "        // Keep the size of the canvas, canvas container, and rubber band\n",
       "        // canvas in synch.\n",
       "        canvas_div.css('width', width)\n",
       "        canvas_div.css('height', height)\n",
       "\n",
       "        canvas.attr('width', width * mpl.ratio);\n",
       "        canvas.attr('height', height * mpl.ratio);\n",
       "        canvas.attr('style', 'width: ' + width + 'px; height: ' + height + 'px;');\n",
       "\n",
       "        rubberband.attr('width', width);\n",
       "        rubberband.attr('height', height);\n",
       "    }\n",
       "\n",
       "    // Set the figure to an initial 600x600px, this will subsequently be updated\n",
       "    // upon first draw.\n",
       "    this._resize_canvas(600, 600);\n",
       "\n",
       "    // Disable right mouse context menu.\n",
       "    $(this.rubberband_canvas).bind(\"contextmenu\",function(e){\n",
       "        return false;\n",
       "    });\n",
       "\n",
       "    function set_focus () {\n",
       "        canvas.focus();\n",
       "        canvas_div.focus();\n",
       "    }\n",
       "\n",
       "    window.setTimeout(set_focus, 100);\n",
       "}\n",
       "\n",
       "mpl.figure.prototype._init_toolbar = function() {\n",
       "    var fig = this;\n",
       "\n",
       "    var nav_element = $('<div/>');\n",
       "    nav_element.attr('style', 'width: 100%');\n",
       "    this.root.append(nav_element);\n",
       "\n",
       "    // Define a callback function for later on.\n",
       "    function toolbar_event(event) {\n",
       "        return fig.toolbar_button_onclick(event['data']);\n",
       "    }\n",
       "    function toolbar_mouse_event(event) {\n",
       "        return fig.toolbar_button_onmouseover(event['data']);\n",
       "    }\n",
       "\n",
       "    for(var toolbar_ind in mpl.toolbar_items) {\n",
       "        var name = mpl.toolbar_items[toolbar_ind][0];\n",
       "        var tooltip = mpl.toolbar_items[toolbar_ind][1];\n",
       "        var image = mpl.toolbar_items[toolbar_ind][2];\n",
       "        var method_name = mpl.toolbar_items[toolbar_ind][3];\n",
       "\n",
       "        if (!name) {\n",
       "            // put a spacer in here.\n",
       "            continue;\n",
       "        }\n",
       "        var button = $('<button/>');\n",
       "        button.addClass('ui-button ui-widget ui-state-default ui-corner-all ' +\n",
       "                        'ui-button-icon-only');\n",
       "        button.attr('role', 'button');\n",
       "        button.attr('aria-disabled', 'false');\n",
       "        button.click(method_name, toolbar_event);\n",
       "        button.mouseover(tooltip, toolbar_mouse_event);\n",
       "\n",
       "        var icon_img = $('<span/>');\n",
       "        icon_img.addClass('ui-button-icon-primary ui-icon');\n",
       "        icon_img.addClass(image);\n",
       "        icon_img.addClass('ui-corner-all');\n",
       "\n",
       "        var tooltip_span = $('<span/>');\n",
       "        tooltip_span.addClass('ui-button-text');\n",
       "        tooltip_span.html(tooltip);\n",
       "\n",
       "        button.append(icon_img);\n",
       "        button.append(tooltip_span);\n",
       "\n",
       "        nav_element.append(button);\n",
       "    }\n",
       "\n",
       "    var fmt_picker_span = $('<span/>');\n",
       "\n",
       "    var fmt_picker = $('<select/>');\n",
       "    fmt_picker.addClass('mpl-toolbar-option ui-widget ui-widget-content');\n",
       "    fmt_picker_span.append(fmt_picker);\n",
       "    nav_element.append(fmt_picker_span);\n",
       "    this.format_dropdown = fmt_picker[0];\n",
       "\n",
       "    for (var ind in mpl.extensions) {\n",
       "        var fmt = mpl.extensions[ind];\n",
       "        var option = $(\n",
       "            '<option/>', {selected: fmt === mpl.default_extension}).html(fmt);\n",
       "        fmt_picker.append(option);\n",
       "    }\n",
       "\n",
       "    // Add hover states to the ui-buttons\n",
       "    $( \".ui-button\" ).hover(\n",
       "        function() { $(this).addClass(\"ui-state-hover\");},\n",
       "        function() { $(this).removeClass(\"ui-state-hover\");}\n",
       "    );\n",
       "\n",
       "    var status_bar = $('<span class=\"mpl-message\"/>');\n",
       "    nav_element.append(status_bar);\n",
       "    this.message = status_bar[0];\n",
       "}\n",
       "\n",
       "mpl.figure.prototype.request_resize = function(x_pixels, y_pixels) {\n",
       "    // Request matplotlib to resize the figure. Matplotlib will then trigger a resize in the client,\n",
       "    // which will in turn request a refresh of the image.\n",
       "    this.send_message('resize', {'width': x_pixels, 'height': y_pixels});\n",
       "}\n",
       "\n",
       "mpl.figure.prototype.send_message = function(type, properties) {\n",
       "    properties['type'] = type;\n",
       "    properties['figure_id'] = this.id;\n",
       "    this.ws.send(JSON.stringify(properties));\n",
       "}\n",
       "\n",
       "mpl.figure.prototype.send_draw_message = function() {\n",
       "    if (!this.waiting) {\n",
       "        this.waiting = true;\n",
       "        this.ws.send(JSON.stringify({type: \"draw\", figure_id: this.id}));\n",
       "    }\n",
       "}\n",
       "\n",
       "\n",
       "mpl.figure.prototype.handle_save = function(fig, msg) {\n",
       "    var format_dropdown = fig.format_dropdown;\n",
       "    var format = format_dropdown.options[format_dropdown.selectedIndex].value;\n",
       "    fig.ondownload(fig, format);\n",
       "}\n",
       "\n",
       "\n",
       "mpl.figure.prototype.handle_resize = function(fig, msg) {\n",
       "    var size = msg['size'];\n",
       "    if (size[0] != fig.canvas.width || size[1] != fig.canvas.height) {\n",
       "        fig._resize_canvas(size[0], size[1]);\n",
       "        fig.send_message(\"refresh\", {});\n",
       "    };\n",
       "}\n",
       "\n",
       "mpl.figure.prototype.handle_rubberband = function(fig, msg) {\n",
       "    var x0 = msg['x0'] / mpl.ratio;\n",
       "    var y0 = (fig.canvas.height - msg['y0']) / mpl.ratio;\n",
       "    var x1 = msg['x1'] / mpl.ratio;\n",
       "    var y1 = (fig.canvas.height - msg['y1']) / mpl.ratio;\n",
       "    x0 = Math.floor(x0) + 0.5;\n",
       "    y0 = Math.floor(y0) + 0.5;\n",
       "    x1 = Math.floor(x1) + 0.5;\n",
       "    y1 = Math.floor(y1) + 0.5;\n",
       "    var min_x = Math.min(x0, x1);\n",
       "    var min_y = Math.min(y0, y1);\n",
       "    var width = Math.abs(x1 - x0);\n",
       "    var height = Math.abs(y1 - y0);\n",
       "\n",
       "    fig.rubberband_context.clearRect(\n",
       "        0, 0, fig.canvas.width / mpl.ratio, fig.canvas.height / mpl.ratio);\n",
       "\n",
       "    fig.rubberband_context.strokeRect(min_x, min_y, width, height);\n",
       "}\n",
       "\n",
       "mpl.figure.prototype.handle_figure_label = function(fig, msg) {\n",
       "    // Updates the figure title.\n",
       "    fig.header.textContent = msg['label'];\n",
       "}\n",
       "\n",
       "mpl.figure.prototype.handle_cursor = function(fig, msg) {\n",
       "    var cursor = msg['cursor'];\n",
       "    switch(cursor)\n",
       "    {\n",
       "    case 0:\n",
       "        cursor = 'pointer';\n",
       "        break;\n",
       "    case 1:\n",
       "        cursor = 'default';\n",
       "        break;\n",
       "    case 2:\n",
       "        cursor = 'crosshair';\n",
       "        break;\n",
       "    case 3:\n",
       "        cursor = 'move';\n",
       "        break;\n",
       "    }\n",
       "    fig.rubberband_canvas.style.cursor = cursor;\n",
       "}\n",
       "\n",
       "mpl.figure.prototype.handle_message = function(fig, msg) {\n",
       "    fig.message.textContent = msg['message'];\n",
       "}\n",
       "\n",
       "mpl.figure.prototype.handle_draw = function(fig, msg) {\n",
       "    // Request the server to send over a new figure.\n",
       "    fig.send_draw_message();\n",
       "}\n",
       "\n",
       "mpl.figure.prototype.handle_image_mode = function(fig, msg) {\n",
       "    fig.image_mode = msg['mode'];\n",
       "}\n",
       "\n",
       "mpl.figure.prototype.updated_canvas_event = function() {\n",
       "    // Called whenever the canvas gets updated.\n",
       "    this.send_message(\"ack\", {});\n",
       "}\n",
       "\n",
       "// A function to construct a web socket function for onmessage handling.\n",
       "// Called in the figure constructor.\n",
       "mpl.figure.prototype._make_on_message_function = function(fig) {\n",
       "    return function socket_on_message(evt) {\n",
       "        if (evt.data instanceof Blob) {\n",
       "            /* FIXME: We get \"Resource interpreted as Image but\n",
       "             * transferred with MIME type text/plain:\" errors on\n",
       "             * Chrome.  But how to set the MIME type?  It doesn't seem\n",
       "             * to be part of the websocket stream */\n",
       "            evt.data.type = \"image/png\";\n",
       "\n",
       "            /* Free the memory for the previous frames */\n",
       "            if (fig.imageObj.src) {\n",
       "                (window.URL || window.webkitURL).revokeObjectURL(\n",
       "                    fig.imageObj.src);\n",
       "            }\n",
       "\n",
       "            fig.imageObj.src = (window.URL || window.webkitURL).createObjectURL(\n",
       "                evt.data);\n",
       "            fig.updated_canvas_event();\n",
       "            fig.waiting = false;\n",
       "            return;\n",
       "        }\n",
       "        else if (typeof evt.data === 'string' && evt.data.slice(0, 21) == \"data:image/png;base64\") {\n",
       "            fig.imageObj.src = evt.data;\n",
       "            fig.updated_canvas_event();\n",
       "            fig.waiting = false;\n",
       "            return;\n",
       "        }\n",
       "\n",
       "        var msg = JSON.parse(evt.data);\n",
       "        var msg_type = msg['type'];\n",
       "\n",
       "        // Call the  \"handle_{type}\" callback, which takes\n",
       "        // the figure and JSON message as its only arguments.\n",
       "        try {\n",
       "            var callback = fig[\"handle_\" + msg_type];\n",
       "        } catch (e) {\n",
       "            console.log(\"No handler for the '\" + msg_type + \"' message type: \", msg);\n",
       "            return;\n",
       "        }\n",
       "\n",
       "        if (callback) {\n",
       "            try {\n",
       "                // console.log(\"Handling '\" + msg_type + \"' message: \", msg);\n",
       "                callback(fig, msg);\n",
       "            } catch (e) {\n",
       "                console.log(\"Exception inside the 'handler_\" + msg_type + \"' callback:\", e, e.stack, msg);\n",
       "            }\n",
       "        }\n",
       "    };\n",
       "}\n",
       "\n",
       "// from http://stackoverflow.com/questions/1114465/getting-mouse-location-in-canvas\n",
       "mpl.findpos = function(e) {\n",
       "    //this section is from http://www.quirksmode.org/js/events_properties.html\n",
       "    var targ;\n",
       "    if (!e)\n",
       "        e = window.event;\n",
       "    if (e.target)\n",
       "        targ = e.target;\n",
       "    else if (e.srcElement)\n",
       "        targ = e.srcElement;\n",
       "    if (targ.nodeType == 3) // defeat Safari bug\n",
       "        targ = targ.parentNode;\n",
       "\n",
       "    // jQuery normalizes the pageX and pageY\n",
       "    // pageX,Y are the mouse positions relative to the document\n",
       "    // offset() returns the position of the element relative to the document\n",
       "    var x = e.pageX - $(targ).offset().left;\n",
       "    var y = e.pageY - $(targ).offset().top;\n",
       "\n",
       "    return {\"x\": x, \"y\": y};\n",
       "};\n",
       "\n",
       "/*\n",
       " * return a copy of an object with only non-object keys\n",
       " * we need this to avoid circular references\n",
       " * http://stackoverflow.com/a/24161582/3208463\n",
       " */\n",
       "function simpleKeys (original) {\n",
       "  return Object.keys(original).reduce(function (obj, key) {\n",
       "    if (typeof original[key] !== 'object')\n",
       "        obj[key] = original[key]\n",
       "    return obj;\n",
       "  }, {});\n",
       "}\n",
       "\n",
       "mpl.figure.prototype.mouse_event = function(event, name) {\n",
       "    var canvas_pos = mpl.findpos(event)\n",
       "\n",
       "    if (name === 'button_press')\n",
       "    {\n",
       "        this.canvas.focus();\n",
       "        this.canvas_div.focus();\n",
       "    }\n",
       "\n",
       "    var x = canvas_pos.x * mpl.ratio;\n",
       "    var y = canvas_pos.y * mpl.ratio;\n",
       "\n",
       "    this.send_message(name, {x: x, y: y, button: event.button,\n",
       "                             step: event.step,\n",
       "                             guiEvent: simpleKeys(event)});\n",
       "\n",
       "    /* This prevents the web browser from automatically changing to\n",
       "     * the text insertion cursor when the button is pressed.  We want\n",
       "     * to control all of the cursor setting manually through the\n",
       "     * 'cursor' event from matplotlib */\n",
       "    event.preventDefault();\n",
       "    return false;\n",
       "}\n",
       "\n",
       "mpl.figure.prototype._key_event_extra = function(event, name) {\n",
       "    // Handle any extra behaviour associated with a key event\n",
       "}\n",
       "\n",
       "mpl.figure.prototype.key_event = function(event, name) {\n",
       "\n",
       "    // Prevent repeat events\n",
       "    if (name == 'key_press')\n",
       "    {\n",
       "        if (event.which === this._key)\n",
       "            return;\n",
       "        else\n",
       "            this._key = event.which;\n",
       "    }\n",
       "    if (name == 'key_release')\n",
       "        this._key = null;\n",
       "\n",
       "    var value = '';\n",
       "    if (event.ctrlKey && event.which != 17)\n",
       "        value += \"ctrl+\";\n",
       "    if (event.altKey && event.which != 18)\n",
       "        value += \"alt+\";\n",
       "    if (event.shiftKey && event.which != 16)\n",
       "        value += \"shift+\";\n",
       "\n",
       "    value += 'k';\n",
       "    value += event.which.toString();\n",
       "\n",
       "    this._key_event_extra(event, name);\n",
       "\n",
       "    this.send_message(name, {key: value,\n",
       "                             guiEvent: simpleKeys(event)});\n",
       "    return false;\n",
       "}\n",
       "\n",
       "mpl.figure.prototype.toolbar_button_onclick = function(name) {\n",
       "    if (name == 'download') {\n",
       "        this.handle_save(this, null);\n",
       "    } else {\n",
       "        this.send_message(\"toolbar_button\", {name: name});\n",
       "    }\n",
       "};\n",
       "\n",
       "mpl.figure.prototype.toolbar_button_onmouseover = function(tooltip) {\n",
       "    this.message.textContent = tooltip;\n",
       "};\n",
       "mpl.toolbar_items = [[\"Home\", \"Reset original view\", \"fa fa-home icon-home\", \"home\"], [\"Back\", \"Back to previous view\", \"fa fa-arrow-left icon-arrow-left\", \"back\"], [\"Forward\", \"Forward to next view\", \"fa fa-arrow-right icon-arrow-right\", \"forward\"], [\"\", \"\", \"\", \"\"], [\"Pan\", \"Pan axes with left mouse, zoom with right\", \"fa fa-arrows icon-move\", \"pan\"], [\"Zoom\", \"Zoom to rectangle\", \"fa fa-square-o icon-check-empty\", \"zoom\"], [\"\", \"\", \"\", \"\"], [\"Download\", \"Download plot\", \"fa fa-floppy-o icon-save\", \"download\"]];\n",
       "\n",
       "mpl.extensions = [\"eps\", \"jpeg\", \"pdf\", \"png\", \"ps\", \"raw\", \"svg\", \"tif\"];\n",
       "\n",
       "mpl.default_extension = \"png\";var comm_websocket_adapter = function(comm) {\n",
       "    // Create a \"websocket\"-like object which calls the given IPython comm\n",
       "    // object with the appropriate methods. Currently this is a non binary\n",
       "    // socket, so there is still some room for performance tuning.\n",
       "    var ws = {};\n",
       "\n",
       "    ws.close = function() {\n",
       "        comm.close()\n",
       "    };\n",
       "    ws.send = function(m) {\n",
       "        //console.log('sending', m);\n",
       "        comm.send(m);\n",
       "    };\n",
       "    // Register the callback with on_msg.\n",
       "    comm.on_msg(function(msg) {\n",
       "        //console.log('receiving', msg['content']['data'], msg);\n",
       "        // Pass the mpl event to the overridden (by mpl) onmessage function.\n",
       "        ws.onmessage(msg['content']['data'])\n",
       "    });\n",
       "    return ws;\n",
       "}\n",
       "\n",
       "mpl.mpl_figure_comm = function(comm, msg) {\n",
       "    // This is the function which gets called when the mpl process\n",
       "    // starts-up an IPython Comm through the \"matplotlib\" channel.\n",
       "\n",
       "    var id = msg.content.data.id;\n",
       "    // Get hold of the div created by the display call when the Comm\n",
       "    // socket was opened in Python.\n",
       "    var element = $(\"#\" + id);\n",
       "    var ws_proxy = comm_websocket_adapter(comm)\n",
       "\n",
       "    function ondownload(figure, format) {\n",
       "        window.open(figure.imageObj.src);\n",
       "    }\n",
       "\n",
       "    var fig = new mpl.figure(id, ws_proxy,\n",
       "                           ondownload,\n",
       "                           element.get(0));\n",
       "\n",
       "    // Call onopen now - mpl needs it, as it is assuming we've passed it a real\n",
       "    // web socket which is closed, not our websocket->open comm proxy.\n",
       "    ws_proxy.onopen();\n",
       "\n",
       "    fig.parent_element = element.get(0);\n",
       "    fig.cell_info = mpl.find_output_cell(\"<div id='\" + id + \"'></div>\");\n",
       "    if (!fig.cell_info) {\n",
       "        console.error(\"Failed to find cell for figure\", id, fig);\n",
       "        return;\n",
       "    }\n",
       "\n",
       "    var output_index = fig.cell_info[2]\n",
       "    var cell = fig.cell_info[0];\n",
       "\n",
       "};\n",
       "\n",
       "mpl.figure.prototype.handle_close = function(fig, msg) {\n",
       "    var width = fig.canvas.width/mpl.ratio\n",
       "    fig.root.unbind('remove')\n",
       "\n",
       "    // Update the output cell to use the data from the current canvas.\n",
       "    fig.push_to_output();\n",
       "    var dataURL = fig.canvas.toDataURL();\n",
       "    // Re-enable the keyboard manager in IPython - without this line, in FF,\n",
       "    // the notebook keyboard shortcuts fail.\n",
       "    IPython.keyboard_manager.enable()\n",
       "    $(fig.parent_element).html('<img src=\"' + dataURL + '\" width=\"' + width + '\">');\n",
       "    fig.close_ws(fig, msg);\n",
       "}\n",
       "\n",
       "mpl.figure.prototype.close_ws = function(fig, msg){\n",
       "    fig.send_message('closing', msg);\n",
       "    // fig.ws.close()\n",
       "}\n",
       "\n",
       "mpl.figure.prototype.push_to_output = function(remove_interactive) {\n",
       "    // Turn the data on the canvas into data in the output cell.\n",
       "    var width = this.canvas.width/mpl.ratio\n",
       "    var dataURL = this.canvas.toDataURL();\n",
       "    this.cell_info[1]['text/html'] = '<img src=\"' + dataURL + '\" width=\"' + width + '\">';\n",
       "}\n",
       "\n",
       "mpl.figure.prototype.updated_canvas_event = function() {\n",
       "    // Tell IPython that the notebook contents must change.\n",
       "    IPython.notebook.set_dirty(true);\n",
       "    this.send_message(\"ack\", {});\n",
       "    var fig = this;\n",
       "    // Wait a second, then push the new image to the DOM so\n",
       "    // that it is saved nicely (might be nice to debounce this).\n",
       "    setTimeout(function () { fig.push_to_output() }, 1000);\n",
       "}\n",
       "\n",
       "mpl.figure.prototype._init_toolbar = function() {\n",
       "    var fig = this;\n",
       "\n",
       "    var nav_element = $('<div/>');\n",
       "    nav_element.attr('style', 'width: 100%');\n",
       "    this.root.append(nav_element);\n",
       "\n",
       "    // Define a callback function for later on.\n",
       "    function toolbar_event(event) {\n",
       "        return fig.toolbar_button_onclick(event['data']);\n",
       "    }\n",
       "    function toolbar_mouse_event(event) {\n",
       "        return fig.toolbar_button_onmouseover(event['data']);\n",
       "    }\n",
       "\n",
       "    for(var toolbar_ind in mpl.toolbar_items){\n",
       "        var name = mpl.toolbar_items[toolbar_ind][0];\n",
       "        var tooltip = mpl.toolbar_items[toolbar_ind][1];\n",
       "        var image = mpl.toolbar_items[toolbar_ind][2];\n",
       "        var method_name = mpl.toolbar_items[toolbar_ind][3];\n",
       "\n",
       "        if (!name) { continue; };\n",
       "\n",
       "        var button = $('<button class=\"btn btn-default\" href=\"#\" title=\"' + name + '\"><i class=\"fa ' + image + ' fa-lg\"></i></button>');\n",
       "        button.click(method_name, toolbar_event);\n",
       "        button.mouseover(tooltip, toolbar_mouse_event);\n",
       "        nav_element.append(button);\n",
       "    }\n",
       "\n",
       "    // Add the status bar.\n",
       "    var status_bar = $('<span class=\"mpl-message\" style=\"text-align:right; float: right;\"/>');\n",
       "    nav_element.append(status_bar);\n",
       "    this.message = status_bar[0];\n",
       "\n",
       "    // Add the close button to the window.\n",
       "    var buttongrp = $('<div class=\"btn-group inline pull-right\"></div>');\n",
       "    var button = $('<button class=\"btn btn-mini btn-primary\" href=\"#\" title=\"Stop Interaction\"><i class=\"fa fa-power-off icon-remove icon-large\"></i></button>');\n",
       "    button.click(function (evt) { fig.handle_close(fig, {}); } );\n",
       "    button.mouseover('Stop Interaction', toolbar_mouse_event);\n",
       "    buttongrp.append(button);\n",
       "    var titlebar = this.root.find($('.ui-dialog-titlebar'));\n",
       "    titlebar.prepend(buttongrp);\n",
       "}\n",
       "\n",
       "mpl.figure.prototype._root_extra_style = function(el){\n",
       "    var fig = this\n",
       "    el.on(\"remove\", function(){\n",
       "\tfig.close_ws(fig, {});\n",
       "    });\n",
       "}\n",
       "\n",
       "mpl.figure.prototype._canvas_extra_style = function(el){\n",
       "    // this is important to make the div 'focusable\n",
       "    el.attr('tabindex', 0)\n",
       "    // reach out to IPython and tell the keyboard manager to turn it's self\n",
       "    // off when our div gets focus\n",
       "\n",
       "    // location in version 3\n",
       "    if (IPython.notebook.keyboard_manager) {\n",
       "        IPython.notebook.keyboard_manager.register_events(el);\n",
       "    }\n",
       "    else {\n",
       "        // location in version 2\n",
       "        IPython.keyboard_manager.register_events(el);\n",
       "    }\n",
       "\n",
       "}\n",
       "\n",
       "mpl.figure.prototype._key_event_extra = function(event, name) {\n",
       "    var manager = IPython.notebook.keyboard_manager;\n",
       "    if (!manager)\n",
       "        manager = IPython.keyboard_manager;\n",
       "\n",
       "    // Check for shift+enter\n",
       "    if (event.shiftKey && event.which == 13) {\n",
       "        this.canvas_div.blur();\n",
       "        event.shiftKey = false;\n",
       "        // Send a \"J\" for go to next cell\n",
       "        event.which = 74;\n",
       "        event.keyCode = 74;\n",
       "        manager.command_mode();\n",
       "        manager.handle_keydown(event);\n",
       "    }\n",
       "}\n",
       "\n",
       "mpl.figure.prototype.handle_save = function(fig, msg) {\n",
       "    fig.ondownload(fig, null);\n",
       "}\n",
       "\n",
       "\n",
       "mpl.find_output_cell = function(html_output) {\n",
       "    // Return the cell and output element which can be found *uniquely* in the notebook.\n",
       "    // Note - this is a bit hacky, but it is done because the \"notebook_saving.Notebook\"\n",
       "    // IPython event is triggered only after the cells have been serialised, which for\n",
       "    // our purposes (turning an active figure into a static one), is too late.\n",
       "    var cells = IPython.notebook.get_cells();\n",
       "    var ncells = cells.length;\n",
       "    for (var i=0; i<ncells; i++) {\n",
       "        var cell = cells[i];\n",
       "        if (cell.cell_type === 'code'){\n",
       "            for (var j=0; j<cell.output_area.outputs.length; j++) {\n",
       "                var data = cell.output_area.outputs[j];\n",
       "                if (data.data) {\n",
       "                    // IPython >= 3 moved mimebundle to data attribute of output\n",
       "                    data = data.data;\n",
       "                }\n",
       "                if (data['text/html'] == html_output) {\n",
       "                    return [cell, data, j];\n",
       "                }\n",
       "            }\n",
       "        }\n",
       "    }\n",
       "}\n",
       "\n",
       "// Register the function which deals with the matplotlib target/channel.\n",
       "// The kernel may be null if the page has been refreshed.\n",
       "if (IPython.notebook.kernel != null) {\n",
       "    IPython.notebook.kernel.comm_manager.register_target('matplotlib', mpl.mpl_figure_comm);\n",
       "}\n"
      ],
      "text/plain": [
       "<IPython.core.display.Javascript object>"
      ]
     },
     "metadata": {},
     "output_type": "display_data"
    },
    {
     "data": {
      "text/html": [
       "<img src=\"data:image/png;base64,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\" width=\"640\">"
      ],
      "text/plain": [
       "<IPython.core.display.HTML object>"
      ]
     },
     "metadata": {},
     "output_type": "display_data"
    }
   ],
   "source": [
    "for i, qtype in enumerate(qtypes):\n",
    "    plt.scatter(\n",
    "        X_embedded[i * 6:(i + 1) * 6, 0], X_embedded[i * 6:(i + 1) * 6, 1],\n",
    "        c=[tab20[i]],\n",
    "        label=qtype,\n",
    "    )\n",
    "\n",
    "plt.legend(loc='center left', bbox_to_anchor=(1, 0.5))\n",
    "plt.tight_layout()\n",
    "plt.show()"
   ]
  },
  {
   "cell_type": "code",
   "execution_count": null,
   "metadata": {},
   "outputs": [],
   "source": []
  },
  {
   "cell_type": "code",
   "execution_count": null,
   "metadata": {},
   "outputs": [],
   "source": []
  },
  {
   "cell_type": "code",
   "execution_count": null,
   "metadata": {},
   "outputs": [],
   "source": []
  },
  {
   "cell_type": "code",
   "execution_count": null,
   "metadata": {},
   "outputs": [],
   "source": []
  },
  {
   "cell_type": "code",
   "execution_count": null,
   "metadata": {},
   "outputs": [],
   "source": []
  },
  {
   "cell_type": "code",
   "execution_count": null,
   "metadata": {},
   "outputs": [],
   "source": []
  },
  {
   "cell_type": "code",
   "execution_count": null,
   "metadata": {},
   "outputs": [],
   "source": []
  },
  {
   "cell_type": "code",
   "execution_count": 91,
   "metadata": {},
   "outputs": [],
   "source": [
    "formatted_res = {}\n",
    "\n",
    "for qtype, qres in all_res.items():\n",
    "    mask = torch.empty(0, 256, dtype=torch.float32)\n",
    "    for k in mha_keys[:-1]:\n",
    "        mask = torch.cat((mask, qres[k].mean(dim=0).unsqueeze(0)), dim=0)\n",
    "    formatted_res[qtype] = mask"
   ]
  },
  {
   "cell_type": "code",
   "execution_count": 92,
   "metadata": {},
   "outputs": [
    {
     "data": {
      "image/png": "[encoded data removed]",
      "text/plain": [
       "<Figure size 720x432 with 15 Axes>"
      ]
     },
     "metadata": {
      "needs_background": "light"
     },
     "output_type": "display_data"
    }
   ],
   "source": [
    "plot_masks(formatted_res)"
   ]
  },
  {
   "cell_type": "code",
   "execution_count": 96,
   "metadata": {},
   "outputs": [
    {
     "data": {
      "application/javascript": [
       "/* Put everything inside the global mpl namespace */\n",
       "window.mpl = {};\n",
       "\n",
       "\n",
       "mpl.get_websocket_type = function() {\n",
       "    if (typeof(WebSocket) !== 'undefined') {\n",
       "        return WebSocket;\n",
       "    } else if (typeof(MozWebSocket) !== 'undefined') {\n",
       "        return MozWebSocket;\n",
       "    } else {\n",
       "        alert('Your browser does not have WebSocket support. ' +\n",
       "              'Please try Chrome, Safari or Firefox ≥ 6. ' +\n",
       "              'Firefox 4 and 5 are also supported but you ' +\n",
       "              'have to enable WebSockets in about:config.');\n",
       "    };\n",
       "}\n",
       "\n",
       "mpl.figure = function(figure_id, websocket, ondownload, parent_element) {\n",
       "    this.id = figure_id;\n",
       "\n",
       "    this.ws = websocket;\n",
       "\n",
       "    this.supports_binary = (this.ws.binaryType != undefined);\n",
       "\n",
       "    if (!this.supports_binary) {\n",
       "        var warnings = document.getElementById(\"mpl-warnings\");\n",
       "        if (warnings) {\n",
       "            warnings.style.display = 'block';\n",
       "            warnings.textContent = (\n",
       "                \"This browser does not support binary websocket messages. \" +\n",
       "                    \"Performance may be slow.\");\n",
       "        }\n",
       "    }\n",
       "\n",
       "    this.imageObj = new Image();\n",
       "\n",
       "    this.context = undefined;\n",
       "    this.message = undefined;\n",
       "    this.canvas = undefined;\n",
       "    this.rubberband_canvas = undefined;\n",
       "    this.rubberband_context = undefined;\n",
       "    this.format_dropdown = undefined;\n",
       "\n",
       "    this.image_mode = 'full';\n",
       "\n",
       "    this.root = $('<div/>');\n",
       "    this._root_extra_style(this.root)\n",
       "    this.root.attr('style', 'display: inline-block');\n",
       "\n",
       "    $(parent_element).append(this.root);\n",
       "\n",
       "    this._init_header(this);\n",
       "    this._init_canvas(this);\n",
       "    this._init_toolbar(this);\n",
       "\n",
       "    var fig = this;\n",
       "\n",
       "    this.waiting = false;\n",
       "\n",
       "    this.ws.onopen =  function () {\n",
       "            fig.send_message(\"supports_binary\", {value: fig.supports_binary});\n",
       "            fig.send_message(\"send_image_mode\", {});\n",
       "            if (mpl.ratio != 1) {\n",
       "                fig.send_message(\"set_dpi_ratio\", {'dpi_ratio': mpl.ratio});\n",
       "            }\n",
       "            fig.send_message(\"refresh\", {});\n",
       "        }\n",
       "\n",
       "    this.imageObj.onload = function() {\n",
       "            if (fig.image_mode == 'full') {\n",
       "                // Full images could contain transparency (where diff images\n",
       "                // almost always do), so we need to clear the canvas so that\n",
       "                // there is no ghosting.\n",
       "                fig.context.clearRect(0, 0, fig.canvas.width, fig.canvas.height);\n",
       "            }\n",
       "            fig.context.drawImage(fig.imageObj, 0, 0);\n",
       "        };\n",
       "\n",
       "    this.imageObj.onunload = function() {\n",
       "        fig.ws.close();\n",
       "    }\n",
       "\n",
       "    this.ws.onmessage = this._make_on_message_function(this);\n",
       "\n",
       "    this.ondownload = ondownload;\n",
       "}\n",
       "\n",
       "mpl.figure.prototype._init_header = function() {\n",
       "    var titlebar = $(\n",
       "        '<div class=\"ui-dialog-titlebar ui-widget-header ui-corner-all ' +\n",
       "        'ui-helper-clearfix\"/>');\n",
       "    var titletext = $(\n",
       "        '<div class=\"ui-dialog-title\" style=\"width: 100%; ' +\n",
       "        'text-align: center; padding: 3px;\"/>');\n",
       "    titlebar.append(titletext)\n",
       "    this.root.append(titlebar);\n",
       "    this.header = titletext[0];\n",
       "}\n",
       "\n",
       "\n",
       "\n",
       "mpl.figure.prototype._canvas_extra_style = function(canvas_div) {\n",
       "\n",
       "}\n",
       "\n",
       "\n",
       "mpl.figure.prototype._root_extra_style = function(canvas_div) {\n",
       "\n",
       "}\n",
       "\n",
       "mpl.figure.prototype._init_canvas = function() {\n",
       "    var fig = this;\n",
       "\n",
       "    var canvas_div = $('<div/>');\n",
       "\n",
       "    canvas_div.attr('style', 'position: relative; clear: both; outline: 0');\n",
       "\n",
       "    function canvas_keyboard_event(event) {\n",
       "        return fig.key_event(event, event['data']);\n",
       "    }\n",
       "\n",
       "    canvas_div.keydown('key_press', canvas_keyboard_event);\n",
       "    canvas_div.keyup('key_release', canvas_keyboard_event);\n",
       "    this.canvas_div = canvas_div\n",
       "    this._canvas_extra_style(canvas_div)\n",
       "    this.root.append(canvas_div);\n",
       "\n",
       "    var canvas = $('<canvas/>');\n",
       "    canvas.addClass('mpl-canvas');\n",
       "    canvas.attr('style', \"left: 0; top: 0; z-index: 0; outline: 0\")\n",
       "\n",
       "    this.canvas = canvas[0];\n",
       "    this.context = canvas[0].getContext(\"2d\");\n",
       "\n",
       "    var backingStore = this.context.backingStorePixelRatio ||\n",
       "\tthis.context.webkitBackingStorePixelRatio ||\n",
       "\tthis.context.mozBackingStorePixelRatio ||\n",
       "\tthis.context.msBackingStorePixelRatio ||\n",
       "\tthis.context.oBackingStorePixelRatio ||\n",
       "\tthis.context.backingStorePixelRatio || 1;\n",
       "\n",
       "    mpl.ratio = (window.devicePixelRatio || 1) / backingStore;\n",
       "\n",
       "    var rubberband = $('<canvas/>');\n",
       "    rubberband.attr('style', \"position: absolute; left: 0; top: 0; z-index: 1;\")\n",
       "\n",
       "    var pass_mouse_events = true;\n",
       "\n",
       "    canvas_div.resizable({\n",
       "        start: function(event, ui) {\n",
       "            pass_mouse_events = false;\n",
       "        },\n",
       "        resize: function(event, ui) {\n",
       "            fig.request_resize(ui.size.width, ui.size.height);\n",
       "        },\n",
       "        stop: function(event, ui) {\n",
       "            pass_mouse_events = true;\n",
       "            fig.request_resize(ui.size.width, ui.size.height);\n",
       "        },\n",
       "    });\n",
       "\n",
       "    function mouse_event_fn(event) {\n",
       "        if (pass_mouse_events)\n",
       "            return fig.mouse_event(event, event['data']);\n",
       "    }\n",
       "\n",
       "    rubberband.mousedown('button_press', mouse_event_fn);\n",
       "    rubberband.mouseup('button_release', mouse_event_fn);\n",
       "    // Throttle sequential mouse events to 1 every 20ms.\n",
       "    rubberband.mousemove('motion_notify', mouse_event_fn);\n",
       "\n",
       "    rubberband.mouseenter('figure_enter', mouse_event_fn);\n",
       "    rubberband.mouseleave('figure_leave', mouse_event_fn);\n",
       "\n",
       "    canvas_div.on(\"wheel\", function (event) {\n",
       "        event = event.originalEvent;\n",
       "        event['data'] = 'scroll'\n",
       "        if (event.deltaY < 0) {\n",
       "            event.step = 1;\n",
       "        } else {\n",
       "            event.step = -1;\n",
       "        }\n",
       "        mouse_event_fn(event);\n",
       "    });\n",
       "\n",
       "    canvas_div.append(canvas);\n",
       "    canvas_div.append(rubberband);\n",
       "\n",
       "    this.rubberband = rubberband;\n",
       "    this.rubberband_canvas = rubberband[0];\n",
       "    this.rubberband_context = rubberband[0].getContext(\"2d\");\n",
       "    this.rubberband_context.strokeStyle = \"#000000\";\n",
       "\n",
       "    this._resize_canvas = function(width, height) {\n",
       "        // Keep the size of the canvas, canvas container, and rubber band\n",
       "        // canvas in synch.\n",
       "        canvas_div.css('width', width)\n",
       "        canvas_div.css('height', height)\n",
       "\n",
       "        canvas.attr('width', width * mpl.ratio);\n",
       "        canvas.attr('height', height * mpl.ratio);\n",
       "        canvas.attr('style', 'width: ' + width + 'px; height: ' + height + 'px;');\n",
       "\n",
       "        rubberband.attr('width', width);\n",
       "        rubberband.attr('height', height);\n",
       "    }\n",
       "\n",
       "    // Set the figure to an initial 600x600px, this will subsequently be updated\n",
       "    // upon first draw.\n",
       "    this._resize_canvas(600, 600);\n",
       "\n",
       "    // Disable right mouse context menu.\n",
       "    $(this.rubberband_canvas).bind(\"contextmenu\",function(e){\n",
       "        return false;\n",
       "    });\n",
       "\n",
       "    function set_focus () {\n",
       "        canvas.focus();\n",
       "        canvas_div.focus();\n",
       "    }\n",
       "\n",
       "    window.setTimeout(set_focus, 100);\n",
       "}\n",
       "\n",
       "mpl.figure.prototype._init_toolbar = function() {\n",
       "    var fig = this;\n",
       "\n",
       "    var nav_element = $('<div/>');\n",
       "    nav_element.attr('style', 'width: 100%');\n",
       "    this.root.append(nav_element);\n",
       "\n",
       "    // Define a callback function for later on.\n",
       "    function toolbar_event(event) {\n",
       "        return fig.toolbar_button_onclick(event['data']);\n",
       "    }\n",
       "    function toolbar_mouse_event(event) {\n",
       "        return fig.toolbar_button_onmouseover(event['data']);\n",
       "    }\n",
       "\n",
       "    for(var toolbar_ind in mpl.toolbar_items) {\n",
       "        var name = mpl.toolbar_items[toolbar_ind][0];\n",
       "        var tooltip = mpl.toolbar_items[toolbar_ind][1];\n",
       "        var image = mpl.toolbar_items[toolbar_ind][2];\n",
       "        var method_name = mpl.toolbar_items[toolbar_ind][3];\n",
       "\n",
       "        if (!name) {\n",
       "            // put a spacer in here.\n",
       "            continue;\n",
       "        }\n",
       "        var button = $('<button/>');\n",
       "        button.addClass('ui-button ui-widget ui-state-default ui-corner-all ' +\n",
       "                        'ui-button-icon-only');\n",
       "        button.attr('role', 'button');\n",
       "        button.attr('aria-disabled', 'false');\n",
       "        button.click(method_name, toolbar_event);\n",
       "        button.mouseover(tooltip, toolbar_mouse_event);\n",
       "\n",
       "        var icon_img = $('<span/>');\n",
       "        icon_img.addClass('ui-button-icon-primary ui-icon');\n",
       "        icon_img.addClass(image);\n",
       "        icon_img.addClass('ui-corner-all');\n",
       "\n",
       "        var tooltip_span = $('<span/>');\n",
       "        tooltip_span.addClass('ui-button-text');\n",
       "        tooltip_span.html(tooltip);\n",
       "\n",
       "        button.append(icon_img);\n",
       "        button.append(tooltip_span);\n",
       "\n",
       "        nav_element.append(button);\n",
       "    }\n",
       "\n",
       "    var fmt_picker_span = $('<span/>');\n",
       "\n",
       "    var fmt_picker = $('<select/>');\n",
       "    fmt_picker.addClass('mpl-toolbar-option ui-widget ui-widget-content');\n",
       "    fmt_picker_span.append(fmt_picker);\n",
       "    nav_element.append(fmt_picker_span);\n",
       "    this.format_dropdown = fmt_picker[0];\n",
       "\n",
       "    for (var ind in mpl.extensions) {\n",
       "        var fmt = mpl.extensions[ind];\n",
       "        var option = $(\n",
       "            '<option/>', {selected: fmt === mpl.default_extension}).html(fmt);\n",
       "        fmt_picker.append(option);\n",
       "    }\n",
       "\n",
       "    // Add hover states to the ui-buttons\n",
       "    $( \".ui-button\" ).hover(\n",
       "        function() { $(this).addClass(\"ui-state-hover\");},\n",
       "        function() { $(this).removeClass(\"ui-state-hover\");}\n",
       "    );\n",
       "\n",
       "    var status_bar = $('<span class=\"mpl-message\"/>');\n",
       "    nav_element.append(status_bar);\n",
       "    this.message = status_bar[0];\n",
       "}\n",
       "\n",
       "mpl.figure.prototype.request_resize = function(x_pixels, y_pixels) {\n",
       "    // Request matplotlib to resize the figure. Matplotlib will then trigger a resize in the client,\n",
       "    // which will in turn request a refresh of the image.\n",
       "    this.send_message('resize', {'width': x_pixels, 'height': y_pixels});\n",
       "}\n",
       "\n",
       "mpl.figure.prototype.send_message = function(type, properties) {\n",
       "    properties['type'] = type;\n",
       "    properties['figure_id'] = this.id;\n",
       "    this.ws.send(JSON.stringify(properties));\n",
       "}\n",
       "\n",
       "mpl.figure.prototype.send_draw_message = function() {\n",
       "    if (!this.waiting) {\n",
       "        this.waiting = true;\n",
       "        this.ws.send(JSON.stringify({type: \"draw\", figure_id: this.id}));\n",
       "    }\n",
       "}\n",
       "\n",
       "\n",
       "mpl.figure.prototype.handle_save = function(fig, msg) {\n",
       "    var format_dropdown = fig.format_dropdown;\n",
       "    var format = format_dropdown.options[format_dropdown.selectedIndex].value;\n",
       "    fig.ondownload(fig, format);\n",
       "}\n",
       "\n",
       "\n",
       "mpl.figure.prototype.handle_resize = function(fig, msg) {\n",
       "    var size = msg['size'];\n",
       "    if (size[0] != fig.canvas.width || size[1] != fig.canvas.height) {\n",
       "        fig._resize_canvas(size[0], size[1]);\n",
       "        fig.send_message(\"refresh\", {});\n",
       "    };\n",
       "}\n",
       "\n",
       "mpl.figure.prototype.handle_rubberband = function(fig, msg) {\n",
       "    var x0 = msg['x0'] / mpl.ratio;\n",
       "    var y0 = (fig.canvas.height - msg['y0']) / mpl.ratio;\n",
       "    var x1 = msg['x1'] / mpl.ratio;\n",
       "    var y1 = (fig.canvas.height - msg['y1']) / mpl.ratio;\n",
       "    x0 = Math.floor(x0) + 0.5;\n",
       "    y0 = Math.floor(y0) + 0.5;\n",
       "    x1 = Math.floor(x1) + 0.5;\n",
       "    y1 = Math.floor(y1) + 0.5;\n",
       "    var min_x = Math.min(x0, x1);\n",
       "    var min_y = Math.min(y0, y1);\n",
       "    var width = Math.abs(x1 - x0);\n",
       "    var height = Math.abs(y1 - y0);\n",
       "\n",
       "    fig.rubberband_context.clearRect(\n",
       "        0, 0, fig.canvas.width / mpl.ratio, fig.canvas.height / mpl.ratio);\n",
       "\n",
       "    fig.rubberband_context.strokeRect(min_x, min_y, width, height);\n",
       "}\n",
       "\n",
       "mpl.figure.prototype.handle_figure_label = function(fig, msg) {\n",
       "    // Updates the figure title.\n",
       "    fig.header.textContent = msg['label'];\n",
       "}\n",
       "\n",
       "mpl.figure.prototype.handle_cursor = function(fig, msg) {\n",
       "    var cursor = msg['cursor'];\n",
       "    switch(cursor)\n",
       "    {\n",
       "    case 0:\n",
       "        cursor = 'pointer';\n",
       "        break;\n",
       "    case 1:\n",
       "        cursor = 'default';\n",
       "        break;\n",
       "    case 2:\n",
       "        cursor = 'crosshair';\n",
       "        break;\n",
       "    case 3:\n",
       "        cursor = 'move';\n",
       "        break;\n",
       "    }\n",
       "    fig.rubberband_canvas.style.cursor = cursor;\n",
       "}\n",
       "\n",
       "mpl.figure.prototype.handle_message = function(fig, msg) {\n",
       "    fig.message.textContent = msg['message'];\n",
       "}\n",
       "\n",
       "mpl.figure.prototype.handle_draw = function(fig, msg) {\n",
       "    // Request the server to send over a new figure.\n",
       "    fig.send_draw_message();\n",
       "}\n",
       "\n",
       "mpl.figure.prototype.handle_image_mode = function(fig, msg) {\n",
       "    fig.image_mode = msg['mode'];\n",
       "}\n",
       "\n",
       "mpl.figure.prototype.updated_canvas_event = function() {\n",
       "    // Called whenever the canvas gets updated.\n",
       "    this.send_message(\"ack\", {});\n",
       "}\n",
       "\n",
       "// A function to construct a web socket function for onmessage handling.\n",
       "// Called in the figure constructor.\n",
       "mpl.figure.prototype._make_on_message_function = function(fig) {\n",
       "    return function socket_on_message(evt) {\n",
       "        if (evt.data instanceof Blob) {\n",
       "            /* FIXME: We get \"Resource interpreted as Image but\n",
       "             * transferred with MIME type text/plain:\" errors on\n",
       "             * Chrome.  But how to set the MIME type?  It doesn't seem\n",
       "             * to be part of the websocket stream */\n",
       "            evt.data.type = \"image/png\";\n",
       "\n",
       "            /* Free the memory for the previous frames */\n",
       "            if (fig.imageObj.src) {\n",
       "                (window.URL || window.webkitURL).revokeObjectURL(\n",
       "                    fig.imageObj.src);\n",
       "            }\n",
       "\n",
       "            fig.imageObj.src = (window.URL || window.webkitURL).createObjectURL(\n",
       "                evt.data);\n",
       "            fig.updated_canvas_event();\n",
       "            fig.waiting = false;\n",
       "            return;\n",
       "        }\n",
       "        else if (typeof evt.data === 'string' && evt.data.slice(0, 21) == \"data:image/png;base64\") {\n",
       "            fig.imageObj.src = evt.data;\n",
       "            fig.updated_canvas_event();\n",
       "            fig.waiting = false;\n",
       "            return;\n",
       "        }\n",
       "\n",
       "        var msg = JSON.parse(evt.data);\n",
       "        var msg_type = msg['type'];\n",
       "\n",
       "        // Call the  \"handle_{type}\" callback, which takes\n",
       "        // the figure and JSON message as its only arguments.\n",
       "        try {\n",
       "            var callback = fig[\"handle_\" + msg_type];\n",
       "        } catch (e) {\n",
       "            console.log(\"No handler for the '\" + msg_type + \"' message type: \", msg);\n",
       "            return;\n",
       "        }\n",
       "\n",
       "        if (callback) {\n",
       "            try {\n",
       "                // console.log(\"Handling '\" + msg_type + \"' message: \", msg);\n",
       "                callback(fig, msg);\n",
       "            } catch (e) {\n",
       "                console.log(\"Exception inside the 'handler_\" + msg_type + \"' callback:\", e, e.stack, msg);\n",
       "            }\n",
       "        }\n",
       "    };\n",
       "}\n",
       "\n",
       "// from http://stackoverflow.com/questions/1114465/getting-mouse-location-in-canvas\n",
       "mpl.findpos = function(e) {\n",
       "    //this section is from http://www.quirksmode.org/js/events_properties.html\n",
       "    var targ;\n",
       "    if (!e)\n",
       "        e = window.event;\n",
       "    if (e.target)\n",
       "        targ = e.target;\n",
       "    else if (e.srcElement)\n",
       "        targ = e.srcElement;\n",
       "    if (targ.nodeType == 3) // defeat Safari bug\n",
       "        targ = targ.parentNode;\n",
       "\n",
       "    // jQuery normalizes the pageX and pageY\n",
       "    // pageX,Y are the mouse positions relative to the document\n",
       "    // offset() returns the position of the element relative to the document\n",
       "    var x = e.pageX - $(targ).offset().left;\n",
       "    var y = e.pageY - $(targ).offset().top;\n",
       "\n",
       "    return {\"x\": x, \"y\": y};\n",
       "};\n",
       "\n",
       "/*\n",
       " * return a copy of an object with only non-object keys\n",
       " * we need this to avoid circular references\n",
       " * http://stackoverflow.com/a/24161582/3208463\n",
       " */\n",
       "function simpleKeys (original) {\n",
       "  return Object.keys(original).reduce(function (obj, key) {\n",
       "    if (typeof original[key] !== 'object')\n",
       "        obj[key] = original[key]\n",
       "    return obj;\n",
       "  }, {});\n",
       "}\n",
       "\n",
       "mpl.figure.prototype.mouse_event = function(event, name) {\n",
       "    var canvas_pos = mpl.findpos(event)\n",
       "\n",
       "    if (name === 'button_press')\n",
       "    {\n",
       "        this.canvas.focus();\n",
       "        this.canvas_div.focus();\n",
       "    }\n",
       "\n",
       "    var x = canvas_pos.x * mpl.ratio;\n",
       "    var y = canvas_pos.y * mpl.ratio;\n",
       "\n",
       "    this.send_message(name, {x: x, y: y, button: event.button,\n",
       "                             step: event.step,\n",
       "                             guiEvent: simpleKeys(event)});\n",
       "\n",
       "    /* This prevents the web browser from automatically changing to\n",
       "     * the text insertion cursor when the button is pressed.  We want\n",
       "     * to control all of the cursor setting manually through the\n",
       "     * 'cursor' event from matplotlib */\n",
       "    event.preventDefault();\n",
       "    return false;\n",
       "}\n",
       "\n",
       "mpl.figure.prototype._key_event_extra = function(event, name) {\n",
       "    // Handle any extra behaviour associated with a key event\n",
       "}\n",
       "\n",
       "mpl.figure.prototype.key_event = function(event, name) {\n",
       "\n",
       "    // Prevent repeat events\n",
       "    if (name == 'key_press')\n",
       "    {\n",
       "        if (event.which === this._key)\n",
       "            return;\n",
       "        else\n",
       "            this._key = event.which;\n",
       "    }\n",
       "    if (name == 'key_release')\n",
       "        this._key = null;\n",
       "\n",
       "    var value = '';\n",
       "    if (event.ctrlKey && event.which != 17)\n",
       "        value += \"ctrl+\";\n",
       "    if (event.altKey && event.which != 18)\n",
       "        value += \"alt+\";\n",
       "    if (event.shiftKey && event.which != 16)\n",
       "        value += \"shift+\";\n",
       "\n",
       "    value += 'k';\n",
       "    value += event.which.toString();\n",
       "\n",
       "    this._key_event_extra(event, name);\n",
       "\n",
       "    this.send_message(name, {key: value,\n",
       "                             guiEvent: simpleKeys(event)});\n",
       "    return false;\n",
       "}\n",
       "\n",
       "mpl.figure.prototype.toolbar_button_onclick = function(name) {\n",
       "    if (name == 'download') {\n",
       "        this.handle_save(this, null);\n",
       "    } else {\n",
       "        this.send_message(\"toolbar_button\", {name: name});\n",
       "    }\n",
       "};\n",
       "\n",
       "mpl.figure.prototype.toolbar_button_onmouseover = function(tooltip) {\n",
       "    this.message.textContent = tooltip;\n",
       "};\n",
       "mpl.toolbar_items = [[\"Home\", \"Reset original view\", \"fa fa-home icon-home\", \"home\"], [\"Back\", \"Back to previous view\", \"fa fa-arrow-left icon-arrow-left\", \"back\"], [\"Forward\", \"Forward to next view\", \"fa fa-arrow-right icon-arrow-right\", \"forward\"], [\"\", \"\", \"\", \"\"], [\"Pan\", \"Pan axes with left mouse, zoom with right\", \"fa fa-arrows icon-move\", \"pan\"], [\"Zoom\", \"Zoom to rectangle\", \"fa fa-square-o icon-check-empty\", \"zoom\"], [\"\", \"\", \"\", \"\"], [\"Download\", \"Download plot\", \"fa fa-floppy-o icon-save\", \"download\"]];\n",
       "\n",
       "mpl.extensions = [\"eps\", \"jpeg\", \"pdf\", \"png\", \"ps\", \"raw\", \"svg\", \"tif\"];\n",
       "\n",
       "mpl.default_extension = \"png\";var comm_websocket_adapter = function(comm) {\n",
       "    // Create a \"websocket\"-like object which calls the given IPython comm\n",
       "    // object with the appropriate methods. Currently this is a non binary\n",
       "    // socket, so there is still some room for performance tuning.\n",
       "    var ws = {};\n",
       "\n",
       "    ws.close = function() {\n",
       "        comm.close()\n",
       "    };\n",
       "    ws.send = function(m) {\n",
       "        //console.log('sending', m);\n",
       "        comm.send(m);\n",
       "    };\n",
       "    // Register the callback with on_msg.\n",
       "    comm.on_msg(function(msg) {\n",
       "        //console.log('receiving', msg['content']['data'], msg);\n",
       "        // Pass the mpl event to the overridden (by mpl) onmessage function.\n",
       "        ws.onmessage(msg['content']['data'])\n",
       "    });\n",
       "    return ws;\n",
       "}\n",
       "\n",
       "mpl.mpl_figure_comm = function(comm, msg) {\n",
       "    // This is the function which gets called when the mpl process\n",
       "    // starts-up an IPython Comm through the \"matplotlib\" channel.\n",
       "\n",
       "    var id = msg.content.data.id;\n",
       "    // Get hold of the div created by the display call when the Comm\n",
       "    // socket was opened in Python.\n",
       "    var element = $(\"#\" + id);\n",
       "    var ws_proxy = comm_websocket_adapter(comm)\n",
       "\n",
       "    function ondownload(figure, format) {\n",
       "        window.open(figure.imageObj.src);\n",
       "    }\n",
       "\n",
       "    var fig = new mpl.figure(id, ws_proxy,\n",
       "                           ondownload,\n",
       "                           element.get(0));\n",
       "\n",
       "    // Call onopen now - mpl needs it, as it is assuming we've passed it a real\n",
       "    // web socket which is closed, not our websocket->open comm proxy.\n",
       "    ws_proxy.onopen();\n",
       "\n",
       "    fig.parent_element = element.get(0);\n",
       "    fig.cell_info = mpl.find_output_cell(\"<div id='\" + id + \"'></div>\");\n",
       "    if (!fig.cell_info) {\n",
       "        console.error(\"Failed to find cell for figure\", id, fig);\n",
       "        return;\n",
       "    }\n",
       "\n",
       "    var output_index = fig.cell_info[2]\n",
       "    var cell = fig.cell_info[0];\n",
       "\n",
       "};\n",
       "\n",
       "mpl.figure.prototype.handle_close = function(fig, msg) {\n",
       "    var width = fig.canvas.width/mpl.ratio\n",
       "    fig.root.unbind('remove')\n",
       "\n",
       "    // Update the output cell to use the data from the current canvas.\n",
       "    fig.push_to_output();\n",
       "    var dataURL = fig.canvas.toDataURL();\n",
       "    // Re-enable the keyboard manager in IPython - without this line, in FF,\n",
       "    // the notebook keyboard shortcuts fail.\n",
       "    IPython.keyboard_manager.enable()\n",
       "    $(fig.parent_element).html('<img src=\"' + dataURL + '\" width=\"' + width + '\">');\n",
       "    fig.close_ws(fig, msg);\n",
       "}\n",
       "\n",
       "mpl.figure.prototype.close_ws = function(fig, msg){\n",
       "    fig.send_message('closing', msg);\n",
       "    // fig.ws.close()\n",
       "}\n",
       "\n",
       "mpl.figure.prototype.push_to_output = function(remove_interactive) {\n",
       "    // Turn the data on the canvas into data in the output cell.\n",
       "    var width = this.canvas.width/mpl.ratio\n",
       "    var dataURL = this.canvas.toDataURL();\n",
       "    this.cell_info[1]['text/html'] = '<img src=\"' + dataURL + '\" width=\"' + width + '\">';\n",
       "}\n",
       "\n",
       "mpl.figure.prototype.updated_canvas_event = function() {\n",
       "    // Tell IPython that the notebook contents must change.\n",
       "    IPython.notebook.set_dirty(true);\n",
       "    this.send_message(\"ack\", {});\n",
       "    var fig = this;\n",
       "    // Wait a second, then push the new image to the DOM so\n",
       "    // that it is saved nicely (might be nice to debounce this).\n",
       "    setTimeout(function () { fig.push_to_output() }, 1000);\n",
       "}\n",
       "\n",
       "mpl.figure.prototype._init_toolbar = function() {\n",
       "    var fig = this;\n",
       "\n",
       "    var nav_element = $('<div/>');\n",
       "    nav_element.attr('style', 'width: 100%');\n",
       "    this.root.append(nav_element);\n",
       "\n",
       "    // Define a callback function for later on.\n",
       "    function toolbar_event(event) {\n",
       "        return fig.toolbar_button_onclick(event['data']);\n",
       "    }\n",
       "    function toolbar_mouse_event(event) {\n",
       "        return fig.toolbar_button_onmouseover(event['data']);\n",
       "    }\n",
       "\n",
       "    for(var toolbar_ind in mpl.toolbar_items){\n",
       "        var name = mpl.toolbar_items[toolbar_ind][0];\n",
       "        var tooltip = mpl.toolbar_items[toolbar_ind][1];\n",
       "        var image = mpl.toolbar_items[toolbar_ind][2];\n",
       "        var method_name = mpl.toolbar_items[toolbar_ind][3];\n",
       "\n",
       "        if (!name) { continue; };\n",
       "\n",
       "        var button = $('<button class=\"btn btn-default\" href=\"#\" title=\"' + name + '\"><i class=\"fa ' + image + ' fa-lg\"></i></button>');\n",
       "        button.click(method_name, toolbar_event);\n",
       "        button.mouseover(tooltip, toolbar_mouse_event);\n",
       "        nav_element.append(button);\n",
       "    }\n",
       "\n",
       "    // Add the status bar.\n",
       "    var status_bar = $('<span class=\"mpl-message\" style=\"text-align:right; float: right;\"/>');\n",
       "    nav_element.append(status_bar);\n",
       "    this.message = status_bar[0];\n",
       "\n",
       "    // Add the close button to the window.\n",
       "    var buttongrp = $('<div class=\"btn-group inline pull-right\"></div>');\n",
       "    var button = $('<button class=\"btn btn-mini btn-primary\" href=\"#\" title=\"Stop Interaction\"><i class=\"fa fa-power-off icon-remove icon-large\"></i></button>');\n",
       "    button.click(function (evt) { fig.handle_close(fig, {}); } );\n",
       "    button.mouseover('Stop Interaction', toolbar_mouse_event);\n",
       "    buttongrp.append(button);\n",
       "    var titlebar = this.root.find($('.ui-dialog-titlebar'));\n",
       "    titlebar.prepend(buttongrp);\n",
       "}\n",
       "\n",
       "mpl.figure.prototype._root_extra_style = function(el){\n",
       "    var fig = this\n",
       "    el.on(\"remove\", function(){\n",
       "\tfig.close_ws(fig, {});\n",
       "    });\n",
       "}\n",
       "\n",
       "mpl.figure.prototype._canvas_extra_style = function(el){\n",
       "    // this is important to make the div 'focusable\n",
       "    el.attr('tabindex', 0)\n",
       "    // reach out to IPython and tell the keyboard manager to turn it's self\n",
       "    // off when our div gets focus\n",
       "\n",
       "    // location in version 3\n",
       "    if (IPython.notebook.keyboard_manager) {\n",
       "        IPython.notebook.keyboard_manager.register_events(el);\n",
       "    }\n",
       "    else {\n",
       "        // location in version 2\n",
       "        IPython.keyboard_manager.register_events(el);\n",
       "    }\n",
       "\n",
       "}\n",
       "\n",
       "mpl.figure.prototype._key_event_extra = function(event, name) {\n",
       "    var manager = IPython.notebook.keyboard_manager;\n",
       "    if (!manager)\n",
       "        manager = IPython.keyboard_manager;\n",
       "\n",
       "    // Check for shift+enter\n",
       "    if (event.shiftKey && event.which == 13) {\n",
       "        this.canvas_div.blur();\n",
       "        event.shiftKey = false;\n",
       "        // Send a \"J\" for go to next cell\n",
       "        event.which = 74;\n",
       "        event.keyCode = 74;\n",
       "        manager.command_mode();\n",
       "        manager.handle_keydown(event);\n",
       "    }\n",
       "}\n",
       "\n",
       "mpl.figure.prototype.handle_save = function(fig, msg) {\n",
       "    fig.ondownload(fig, null);\n",
       "}\n",
       "\n",
       "\n",
       "mpl.find_output_cell = function(html_output) {\n",
       "    // Return the cell and output element which can be found *uniquely* in the notebook.\n",
       "    // Note - this is a bit hacky, but it is done because the \"notebook_saving.Notebook\"\n",
       "    // IPython event is triggered only after the cells have been serialised, which for\n",
       "    // our purposes (turning an active figure into a static one), is too late.\n",
       "    var cells = IPython.notebook.get_cells();\n",
       "    var ncells = cells.length;\n",
       "    for (var i=0; i<ncells; i++) {\n",
       "        var cell = cells[i];\n",
       "        if (cell.cell_type === 'code'){\n",
       "            for (var j=0; j<cell.output_area.outputs.length; j++) {\n",
       "                var data = cell.output_area.outputs[j];\n",
       "                if (data.data) {\n",
       "                    // IPython >= 3 moved mimebundle to data attribute of output\n",
       "                    data = data.data;\n",
       "                }\n",
       "                if (data['text/html'] == html_output) {\n",
       "                    return [cell, data, j];\n",
       "                }\n",
       "            }\n",
       "        }\n",
       "    }\n",
       "}\n",
       "\n",
       "// Register the function which deals with the matplotlib target/channel.\n",
       "// The kernel may be null if the page has been refreshed.\n",
       "if (IPython.notebook.kernel != null) {\n",
       "    IPython.notebook.kernel.comm_manager.register_target('matplotlib', mpl.mpl_figure_comm);\n",
       "}\n"
      ],
      "text/plain": [
       "<IPython.core.display.Javascript object>"
      ]
     },
     "metadata": {},
     "output_type": "display_data"
    },
    {
     "data": {
      "text/html": [
       "<img src=\"data:image/png;base64,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\" width=\"1000\">"
      ],
      "text/plain": [
       "<IPython.core.display.HTML object>"
      ]
     },
     "metadata": {},
     "output_type": "display_data"
    }
   ],
   "source": [
    "fig, axes = plt.subplots(ncols=7, nrows=2, figsize=(10, 6), sharey=True, constrained_layout=True)\n",
    "\n",
    "norm = colors.LogNorm()\n",
    "for i, (qtype, results) in enumerate(all_res.items()):\n",
    "    ax = axes[i // 7][i % 7]\n",
    "    img = ax.imshow(\n",
    "        np.array([stretch_tensor(results[k]).mean(dim=0).numpy() for k in mha_keys[:-1]]).T,\n",
    "        aspect='auto',\n",
    "        cmap='Greys_r',\n",
    "        # norm=norm,\n",
    "        # vmin=0, vmax=1,\n",
    "        # vmin=1e-5, vmax=1\n",
    "    )\n",
    "    ax.set_title(qtype)\n",
    "    ax.set_yticks([64 * i for i in range(4)])\n",
    "    ax.set_xticks(list(range(6)))\n",
    "    ax.set_xticklabels(['g_fc1', 'g_fc2', 'g_fc3', 'f_fc1', 'f_fc2', 'f_fc3'], rotation='vertical')\n",
    "    \n",
    "cax, kw = mpl.colorbar.make_axes([ax for ax in axes.flat[::-1]], aspect=75)\n",
    "cbar = plt.colorbar(img, cax=cax, aspect=1, **kw)\n",
    "\n",
    "axes[-1, -1].axis('off')\n",
    "# plt.tight_layout()\n",
    "# plt.axis('off')\n",
    "plt.show()"
   ]
  },
  {
   "cell_type": "code",
   "execution_count": 138,
   "metadata": {},
   "outputs": [
    {
     "data": {
      "text/plain": [
       "array([0.  , 0.05, 0.1 , 0.15, 0.2 , 0.25, 0.3 , 0.35, 0.4 , 0.45, 0.5 ,\n",
       "       0.55, 0.6 , 0.65, 0.7 , 0.75, 0.8 , 0.85, 0.9 , 0.95, 1.  ])"
      ]
     },
     "execution_count": 138,
     "metadata": {},
     "output_type": "execute_result"
    }
   ],
   "source": [
    "np.linspace(0, 1, 21)"
   ]
  },
  {
   "cell_type": "code",
   "execution_count": 165,
   "metadata": {},
   "outputs": [
    {
     "data": {
      "text/plain": [
       "(array([  0,   0,   0,   0,   0,   0, 153,  85,  18,   0]),\n",
       " array([0. , 0.1, 0.2, 0.3, 0.4, 0.5, 0.6, 0.7, 0.8, 0.9, 1. ]))"
      ]
     },
     "execution_count": 165,
     "metadata": {},
     "output_type": "execute_result"
    }
   ],
   "source": [
    "np.histogram(all_res['count']['mha_gc3'].mean(dim=0).numpy(), bins=np.linspace(0, 1, 11))"
   ]
  },
  {
   "cell_type": "code",
   "execution_count": 164,
   "metadata": {},
   "outputs": [
    {
     "data": {
      "text/plain": [
       "(array([   0,    0,    0,    0,    0,    0,  758, 1548,  254,    0]),\n",
       " array([0. , 0.1, 0.2, 0.3, 0.4, 0.5, 0.6, 0.7, 0.8, 0.9, 1. ]))"
      ]
     },
     "execution_count": 164,
     "metadata": {},
     "output_type": "execute_result"
    }
   ],
   "source": [
    "np.histogram(all_res['count']['mha_gc3'].numpy(), bins=np.linspace(0, 1, 11))"
   ]
  },
  {
   "cell_type": "code",
   "execution_count": 155,
   "metadata": {},
   "outputs": [
    {
     "data": {
      "text/plain": [
       "torch.Size([10, 256])"
      ]
     },
     "execution_count": 155,
     "metadata": {},
     "output_type": "execute_result"
    }
   ],
   "source": [
    "all_res['count']['mha_gc3'].size()"
   ]
  },
  {
   "cell_type": "code",
   "execution_count": 166,
   "metadata": {},
   "outputs": [
    {
     "data": {
      "text/plain": [
       "tensor([  0.,   0.,   0.,   0.,   0.,   0.,   0., 184.,  64.,   8.,   0.])"
      ]
     },
     "execution_count": 166,
     "metadata": {},
     "output_type": "execute_result"
    }
   ],
   "source": [
    "torch.histc(all_res['count']['mha_gc3'].mean(dim=0), min=0, max=1, bins=11)"
   ]
  },
  {
   "cell_type": "code",
   "execution_count": 167,
   "metadata": {},
   "outputs": [
    {
     "data": {
      "text/plain": [
       "tensor([  0.0000,   0.0000,   0.0000,   0.0000,   0.0000,   0.0000,   0.4000,\n",
       "        164.9000,  76.0000,  14.7000,   0.0000])"
      ]
     },
     "execution_count": 167,
     "metadata": {},
     "output_type": "execute_result"
    }
   ],
   "source": [
    "torch.stack([torch.histc(t , min=0, max=1, bins=11) for t in all_res['count']['mha_gc3']]).mean(dim=0)"
   ]
  },
  {
   "cell_type": "code",
   "execution_count": 168,
   "metadata": {},
   "outputs": [
    {
     "data": {
      "text/plain": [
       "tensor([ 0.0000,  0.0000,  0.0000,  0.0000,  0.0000,  0.0000,  0.5164, 59.7224,\n",
       "        48.5478, 14.5530,  0.0000])"
      ]
     },
     "execution_count": 168,
     "metadata": {},
     "output_type": "execute_result"
    }
   ],
   "source": [
    "torch.stack([torch.histc(t , min=0, max=1, bins=11) for t in all_res['count']['mha_gc3']]).std(dim=0)"
   ]
  },
  {
   "cell_type": "code",
   "execution_count": 231,
   "metadata": {},
   "outputs": [
    {
     "data": {
      "text/plain": [
       "(array([  0.,   0.,   0.,   0.,   0.,   0., 153.,  85.,  18.,   0.]),\n",
       " array([0. , 0.1, 0.2, 0.3, 0.4, 0.5, 0.6, 0.7, 0.8, 0.9, 1. ]),\n",
       " <a list of 10 Patch objects>)"
      ]
     },
     "execution_count": 231,
     "metadata": {},
     "output_type": "execute_result"
    },
    {
     "data": {
      "image/png": "[encoded data removed]",
      "text/plain": [
       "<Figure size 432x288 with 1 Axes>"
      ]
     },
     "metadata": {
      "needs_background": "light"
     },
     "output_type": "display_data"
    }
   ],
   "source": [
    "plt.hist(all_res['count']['mha_gc3'].mean(dim=0).numpy(), bins=np.linspace(0, 1, 11))"
   ]
  },
  {
   "cell_type": "code",
   "execution_count": 1,
   "metadata": {},
   "outputs": [],
   "source": [
    "%load_ext autoreload\n",
    "%autoreload 2"
   ]
  },
  {
   "cell_type": "code",
   "execution_count": 2,
   "metadata": {},
   "outputs": [],
   "source": [
    "import json\n",
    "import pickle\n",
    "\n",
    "import torch\n",
    "\n",
    "import numpy as np\n",
    "\n",
    "from matplotlib import colors\n",
    "import matplotlib as mpl\n",
    "import matplotlib.pyplot as plt\n",
    "\n",
    "from attrdict import AttrDict\n",
    "\n",
    "from model import RN\n",
    "from viz_utils import init_selected_datasets, load_model, compute_mid_results, get_all_metrics, mha_keys, identity_keys, plot_masks_per_qtype\n",
    "\n",
    "\n",
    "device = torch.device('cuda:0') if torch.cuda.is_available() else 'cpu'"
   ]
  },
  {
   "cell_type": "code",
   "execution_count": 3,
   "metadata": {},
   "outputs": [
    {
     "name": "stdout",
     "output_type": "stream",
     "text": [
      "0\n"
     ]
    },
    {
     "data": {
      "text/plain": [
       "'cpu'"
      ]
     },
     "execution_count": 3,
     "metadata": {},
     "output_type": "execute_result"
    }
   ],
   "source": [
    "print(torch.cuda.device_count())\n",
    "device"
   ]
  },
  {
   "cell_type": "code",
   "execution_count": 4,
   "metadata": {},
   "outputs": [
    {
     "name": "stdout",
     "output_type": "stream",
     "text": [
      "==> using cached questions: questions/CLEVR_val_questions.pkl\n"
     ]
    }
   ],
   "source": [
    "selected_ds_per_qtype, dictionaries = init_selected_datasets(\n",
    "    # '/mnt/nas2/GrimaRepo/datasets/CLEVR_v1.0',\n",
    "    '/Users/sebamenabar/Documents/datasets/CLEVR/CLEVR_v1.0/',\n",
    "    # '/home/fcorencoret/RelationNetworks-CLEVR/questions/CLEVR_built_dictionaries.pkl',\n",
    "    'viz/CLEVR_built_dictionaries.pkl',\n",
    "    'viz/selected_idxs_per_qtype.json',\n",
    ")\n",
    "\n",
    "with open('config.json', 'r') as f:\n",
    "    hyp = json.load(f)['hyperparams']['original-fp']\n",
    "    \n",
    "qtypes = list(selected_ds_per_qtype.keys())\n",
    "\n",
    "args = AttrDict()\n",
    "args.qdict_size = len(dictionaries[0])\n",
    "args.adict_size = len(dictionaries[1])"
   ]
  },
  {
   "cell_type": "code",
   "execution_count": 19,
   "metadata": {},
   "outputs": [
    {
     "name": "stdout",
     "output_type": "stream",
     "text": [
      "Supposing original DeepMind model\n"
     ]
    }
   ],
   "source": [
    "model = load_model(\n",
    "    RN(args, hyp),\n",
    "    # '/mnt/nas2/GrimaRepo/jahurtado/codes/dynamic-rn/Norm_learn_reg_sb_0.1/best_weights.pth',\n",
    "    [device],\n",
    ")"
   ]
  },
  {
   "cell_type": "code",
   "execution_count": 5,
   "metadata": {},
   "outputs": [
    {
     "name": "stdout",
     "output_type": "stream",
     "text": [
      "Supposing original DeepMind model\n"
     ]
    }
   ],
   "source": [
    "model = RN(args, hyp)"
   ]
  },
  {
   "cell_type": "code",
   "execution_count": 6,
   "metadata": {},
   "outputs": [
    {
     "data": {
      "application/vnd.jupyter.widget-view+json": {
       "model_id": "7ddb4b4703dc4ab3ab94299f54ceaab7",
       "version_major": 2,
       "version_minor": 0
      },
      "text/plain": [
       "HBox(children=(IntProgress(value=0, max=13), HTML(value='')))"
      ]
     },
     "metadata": {},
     "output_type": "display_data"
    },
    {
     "data": {
      "application/vnd.jupyter.widget-view+json": {
       "model_id": "26a8d696710b49dcbdeb86b9e4a67985",
       "version_major": 2,
       "version_minor": 0
      },
      "text/plain": [
       "HBox(children=(IntProgress(value=0, max=1), HTML(value='')))"
      ]
     },
     "metadata": {},
     "output_type": "display_data"
    },
    {
     "data": {
      "application/vnd.jupyter.widget-view+json": {
       "model_id": "7b0848962752416a8570fe8aeef38c5d",
       "version_major": 2,
       "version_minor": 0
      },
      "text/plain": [
       "HBox(children=(IntProgress(value=0, max=1), HTML(value='')))"
      ]
     },
     "metadata": {},
     "output_type": "display_data"
    },
    {
     "data": {
      "application/vnd.jupyter.widget-view+json": {
       "model_id": "6ab7b8d6f4f84da38432e71e821884e6",
       "version_major": 2,
       "version_minor": 0
      },
      "text/plain": [
       "HBox(children=(IntProgress(value=0, max=1), HTML(value='')))"
      ]
     },
     "metadata": {},
     "output_type": "display_data"
    },
    {
     "data": {
      "application/vnd.jupyter.widget-view+json": {
       "model_id": "c45703c01b21430492a47787382a0158",
       "version_major": 2,
       "version_minor": 0
      },
      "text/plain": [
       "HBox(children=(IntProgress(value=0, max=1), HTML(value='')))"
      ]
     },
     "metadata": {},
     "output_type": "display_data"
    },
    {
     "data": {
      "application/vnd.jupyter.widget-view+json": {
       "model_id": "04cb631eaa78420582d3fc268ef9a403",
       "version_major": 2,
       "version_minor": 0
      },
      "text/plain": [
       "HBox(children=(IntProgress(value=0, max=1), HTML(value='')))"
      ]
     },
     "metadata": {},
     "output_type": "display_data"
    },
    {
     "data": {
      "application/vnd.jupyter.widget-view+json": {
       "model_id": "c8f42ac95b31435cbf9b639304a26135",
       "version_major": 2,
       "version_minor": 0
      },
      "text/plain": [
       "HBox(children=(IntProgress(value=0, max=1), HTML(value='')))"
      ]
     },
     "metadata": {},
     "output_type": "display_data"
    },
    {
     "data": {
      "application/vnd.jupyter.widget-view+json": {
       "model_id": "26df9a99cd2d4b62beb0ac3c86f4a0f9",
       "version_major": 2,
       "version_minor": 0
      },
      "text/plain": [
       "HBox(children=(IntProgress(value=0, max=1), HTML(value='')))"
      ]
     },
     "metadata": {},
     "output_type": "display_data"
    },
    {
     "data": {
      "application/vnd.jupyter.widget-view+json": {
       "model_id": "109e7c3fd41244c99dc40b9ba9c7eaed",
       "version_major": 2,
       "version_minor": 0
      },
      "text/plain": [
       "HBox(children=(IntProgress(value=0, max=1), HTML(value='')))"
      ]
     },
     "metadata": {},
     "output_type": "display_data"
    },
    {
     "data": {
      "application/vnd.jupyter.widget-view+json": {
       "model_id": "f0771cb74f3e43a5b48f8e4bc78b4563",
       "version_major": 2,
       "version_minor": 0
      },
      "text/plain": [
       "HBox(children=(IntProgress(value=0, max=1), HTML(value='')))"
      ]
     },
     "metadata": {},
     "output_type": "display_data"
    },
    {
     "data": {
      "application/vnd.jupyter.widget-view+json": {
       "model_id": "05474f4b949245e3934d52b1fda52a64",
       "version_major": 2,
       "version_minor": 0
      },
      "text/plain": [
       "HBox(children=(IntProgress(value=0, max=1), HTML(value='')))"
      ]
     },
     "metadata": {},
     "output_type": "display_data"
    },
    {
     "data": {
      "application/vnd.jupyter.widget-view+json": {
       "model_id": "7cf8acfd23ae497091c84162fc7a46cb",
       "version_major": 2,
       "version_minor": 0
      },
      "text/plain": [
       "HBox(children=(IntProgress(value=0, max=1), HTML(value='')))"
      ]
     },
     "metadata": {},
     "output_type": "display_data"
    },
    {
     "data": {
      "application/vnd.jupyter.widget-view+json": {
       "model_id": "470bf0fa74294f988176a134e205d5a9",
       "version_major": 2,
       "version_minor": 0
      },
      "text/plain": [
       "HBox(children=(IntProgress(value=0, max=1), HTML(value='')))"
      ]
     },
     "metadata": {},
     "output_type": "display_data"
    },
    {
     "data": {
      "application/vnd.jupyter.widget-view+json": {
       "model_id": "5bf610b77e8441faa3a83b0a799b8984",
       "version_major": 2,
       "version_minor": 0
      },
      "text/plain": [
       "HBox(children=(IntProgress(value=0, max=1), HTML(value='')))"
      ]
     },
     "metadata": {},
     "output_type": "display_data"
    },
    {
     "name": "stdout",
     "output_type": "stream",
     "text": [
      "\n"
     ]
    }
   ],
   "source": [
    "res = compute_mid_results(\n",
    "    model,\n",
    "    selected_ds_per_qtype,\n",
    "    bsz=128,\n",
    "    device=device,\n",
    "    samples_per_qtype=2,\n",
    "    with_identity=False,\n",
    ")"
   ]
  },
  {
   "cell_type": "code",
   "execution_count": 37,
   "metadata": {},
   "outputs": [
    {
     "data": {
      "image/png": "[encoded data removed]",
      "text/plain": [
       "<Figure size 864x1152 with 12 Axes>"
      ]
     },
     "metadata": {
      "needs_background": "light"
     },
     "output_type": "display_data"
    }
   ],
   "source": [
    "fig, axes = plot_masks_per_qtype(res, adict=dictionaries[1])"
   ]
  },
  {
   "cell_type": "code",
   "execution_count": 29,
   "metadata": {},
   "outputs": [
    {
     "name": "stdout",
     "output_type": "stream",
     "text": [
      "Supposing original DeepMind model\n"
     ]
    }
   ],
   "source": [
    "model2 = load_model(\n",
    "    RN(args, hyp),\n",
    "    '/mnt/nas2/GrimaRepo/jahurtado/codes/dynamic-rn/Norm_reg_sb_0.1/best_weights.pth',\n",
    "    device_ids=[device],\n",
    "    data_parallel=True,\n",
    ")"
   ]
  },
  {
   "cell_type": "code",
   "execution_count": 34,
   "metadata": {},
   "outputs": [
    {
     "data": {
      "text/plain": [
       "device(type='cuda', index=0)"
      ]
     },
     "execution_count": 34,
     "metadata": {},
     "output_type": "execute_result"
    }
   ],
   "source": [
    "device"
   ]
  },
  {
   "cell_type": "code",
   "execution_count": 35,
   "metadata": {},
   "outputs": [
    {
     "name": "stdout",
     "output_type": "stream",
     "text": [
      "Supposing original DeepMind model\n"
     ]
    },
    {
     "data": {
      "application/vnd.jupyter.widget-view+json": {
       "model_id": "18e100d9083540e79f5e07a70875788e",
       "version_major": 2,
       "version_minor": 0
      },
      "text/plain": [
       "HBox(children=(IntProgress(value=0, max=13), HTML(value='')))"
      ]
     },
     "metadata": {},
     "output_type": "display_data"
    },
    {
     "data": {
      "application/vnd.jupyter.widget-view+json": {
       "model_id": "c54ae81a1c5141a389f831b205e5bc01",
       "version_major": 2,
       "version_minor": 0
      },
      "text/plain": [
       "HBox(children=(IntProgress(value=0, max=2), HTML(value='')))"
      ]
     },
     "metadata": {},
     "output_type": "display_data"
    },
    {
     "data": {
      "application/vnd.jupyter.widget-view+json": {
       "model_id": "53a497f265404e599d8c53ce8d4a875b",
       "version_major": 2,
       "version_minor": 0
      },
      "text/plain": [
       "HBox(children=(IntProgress(value=0, max=2), HTML(value='')))"
      ]
     },
     "metadata": {},
     "output_type": "display_data"
    },
    {
     "data": {
      "application/vnd.jupyter.widget-view+json": {
       "model_id": "2368f63b67e14acfba63f6a45c4097b2",
       "version_major": 2,
       "version_minor": 0
      },
      "text/plain": [
       "HBox(children=(IntProgress(value=0, max=2), HTML(value='')))"
      ]
     },
     "metadata": {},
     "output_type": "display_data"
    },
    {
     "data": {
      "application/vnd.jupyter.widget-view+json": {
       "model_id": "b9eb7af88c1e4b8bb695e040d2f1c3a6",
       "version_major": 2,
       "version_minor": 0
      },
      "text/plain": [
       "HBox(children=(IntProgress(value=0, max=2), HTML(value='')))"
      ]
     },
     "metadata": {},
     "output_type": "display_data"
    },
    {
     "data": {
      "application/vnd.jupyter.widget-view+json": {
       "model_id": "a895eeec4963484dad502c9edbae335f",
       "version_major": 2,
       "version_minor": 0
      },
      "text/plain": [
       "HBox(children=(IntProgress(value=0, max=2), HTML(value='')))"
      ]
     },
     "metadata": {},
     "output_type": "display_data"
    },
    {
     "data": {
      "application/vnd.jupyter.widget-view+json": {
       "model_id": "f80c5416ff764294bd59f98a4468f40e",
       "version_major": 2,
       "version_minor": 0
      },
      "text/plain": [
       "HBox(children=(IntProgress(value=0, max=2), HTML(value='')))"
      ]
     },
     "metadata": {},
     "output_type": "display_data"
    },
    {
     "data": {
      "application/vnd.jupyter.widget-view+json": {
       "model_id": "f5dc31e21f1d460a967f10e3f434910d",
       "version_major": 2,
       "version_minor": 0
      },
      "text/plain": [
       "HBox(children=(IntProgress(value=0, max=2), HTML(value='')))"
      ]
     },
     "metadata": {},
     "output_type": "display_data"
    },
    {
     "data": {
      "application/vnd.jupyter.widget-view+json": {
       "model_id": "b73fc75f637e4b828591747dca720b56",
       "version_major": 2,
       "version_minor": 0
      },
      "text/plain": [
       "HBox(children=(IntProgress(value=0, max=2), HTML(value='')))"
      ]
     },
     "metadata": {},
     "output_type": "display_data"
    },
    {
     "data": {
      "application/vnd.jupyter.widget-view+json": {
       "model_id": "e657578f1a69470c8b360b5059158521",
       "version_major": 2,
       "version_minor": 0
      },
      "text/plain": [
       "HBox(children=(IntProgress(value=0, max=2), HTML(value='')))"
      ]
     },
     "metadata": {},
     "output_type": "display_data"
    },
    {
     "data": {
      "application/vnd.jupyter.widget-view+json": {
       "model_id": "457bb5da78a241588d3dbf0a84d6f4f3",
       "version_major": 2,
       "version_minor": 0
      },
      "text/plain": [
       "HBox(children=(IntProgress(value=0, max=2), HTML(value='')))"
      ]
     },
     "metadata": {},
     "output_type": "display_data"
    },
    {
     "data": {
      "application/vnd.jupyter.widget-view+json": {
       "model_id": "9031f2aa15dc465db34daa726087e5d7",
       "version_major": 2,
       "version_minor": 0
      },
      "text/plain": [
       "HBox(children=(IntProgress(value=0, max=2), HTML(value='')))"
      ]
     },
     "metadata": {},
     "output_type": "display_data"
    },
    {
     "data": {
      "application/vnd.jupyter.widget-view+json": {
       "model_id": "e36ce51d4f38456e93174d11cb5d65bf",
       "version_major": 2,
       "version_minor": 0
      },
      "text/plain": [
       "HBox(children=(IntProgress(value=0, max=2), HTML(value='')))"
      ]
     },
     "metadata": {},
     "output_type": "display_data"
    },
    {
     "data": {
      "application/vnd.jupyter.widget-view+json": {
       "model_id": "d45ade7d26834e5492ee402128dcc97f",
       "version_major": 2,
       "version_minor": 0
      },
      "text/plain": [
       "HBox(children=(IntProgress(value=0, max=2), HTML(value='')))"
      ]
     },
     "metadata": {},
     "output_type": "display_data"
    }
   ],
   "source": [
    "model2 = RN(args, hyp)\n",
    "model2.cuda()\n",
    "res2 = compute_mid_results(\n",
    "    model2,\n",
    "    selected_ds_per_qtype,\n",
    "    bsz=128,\n",
    "    device=device,\n",
    "    samples_per_qtype=256,\n",
    "    with_identity=False,\n",
    ")"
   ]
  },
  {
   "cell_type": "code",
   "execution_count": 36,
   "metadata": {},
   "outputs": [
    {
     "data": {
      "image/png": "[encoded data removed]",
      "text/plain": [
       "<Figure size 864x1152 with 12 Axes>"
      ]
     },
     "metadata": {
      "needs_background": "light"
     },
     "output_type": "display_data"
    }
   ],
   "source": [
    "plot_masks_per_qtype(res2)"
   ]
  },
  {
   "cell_type": "code",
   "execution_count": 24,
   "metadata": {},
   "outputs": [],
   "source": [
    "from utils import collate_samples_from_pixels\n",
    "from torch.utils.data import DataLoader\n",
    "\n",
    "from viz_utils import _mha_return_layers\n",
    "from viz.IntermediateLayerGetter import rgetattr"
   ]
  },
  {
   "cell_type": "code",
   "execution_count": 16,
   "metadata": {},
   "outputs": [
    {
     "data": {
      "text/plain": [
       "MultiheadAttention(\n",
       "  (out_proj): Linear(in_features=256, out_features=256, bias=True)\n",
       ")"
      ]
     },
     "execution_count": 16,
     "metadata": {},
     "output_type": "execute_result"
    }
   ],
   "source": [
    "rgetattr(model2, 'rl.mha_fc1')"
   ]
  },
  {
   "cell_type": "code",
   "execution_count": 25,
   "metadata": {},
   "outputs": [],
   "source": [
    "loader = DataLoader(selected_ds_per_qtype['count'], batch_size=2, collate_fn=collate_samples_from_pixels)"
   ]
  },
  {
   "cell_type": "code",
   "execution_count": 27,
   "metadata": {},
   "outputs": [],
   "source": [
    "b = next(iter(loader))"
   ]
  },
  {
   "cell_type": "code",
   "execution_count": 28,
   "metadata": {},
   "outputs": [
    {
     "data": {
      "text/plain": [
       "tensor([[29, 60, 16, 15,  6,  1,  2, 16, 17, 18, 19, 20, 17, 21, 23, 24, 12],\n",
       "        [13, 14, 15,  6,  1,  2, 16, 17, 18, 30, 20, 17,  4, 43, 12,  0,  0]])"
      ]
     },
     "execution_count": 28,
     "metadata": {},
     "output_type": "execute_result"
    }
   ],
   "source": [
    "b['question']"
   ]
  },
  {
   "cell_type": "code",
   "execution_count": null,
   "metadata": {},
   "outputs": [],
   "source": []
  },
  {
   "cell_type": "code",
   "execution_count": null,
   "metadata": {},
   "outputs": [],
   "source": []
  },
  {
   "cell_type": "code",
   "execution_count": null,
   "metadata": {},
   "outputs": [],
   "source": []
  },
  {
   "cell_type": "code",
   "execution_count": null,
   "metadata": {},
   "outputs": [],
   "source": []
  },
  {
   "cell_type": "code",
   "execution_count": null,
   "metadata": {},
   "outputs": [],
   "source": []
  },
  {
   "cell_type": "code",
   "execution_count": 48,
   "metadata": {},
   "outputs": [],
   "source": [
    "metrics = get_all_metrics(res)"
   ]
  },
  {
   "cell_type": "code",
   "execution_count": 56,
   "metadata": {},
   "outputs": [
    {
     "data": {
      "text/plain": [
       "(tensor([  0.0000,   0.0000,   0.0000,   0.0000,   0.0000,   0.0000,   0.0000,\n",
       "           2.8555,  66.4062, 185.7852,   0.9531]),\n",
       " tensor([  0.0000,   0.0000,   0.0000,   0.0000,   0.0000,   0.0000,   0.0000,\n",
       "          26.2968, 108.1159, 109.2636,   1.7121]))"
      ]
     },
     "execution_count": 56,
     "metadata": {},
     "output_type": "execute_result"
    }
   ],
   "source": [
    "metrics['metrics_per_qtype']['count']['mha_gc1']['histograms_mean'], metrics['metrics_per_qtype']['count']['mha_gc1']['histograms_std']"
   ]
  },
  {
   "cell_type": "code",
   "execution_count": 64,
   "metadata": {},
   "outputs": [
    {
     "data": {
      "text/plain": [
       "tensor([33., 18., 24., 17., 21., 21., 24., 33., 18., 23., 24.])"
      ]
     },
     "execution_count": 64,
     "metadata": {},
     "output_type": "execute_result"
    }
   ],
   "source": [
    "torch.histc(torch.empty(1, 256).uniform_(0, 1), min=0, max=1, bins=11)"
   ]
  },
  {
   "cell_type": "code",
   "execution_count": 69,
   "metadata": {},
   "outputs": [
    {
     "data": {
      "text/plain": [
       "(array([30, 27, 18, 27, 27, 30, 26, 25, 20, 26]),\n",
       " array([0. , 0.1, 0.2, 0.3, 0.4, 0.5, 0.6, 0.7, 0.8, 0.9, 1. ]))"
      ]
     },
     "execution_count": 69,
     "metadata": {},
     "output_type": "execute_result"
    }
   ],
   "source": [
    "np.histogram(np.random.uniform(0, 1, size=(256)), bins=np.linspace(0, 1, 11))"
   ]
  },
  {
   "cell_type": "code",
   "execution_count": null,
   "metadata": {},
   "outputs": [],
   "source": [
    "np"
   ]
  }
 ],
 "metadata": {
  "kernelspec": {
   "display_name": "Python 3",
   "language": "python",
   "name": "python3"
  },
  "language_info": {
   "codemirror_mode": {
    "name": "ipython",
    "version": 3
   },
   "file_extension": ".py",
   "mimetype": "text/x-python",
   "name": "python",
   "nbconvert_exporter": "python",
   "pygments_lexer": "ipython3",
   "version": "3.7.4"
  },
  "latex_envs": {
   "LaTeX_envs_menu_present": true,
   "autoclose": false,
   "autocomplete": true,
   "bibliofile": "biblio.bib",
   "cite_by": "apalike",
   "current_citInitial": 1,
   "eqLabelWithNumbers": true,
   "eqNumInitial": 1,
   "hotkeys": {
    "equation": "Ctrl-E",
    "itemize": "Ctrl-I"
   },
   "labels_anchors": false,
   "latex_user_defs": false,
   "report_style_numbering": false,
   "user_envs_cfg": false
  },
  "varInspector": {
   "cols": {
    "lenName": 16,
    "lenType": 16,
    "lenVar": 40
   },
   "kernels_config": {
    "python": {
     "delete_cmd_postfix": "",
     "delete_cmd_prefix": "del ",
     "library": "var_list.py",
     "varRefreshCmd": "print(var_dic_list())"
    },
    "r": {
     "delete_cmd_postfix": ") ",
     "delete_cmd_prefix": "rm(",
     "library": "var_list.r",
     "varRefreshCmd": "cat(var_dic_list()) "
    }
   },
   "types_to_exclude": [
    "module",
    "function",
    "builtin_function_or_method",
    "instance",
    "_Feature"
   ],
   "window_display": false
  }
 },
 "nbformat": 4,
 "nbformat_minor": 2
}
